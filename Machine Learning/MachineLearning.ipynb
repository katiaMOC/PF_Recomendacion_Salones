{
 "cells": [
  {
   "cell_type": "code",
   "execution_count": 196,
   "metadata": {},
   "outputs": [],
   "source": [
    "#importacion de librerias\n",
    "import pandas as pd\n",
    "import numpy as np\n",
    "import ast\n",
    "#para el inicio sin datos\n",
    "import random\n",
    "\n",
    "#para el modelo\n",
    "from sklearn.metrics.pairwise import cosine_similarity"
   ]
  },
  {
   "cell_type": "markdown",
   "metadata": {},
   "source": [
    "# Apertura de archivos"
   ]
  },
  {
   "cell_type": "code",
   "execution_count": 194,
   "metadata": {},
   "outputs": [],
   "source": [
    "businessy = pd.read_csv('C_Business.csv')\n",
    "businessry = pd.read_csv('C_Reviews.csv')\n",
    "users = pd.read_csv('Users.csv')\n"
   ]
  },
  {
   "cell_type": "markdown",
   "metadata": {},
   "source": [
    "# Creación de categorias para el modelo\n",
    "Se crean varias categorias del analisis del texto de los comentarios, para entrenar el modelo de machine learning con mayor información"
   ]
  },
  {
   "cell_type": "markdown",
   "metadata": {},
   "source": [
    "## Categoria interaccion\n",
    "Se usa para medir la interacion de los demas usuario de yelp con cada usuario en particular, no se incluye rate. ya que se incluira el rate pero por negocio en particular, a travez del rate que esta en los reviews."
   ]
  },
  {
   "cell_type": "code",
   "execution_count": 100,
   "metadata": {},
   "outputs": [],
   "source": [
    "#Crea la categoria interaccion de la suma de columnas de varias colunmas de interaccion entre el numero de comentarios por usuario\n",
    "usery['interaccion'] = ( usery['useful'] + usery['funny'] + usery['cool'] + usery['fans'] / usery['review_count'] )\n",
    "\n",
    "\n",
    "#Creacion de la categoria binaria \n",
    "#valor de la mediana\n",
    "mediana_interaccion = usery['interaccion'].median()\n",
    "#Se inicializa la columna con el valor 0\n",
    "usery['cat_interaccion'] = 0 \n",
    "#Agrega 1 a la nueva columna cuando interaccion es mayor que su mediana\n",
    "usery.loc[usery['interaccion'] > mediana_interaccion*(4/5), 'cat_interaccion'] = 1\n",
    "#borra la columna interaccion\n",
    "usery.drop(columns={'interaccion'}, axis=1, inplace=True)"
   ]
  },
  {
   "cell_type": "markdown",
   "metadata": {},
   "source": [
    "## Categoria elite\n",
    "Se hace un analisis de las palabras de los reviews, con palabras que le dan cieta categoria a los salones.\n"
   ]
  },
  {
   "cell_type": "code",
   "execution_count": 101,
   "metadata": {},
   "outputs": [],
   "source": [
    "#lista de palabras para la categoria elite\n",
    "lista_palabras = [\"great experience\",  \"great\",  \"happy\",  \"trust\",  \"designs\",  \"exactly what i wanted\", \"exactly\", \"wanted\", \"extremely talented\", \"talented\",\n",
    "\"amazing work\", \" amazing\", \"immediatel\", \"extremely nice\", \"nice\", \"very precisely\", \"precisely\", \"fastest\", \"spacious salon\", \"spacious\", \"wine\", \"chocolate\",\n",
    "\"soda\", \"friendly\", \"fantastic stylist\", \"fantastic\", \"great pedicurist\", \"great pedicure\", \"perfect\", \"absolutely amazing\", \"amazing\",\"highly recommend\",\n",
    "\"very clean\", \"clean\", \"very relaxing\", \"relaxing\", \"thank\", \"great experience\", \"was awesome\", \"awesome\", \"unique\", \"place unique\", \"great\", \"customer\", \"service\"\n",
    "\"luxurious\", \"luxury\", \"spa\", \"spas\", \"genuinely\", \"helpful\", \"sweet\", \"love\", \"loved\", \"talented\", \"excellent\", \"best\", \"originally\", \"original\", \"Organized\" ]\n",
    "\n",
    "#pasa las palabras de la lista a minusculas\n",
    "lista_palabras = [palabra.lower() for palabra in lista_palabras]\n",
    "\n",
    "#Hace la comparacion de cada palabara de la lista en los textos de los comentarios,\n",
    "#cuenta cuantas veces aparece una palabra de la lista por comentario, se guarda en una lista y se agrega al daraframe\n",
    "lista=[]\n",
    "for l in range(0,len(businessry)):\n",
    "    count = 0\n",
    "    for i,k in enumerate(lista_palabras):\n",
    "\n",
    "         if k in list(businessry['text'].iloc[l].lower().replace(',','').replace('.','').split()):\n",
    "            count =+1\n",
    "    lista.append(count)   \n",
    "businessry['elite'] = pd.DataFrame(lista)        \n",
    "\n",
    "#crea la columna final cat_elite\n",
    "businessry['cat_elite'] = 0 \n",
    "#Agrega 1 a la nueva columna cuando limpieza es mayor que 1\n",
    "businessry.loc[businessry['elite'] >= 1, 'cat_elite'] = 1\n",
    "#borra la columna limpieza\n",
    "businessry.drop(columns={'elite'}, axis=1, inplace=True)"
   ]
  },
  {
   "cell_type": "markdown",
   "metadata": {},
   "source": [
    "## Categoria limpieza\n",
    "analisa palabras que estan relacionadas con la limpieza del salon."
   ]
  },
  {
   "cell_type": "code",
   "execution_count": 102,
   "metadata": {},
   "outputs": [],
   "source": [
    "#lista de palabras para la categoria Limpieza\n",
    "lista_palabras = [\"Cleanliness\", \"Sanitary\", \"Hygienic\", \"Organized\", \"Tidy\", \"Neat\", \"Sterile\", \"Spotless\", \"Immaculate\", \"Orderly\",\"Clean\",\n",
    "\"Well maintained\", \"Squeaky clean\", \"Clutter free\", \"Pristine\", \"Fresh\", \"Spacious\", \"Meticulous\", \"Well groomed\",\"Freshly\",\n",
    "\"Well kept\", \"Structured\", \"Efficient\", \"Methodical\", \"Systematic\", \"Arranged\", \"Presentable\", \"Gleaming\", \"Polished\",\n",
    "\"Crystalline\", \"Aseptic\", \"Uncluttered\", \"Sleek\", \"Trim\", \"Groomed\", \"Hygienized\", \"Disinfected\", \"Tended\", \"Spartan\",\n",
    "\"Trimmed\", \"Kempt\", \"Slick\", \"Unblemished\", \"Clear\", \"Unsoiled\", \"Unspoiled\", \"Unblemished\", \"Aseptic\", \"Trimmed\", \"Shining\"]\n",
    "\n",
    "#pasa las palabras de la lista a minusculas\n",
    "lista_palabras = [palabra.lower() for palabra in lista_palabras]\n",
    "\n",
    "#Hace la comparacion de cada palabara de la lista en los textos de los comentarios,\n",
    "#cuenta cuantas veces aparece una palabra de la lista por comentario, se guarda en una lista y se agrega al daraframe\n",
    "lista=[]\n",
    "for l in range(0,len(businessry)):\n",
    "    count = 0\n",
    "    for i,k in enumerate(lista_palabras):\n",
    "\n",
    "         if k in list(businessry['text'].iloc[l].lower().replace(',','').replace('.','').split()):\n",
    "            count =+1\n",
    "    lista.append(count)   \n",
    "businessry['limpieza'] = pd.DataFrame(lista)        \n",
    "\n",
    "#crea la columna final cat_limpieza\n",
    "businessry['cat_limpieza'] = 0 \n",
    "#Agrega 1 a la nueva columna cuando limpieza es mayor que 1\n",
    "businessry.loc[businessry['limpieza'] >= 1, 'cat_limpieza'] = 1\n",
    "#borra la columna limpieza\n",
    "businessry.drop(columns={'limpieza'}, axis=1, inplace=True)"
   ]
  },
  {
   "cell_type": "markdown",
   "metadata": {},
   "source": [
    "## Categoria ambiente\n",
    "analisa como esta el ambiente emocional del salon, como es el trato a los usuarios."
   ]
  },
  {
   "cell_type": "code",
   "execution_count": 103,
   "metadata": {},
   "outputs": [],
   "source": [
    "#lista de palabras para la categoria Limpieza\n",
    "lista_palabras = [\"Courteous\", \"Polite\", \"Friendly\", \"Welcoming\", \"Attentive\", \"Respectful\", \"Helpful\", \"Warm\", \"Cordial\",\n",
    "\"Approachable\", \"Customer focused\", \"Personable\", \"Service oriented\", \"Professional\", \"Amiable\", \"Cheerful\",\n",
    "\"Considerate\", \"Kind\", \"Patient\", \"Understanding\", \"Responsive\", \"Empathetic\", \"Courageous\", \"Generous\",\n",
    "\"Gracious\", \"Grateful\", \"Hospitable\", \"Inviting\", \"Gratifying\", \"Pleasant\", \"Thoughtful\", \"Customer centric\",\n",
    "\"Gratifying\", \"Obliging\", \"Sociable\", \"Affable\", \"Gentle\", \"Good humored\", \"Grateful\", \"Amicable\", \"Engaging\",\n",
    "\"Enthusiastic\", \"Good-natured\", \"Grateful\", \"Sociable\", \"Amicable\", \"Charming\", \"Compassionate\", \"Cooperative\"]\n",
    "\n",
    "\n",
    "#pasa las palabras de la lista a minusculas\n",
    "lista_palabras = [palabra.lower() for palabra in lista_palabras]\n",
    "\n",
    "#Hace la comparacion de cada palabara de la lista en los textos de los comentarios,\n",
    "#cuenta cuantas veces aparece una palabra de la lista por comentario, se guarda en una lista y se agrega al daraframe\n",
    "lista=[]\n",
    "for l in range(0,len(businessry)):\n",
    "    count = 0\n",
    "    for i,k in enumerate(lista_palabras):\n",
    "\n",
    "         if k in list(businessry['text'].iloc[l].lower().replace(',','').replace('.','').split()):\n",
    "            count =+1\n",
    "    lista.append(count)   \n",
    "businessry['ambiente'] = pd.DataFrame(lista)        \n",
    "\n",
    "#crea la columna final cat_limpieza\n",
    "businessry['cat_ambiente'] = 0 \n",
    "#Agrega 1 a la nueva columna cuando limpieza es mayor que 1\n",
    "businessry.loc[businessry['ambiente'] >= 1, 'cat_ambiente'] = 1\n",
    "#borra la columna ambiente\n",
    "businessry.drop(columns={'ambiente'}, axis=1, inplace=True)"
   ]
  },
  {
   "cell_type": "markdown",
   "metadata": {},
   "source": [
    "## Categoria promociones\n",
    "analisa si el sition tiene descuentos, proposiones o cupones de descuentos."
   ]
  },
  {
   "cell_type": "code",
   "execution_count": 104,
   "metadata": {},
   "outputs": [],
   "source": [
    "#lista de palabras para la categoria promciones\n",
    "lista_palabras = [\"Affordable\", \"Reasonable\", \"Competitive\", \"Budget\", \"friendly\", \"Cost effective\", \"Economical\", \"Inexpensive\",\n",
    "\"Attractive\",\"pricing\", \"Value for money\", \"Discounted\", \"Special offers\", \"Savings\", \"Cost\" ,\"efficient\",\n",
    "\"Reasonably priced\", \"Economically priced\", \"Low cost\", \"Wallet friendly\", \"Bargain\", \"Discounts\",\n",
    "\"Promotional prices\", \"Saver deals\", \"Reduced rates\", \"Money saving\", \"Affordable rates\",\"low\",\"cost\" \n",
    "\"Economically priced\", \"Discounted\", \"offers\", \"Competitive prices\", \"Pocket\",  \"Inexpensive deals\",\n",
    "\"Affordable\",\"options\", \"Sale\", \"Cut rate\", \"Low priced\", \"Thrifty\", \"Reasonably valued\", \"Marked down\",\n",
    "\"On\", \"sale\", \"Cost\",\"conscious\", \"Attractive discounts\", \"Economical choices\", \"Savings\",\"opportunities\",\n",
    "\"Discounted\",\"packages\", \"Special promotions\", \"Budget conscious\", \"Discounted rates\", \"Affordable\",\"packages\",\n",
    "\"Promo\", \"Reduced\", \"cost\", \"Economic\", \"options\", \"Money\", \"saving\", \"deals\", \"Discounted specials\"]\n",
    "\n",
    "\n",
    "#pasa las palabras de la lista a minusculas\n",
    "lista_palabras = [palabra.lower() for palabra in lista_palabras]\n",
    "\n",
    "#Hace la comparacion de cada palabara de la lista en los textos de los comentarios,\n",
    "#cuenta cuantas veces aparece una palabra de la lista por comentario, se guarda en una lista y se agrega al daraframe\n",
    "lista=[]\n",
    "for l in range(0,len(businessry)):\n",
    "    count = 0\n",
    "    for i,k in enumerate(lista_palabras):\n",
    "\n",
    "         if k in list(businessry['text'].iloc[l].lower().replace(',','').replace('.','').split()):\n",
    "            count =+1\n",
    "    lista.append(count)   \n",
    "businessry['promociones'] = pd.DataFrame(lista)        \n",
    "\n",
    "#crea la columna final cat_limpieza\n",
    "businessry['cat_promociones'] = 0 \n",
    "#Agrega 1 a la nueva columna cuando limpieza es mayor que 1\n",
    "businessry.loc[businessry['promociones'] >= 1, 'cat_promociones'] = 1\n",
    "#borra la columna promociones\n",
    "businessry.drop(columns={'promociones'}, axis=1, inplace=True)"
   ]
  },
  {
   "cell_type": "markdown",
   "metadata": {},
   "source": [
    "## Categoria extra\n",
    "Analisa cosas que no estan en las categorias anteriores, como si te ofrecen servicios extras como spa, refrigerios, corte de cabello y servicios. especificos"
   ]
  },
  {
   "cell_type": "code",
   "execution_count": 105,
   "metadata": {},
   "outputs": [],
   "source": [
    "#lista de palabras para la categoria extra\n",
    "lista_palabras = [\"Haircut\", \"Hairstyling\", \"coloring\", \"Highlights\", \"Lowlights\", \"Balayage\", \"Ombre\", \"extensions\",\n",
    " \"straightening\", \"perm\", \"Keratin\", \"smoothing\", \"Blowout\", \"Updo\", \"Braiding\", \"braids\", \"hairstyles\", \"Men\", \"Women\", \n",
    " \"Children\", \"haircut\",\"Pixie\", \"Bob\", \"Shag\", \"Bangs\", \"Curls\", \"Curly\", \"conditioning\", \"massage\", \"Deep\", \"repair\", \n",
    " \"glossing\", \"glazing\", \"treatment\", \"spa\", \"rejuvenation\", \"health\", \"consultation\", \"care\" ,\"tips\", \"hydration\", \"oil\", \"mask\", \n",
    "\"trimming\", \"shaping\", \"Beard\", \"grooming\", \"Mustache\",  \"Children's hair styling\", \"Bridal hair styling\", \"consultation\", \"wine\",\n",
    "\"hair\", \"spa\" \"Manicure\", \"Pedicure\", \"Acrylic\", \"Gel\", \"extensions\", \"art\", \"design\", \"French\",\"Shellac\", \"SNS\", \"Dip\" ,\n",
    "\"powder\", \"repair\", \"removal\", \"shaping\", \"Cuticle\", \"care\",\"Paraffin\", \"wax\", \"strengthening\", \"Nails\", \"polish\",\n",
    "\"buffing\", \"Foot\",\" massage\", \"Hand\", \"Callus\",\" removal\", \"scrub\", \"Moisturizing\" , \"Hot oil treatment\", \"Nail spa\", \n",
    "\"Nail rejuvenation\", \"Nail health consultation\", \"Nail care tips\", \"Nail conditioning\", \"hydration\", \n",
    "\"Cuticle oil\", \"Nail mask\", \"Gel removal\", \"filing\", \"varnish\", \"Chrome\", \"Ombre\",\n",
    "\"Matte\", \"Glitter\", \"Natural\", \"Quick dry options\", \"wraps\", \"parking\",\n",
    "\"embellishments\", \"gems\", \"decals\", \"stickers\", \"color\" ,\"options\", \"Signature\"]\n",
    "\n",
    "\n",
    "\n",
    "#pasa las palabras de la lista a minusculas\n",
    "lista_palabras = [palabra.lower() for palabra in lista_palabras]\n",
    "\n",
    "#Hace la comparacion de cada palabara de la lista en los textos de los comentarios,\n",
    "#cuenta cuantas veces aparece una palabra de la lista por comentario, se guarda en una lista y se agrega al daraframe\n",
    "lista=[]\n",
    "for l in range(0,len(businessry)):\n",
    "    count = 0\n",
    "    for i,k in enumerate(lista_palabras):\n",
    "\n",
    "         if k in list(businessry['text'].iloc[l].lower().replace(',','').replace('.','').split()):\n",
    "            count =+1\n",
    "    lista.append(count)   \n",
    "businessry['extra'] = pd.DataFrame(lista)        \n",
    "\n",
    "#crea la columna final cat_limpieza\n",
    "businessry['cat_extra'] = 0 \n",
    "#Agrega 1 a la nueva columna cuando limpieza es mayor que 1\n",
    "businessry.loc[businessry['extra'] >= 1, 'cat_extra'] = 1\n",
    "#borra la columna extra\n",
    "businessry.drop(columns={'extra'}, axis=1, inplace=True)"
   ]
  },
  {
   "cell_type": "markdown",
   "metadata": {},
   "source": [
    "# Creación de dataframe para entrenar el modelo\n",
    "Construccion del dataframe para entrenar el modelo, para generar la matriz y usar la similitud de los cosenos"
   ]
  },
  {
   "cell_type": "code",
   "execution_count": 106,
   "metadata": {},
   "outputs": [
    {
     "data": {
      "text/plain": [
       "Index(['user_id', 'business_id', 'review_stars', 'text', 'date', 'year',\n",
       "       'source', 'cat_elite', 'cat_limpieza', 'cat_ambiente',\n",
       "       'cat_promociones', 'cat_extra'],\n",
       "      dtype='object')"
      ]
     },
     "execution_count": 106,
     "metadata": {},
     "output_type": "execute_result"
    }
   ],
   "source": [
    "businessry.columns"
   ]
  },
  {
   "cell_type": "code",
   "execution_count": 107,
   "metadata": {},
   "outputs": [
    {
     "data": {
      "text/plain": [
       "(15591, 12)"
      ]
     },
     "execution_count": 107,
     "metadata": {},
     "output_type": "execute_result"
    }
   ],
   "source": [
    "businessry.shape"
   ]
  },
  {
   "cell_type": "code",
   "execution_count": 108,
   "metadata": {},
   "outputs": [],
   "source": [
    "df_temp = businessry[['user_id', 'business_id', 'review_stars','cat_elite', 'cat_limpieza', 'cat_ambiente',\n",
    "       'cat_promociones', 'cat_extra']]"
   ]
  },
  {
   "cell_type": "code",
   "execution_count": 109,
   "metadata": {},
   "outputs": [
    {
     "data": {
      "text/plain": [
       "(11353, 10)"
      ]
     },
     "execution_count": 109,
     "metadata": {},
     "output_type": "execute_result"
    }
   ],
   "source": [
    "usery.shape"
   ]
  },
  {
   "cell_type": "code",
   "execution_count": 110,
   "metadata": {},
   "outputs": [],
   "source": [
    "df_final=df_temp.merge(usery, how='left', on='user_id')"
   ]
  },
  {
   "cell_type": "code",
   "execution_count": 111,
   "metadata": {},
   "outputs": [
    {
     "data": {
      "text/plain": [
       "Index(['user_id', 'business_id', 'review_stars', 'cat_elite', 'cat_limpieza',\n",
       "       'cat_ambiente', 'cat_promociones', 'cat_extra', 'name', 'review_count',\n",
       "       'yelping_since', 'useful', 'funny', 'cool', 'fans', 'average_stars',\n",
       "       'cat_interaccion'],\n",
       "      dtype='object')"
      ]
     },
     "execution_count": 111,
     "metadata": {},
     "output_type": "execute_result"
    }
   ],
   "source": [
    "df_final.columns"
   ]
  },
  {
   "cell_type": "code",
   "execution_count": 112,
   "metadata": {},
   "outputs": [],
   "source": [
    "df_final.drop([ 'name', 'review_count', 'yelping_since',\n",
    "       'useful', 'funny', 'cool', 'fans', 'average_stars'], axis=1, inplace=True)"
   ]
  },
  {
   "cell_type": "code",
   "execution_count": 113,
   "metadata": {},
   "outputs": [
    {
     "data": {
      "text/plain": [
       "Index(['user_id', 'business_id', 'review_stars', 'cat_elite', 'cat_limpieza',\n",
       "       'cat_ambiente', 'cat_promociones', 'cat_extra', 'cat_interaccion'],\n",
       "      dtype='object')"
      ]
     },
     "execution_count": 113,
     "metadata": {},
     "output_type": "execute_result"
    }
   ],
   "source": [
    "df_final.columns"
   ]
  },
  {
   "cell_type": "code",
   "execution_count": 114,
   "metadata": {},
   "outputs": [
    {
     "data": {
      "text/plain": [
       "(15591, 9)"
      ]
     },
     "execution_count": 114,
     "metadata": {},
     "output_type": "execute_result"
    }
   ],
   "source": [
    "df_final.shape"
   ]
  },
  {
   "cell_type": "markdown",
   "metadata": {},
   "source": [
    "Para dejar el promedio de las categorias y el rate por negocio"
   ]
  },
  {
   "cell_type": "code",
   "execution_count": 115,
   "metadata": {},
   "outputs": [],
   "source": [
    "#quita la columna user_id\n",
    "df_final.drop([ 'user_id'], axis=1, inplace=True)\n",
    "\n",
    "#saca los valores unicos de la columna business_id en un arreglo\n",
    "unicos = df_final['business_id'].unique()"
   ]
  },
  {
   "cell_type": "code",
   "execution_count": 116,
   "metadata": {},
   "outputs": [],
   "source": [
    "#prueba por un error en el codigo\n",
    "#df_final.dropna(inplace=True)\n",
    "#df_final['cat_interaccion'] = df_final['cat_interaccion'].astype(int)"
   ]
  },
  {
   "cell_type": "code",
   "execution_count": null,
   "metadata": {},
   "outputs": [],
   "source": [
    "#saca un promedio de todas las filas de de los valores unicos para todas la columnas\n",
    "lista_stars=[];lista_elite=[];lista_limpieza=[];lista_ambiente=[]\n",
    "lista_promociones=[];lista_extra=[];lista_interaccion=[];lista_business=[]\n",
    "for i in range(0,len(unicos)):\n",
    "    df = df_final[df_final['business_id']==unicos[i]]\n",
    "    lista_business.append(unicos[i])\n",
    "    lista_stars.append(int(df['review_stars'].mean().round()))\n",
    "    lista_elite.append(int(df['cat_elite'].mean().round()))\n",
    "    lista_limpieza.append(int(df['cat_limpieza'].mean().round()))\n",
    "    lista_ambiente.append(int(df['cat_ambiente'].mean().round()))\n",
    "    lista_promociones.append(int(df['cat_promociones'].mean().round()))\n",
    "    lista_extra.append(int(df['cat_extra'].mean().round()))\n",
    "    lista_interaccion.append(int(df['cat_interaccion'].mean().round()))"
   ]
  },
  {
   "cell_type": "code",
   "execution_count": null,
   "metadata": {},
   "outputs": [],
   "source": [
    "#Crea un data frame a partir de las listas\n",
    "df_ml_final = pd.DataFrame({'business_id': lista_business, 'review_stars': lista_stars, 'cat_elite':lista_elite,'cat_limpieza':lista_limpieza,\n",
    "                            'cat_ambiente':lista_ambiente,'cat_promociones':lista_promociones,'cat_extra':lista_extra,'cat_interaccion':lista_interaccion})"
   ]
  },
  {
   "cell_type": "code",
   "execution_count": null,
   "metadata": {},
   "outputs": [],
   "source": [
    "df_ml_final.to_csv('df.csv', index=False)"
   ]
  },
  {
   "cell_type": "markdown",
   "metadata": {},
   "source": [
    "# Creación de Modelo \n",
    "\n",
    "Se decidio por optimizacion de recursos usar un modelo sencillo para user_id - business_id y luego un business_id - business_id, usando las categoria generadas anteriormente, se construyo un modelo que usa la similitud del coseno.\n",
    "\n",
    "\n"
   ]
  },
  {
   "cell_type": "markdown",
   "metadata": {},
   "source": [
    "## Creación de Modelo user_id - business_id\n",
    "\n",
    "Para efectos esteticos se genero un correo unico por usuario, por lo que se recomendara por cada correo pasado un business_id.\n",
    "Si no esta en la base de datos, se notificara que no esta y de igual manera se le dara una recomendacion"
   ]
  },
  {
   "cell_type": "markdown",
   "metadata": {},
   "source": [
    "Se construyó a mano un metodo sencillo para tomar un correo y dar una recomendación de business_id, incluso si el corre no se encuentra en los datos"
   ]
  },
  {
   "cell_type": "code",
   "execution_count": 241,
   "metadata": {},
   "outputs": [
    {
     "data": {
      "text/plain": [
       "'z-s_l9SLZiqhAArcdkYOaw'"
      ]
     },
     "execution_count": 241,
     "metadata": {},
     "output_type": "execute_result"
    }
   ],
   "source": [
    "#por la poca cantidad de informacion en el modelo, suele repetir ciertas recomendaciones\n",
    "\n",
    "#correo ='jose@gmail' # no esta en la base de datos\n",
    "#correo ='jose@gmail.com' # no esta en la base de datos\n",
    "#correo ='tera3@gmail.com' # esta en la base de datos 815\n",
    "#correo ='virginia11@gmail.com' # esta en la base de datos 815\n",
    "#correo ='beth49@gmail.com' # esta en la base de datos 230\n",
    "#correo ='jodi90@gmail.com' # esta en la base de datos 758\n",
    "#correo ='maria115@gmail.com' # esta en la base de datos 229\n",
    "#correo ='happiness152@gmail.com' # esta en la base de datos 97\n",
    "correo ='katie202@gmail.com' # esta en la base de datos 12\n",
    "\n",
    "\n",
    "if correo.find(\"@\") == -1 or correo.find(\".com\") == -1 or correo.find(\" \") != -1:\n",
    "          print(\"Coloque un correo válido.\")\n",
    "else:          \n",
    "\n",
    "     businessry_ord=businessry.sort_values(by='review_stars', ascending=False)\n",
    "     businessry_ord_unic=businessry.drop_duplicates(subset=['business_id'])\n",
    "\n",
    "     try:\n",
    "        usuario = users[users['correo']==correo].iloc[0][0]\n",
    "     except IndexError:\n",
    "        business_id_recomendado = businessry_ord_unic.iloc[0][1]  \n",
    "\n",
    "\n",
    "     try:\n",
    "        df_usuario = businessry_ord[businessry_ord['user_id']==usuario].sort_values(by='review_stars', ascending=False)\n",
    "     except:\n",
    "       print('No estas en nuestra base de datos, te daremos una recomendación de igual forma.')\n",
    "       pass   \n",
    "          \n",
    "     n = random.randint(0, 100)\n",
    "\n",
    "     try:\n",
    "       business_id_recomendado = df_usuario.iloc[0][1]\n",
    "     except:\n",
    "       business_id_recomendado = businessry_ord_unic.iloc[n][1]\n",
    "\n",
    "business_id_recomendado"
   ]
  },
  {
   "cell_type": "markdown",
   "metadata": {},
   "source": [
    "## Creacion Modelo business_id - business_id\n",
    "\n",
    "Se utilizó las categorías generadas anteriormente por business_id para generar un business_id recomendado\n",
    "\n",
    "Este modelo conecta con el anterior, la respuesta del anterior se usa aca como entrada"
   ]
  },
  {
   "cell_type": "code",
   "execution_count": 242,
   "metadata": {},
   "outputs": [
    {
     "data": {
      "text/plain": [
       "12"
      ]
     },
     "execution_count": 242,
     "metadata": {},
     "output_type": "execute_result"
    }
   ],
   "source": [
    "df = pd.read_csv('df.csv')\n",
    "#carga modelos\n",
    "df_modelo_entrenamiento = df[[ 'cat_elite',\t'cat_limpieza',\t'cat_ambiente',\t'cat_promociones',\t'cat_extra',\t'cat_interaccion']]\n",
    "\n",
    "cosine_sim = cosine_similarity(df_modelo_entrenamiento, df_modelo_entrenamiento)\n"
   ]
  },
  {
   "cell_type": "code",
   "execution_count": 192,
   "metadata": {},
   "outputs": [],
   "source": [
    "#business_id_recomendado\n",
    "#business_id_recomendado= '16bxqGvRmT3yUdNdluuJXg'\n",
    "#business_id_recomendado= '14wug4g_h4K-8zqxGIQ7gw'\n",
    "#business_id_recomendado= '-hWqt93mXwiPUmS12suf6w'"
   ]
  },
  {
   "cell_type": "code",
   "execution_count": 244,
   "metadata": {},
   "outputs": [],
   "source": [
    "idx = df[df['business_id'] == business_id_recomendado].index[0]\n",
    "sim_scores = list(enumerate(cosine_sim[idx]))\n",
    "sim_scores = sorted(sim_scores, key=lambda x: x[1], reverse=True)\n",
    "sim_scores = sim_scores[2:7]\n",
    "business_indices = [i[0] for i in sim_scores]\n",
    "lista_business_id=[]\n",
    "for i,k in enumerate(business_indices):\n",
    "    lista_business_id.append(df.iloc[k][0])\n",
    "lista_business_id\n",
    "#lista_business_id = list(df['business_id'].iloc[business_indices])\n",
    "#df_temp = df['business_id'].iloc[business_indices].reset_index\n",
    "\n",
    "lista_nombre=[]; lista_direccion=[]\n",
    " \n",
    "      \n",
    "#           #Revisar bien al usar el codigo final, porque los diccionarios no guardan orden\n",
    "for i,k in enumerate(lista_business_id):\n",
    "               if lista_business_id[i] != business_id_recomendado:\n",
    "\n",
    "                  lista_nombre.append( businessy[businessy['business_id']==lista_business_id[i]].iloc[0][2]) \n",
    "                  lista_direccion.append(businessy[businessy['business_id']==lista_business_id[i]].iloc[0][3])  \n",
    "    "
   ]
  },
  {
   "cell_type": "code",
   "execution_count": 246,
   "metadata": {},
   "outputs": [
    {
     "name": "stdout",
     "output_type": "stream",
     "text": [
      "Nombres de locales: ['Lily Nails and Spa', 'The Pamper Stop', 'Nova Nails Spa', 'Luna Luxe Nail Loft', 'Prestige Natural Nail Bar']\n"
     ]
    }
   ],
   "source": [
    "print('Nombres de locales:', lista_nombre)"
   ]
  }
 ],
 "metadata": {
  "kernelspec": {
   "display_name": "Python 3",
   "language": "python",
   "name": "python3"
  },
  "language_info": {
   "codemirror_mode": {
    "name": "ipython",
    "version": 3
   },
   "file_extension": ".py",
   "mimetype": "text/x-python",
   "name": "python",
   "nbconvert_exporter": "python",
   "pygments_lexer": "ipython3",
   "version": "3.11.5"
  }
 },
 "nbformat": 4,
 "nbformat_minor": 2
}
