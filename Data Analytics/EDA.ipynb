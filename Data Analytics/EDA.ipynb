{
 "cells": [
  {
   "cell_type": "markdown",
   "metadata": {},
   "source": [
    "# EDA"
   ]
  },
  {
   "cell_type": "markdown",
   "metadata": {},
   "source": [
    "## 1. Importar librerias"
   ]
  },
  {
   "cell_type": "code",
   "execution_count": 1,
   "metadata": {},
   "outputs": [],
   "source": [
    "import pandas as pd\n",
    "import numpy as numpy\n",
    "import matplotlib.pyplot as plt\n",
    "import seaborn as sns"
   ]
  },
  {
   "cell_type": "markdown",
   "metadata": {},
   "source": [
    "## 2. Cargar Datos"
   ]
  },
  {
   "cell_type": "code",
   "execution_count": 14,
   "metadata": {},
   "outputs": [],
   "source": [
    "df_Yelp = pd.read_csv('DataSets/Nail_Salon_Yelp.csv')"
   ]
  },
  {
   "cell_type": "markdown",
   "metadata": {},
   "source": [
    "## 3. Exploramos los datos del DataFrame: 'YELP'"
   ]
  },
  {
   "cell_type": "code",
   "execution_count": 15,
   "metadata": {},
   "outputs": [
    {
     "data": {
      "text/html": [
       "<div>\n",
       "<style scoped>\n",
       "    .dataframe tbody tr th:only-of-type {\n",
       "        vertical-align: middle;\n",
       "    }\n",
       "\n",
       "    .dataframe tbody tr th {\n",
       "        vertical-align: top;\n",
       "    }\n",
       "\n",
       "    .dataframe thead th {\n",
       "        text-align: right;\n",
       "    }\n",
       "</style>\n",
       "<table border=\"1\" class=\"dataframe\">\n",
       "  <thead>\n",
       "    <tr style=\"text-align: right;\">\n",
       "      <th></th>\n",
       "      <th>business_id</th>\n",
       "      <th>city</th>\n",
       "      <th>postal_code</th>\n",
       "      <th>latitude</th>\n",
       "      <th>longitude</th>\n",
       "      <th>stars</th>\n",
       "      <th>review_count</th>\n",
       "      <th>source</th>\n",
       "      <th>user_id</th>\n",
       "      <th>review_stars</th>\n",
       "      <th>text</th>\n",
       "      <th>date</th>\n",
       "    </tr>\n",
       "  </thead>\n",
       "  <tbody>\n",
       "    <tr>\n",
       "      <th>0</th>\n",
       "      <td>9Rww8yE6Dm4dSMEq09nwXg</td>\n",
       "      <td>Pinellas Park</td>\n",
       "      <td>33782</td>\n",
       "      <td>27.855347</td>\n",
       "      <td>-82.736308</td>\n",
       "      <td>4.5</td>\n",
       "      <td>16</td>\n",
       "      <td>Y</td>\n",
       "      <td>MR_0VqlmaHRBskfq_u9UaA</td>\n",
       "      <td>5.0</td>\n",
       "      <td>i had the pleasure of stopping by holly nails ...</td>\n",
       "      <td>2019-03-21 16:54:10</td>\n",
       "    </tr>\n",
       "    <tr>\n",
       "      <th>1</th>\n",
       "      <td>9Rww8yE6Dm4dSMEq09nwXg</td>\n",
       "      <td>Pinellas Park</td>\n",
       "      <td>33782</td>\n",
       "      <td>27.855347</td>\n",
       "      <td>-82.736308</td>\n",
       "      <td>4.5</td>\n",
       "      <td>16</td>\n",
       "      <td>Y</td>\n",
       "      <td>zWwyESvgTPMcqU3Ef87HZQ</td>\n",
       "      <td>5.0</td>\n",
       "      <td>the shop was clean and the staff is friendly a...</td>\n",
       "      <td>2019-05-29 21:41:25</td>\n",
       "    </tr>\n",
       "    <tr>\n",
       "      <th>2</th>\n",
       "      <td>9Rww8yE6Dm4dSMEq09nwXg</td>\n",
       "      <td>Pinellas Park</td>\n",
       "      <td>33782</td>\n",
       "      <td>27.855347</td>\n",
       "      <td>-82.736308</td>\n",
       "      <td>4.5</td>\n",
       "      <td>16</td>\n",
       "      <td>Y</td>\n",
       "      <td>s9CqpmJOntfRvkWDV2VBnQ</td>\n",
       "      <td>5.0</td>\n",
       "      <td>i love this place. i live in tampa, but i defi...</td>\n",
       "      <td>2020-01-19 12:55:09</td>\n",
       "    </tr>\n",
       "    <tr>\n",
       "      <th>3</th>\n",
       "      <td>9Rww8yE6Dm4dSMEq09nwXg</td>\n",
       "      <td>Pinellas Park</td>\n",
       "      <td>33782</td>\n",
       "      <td>27.855347</td>\n",
       "      <td>-82.736308</td>\n",
       "      <td>4.5</td>\n",
       "      <td>16</td>\n",
       "      <td>Y</td>\n",
       "      <td>PRhvO0JRk2IniXbHvDOvyw</td>\n",
       "      <td>5.0</td>\n",
       "      <td>i was looking for a new nail salon for pedicur...</td>\n",
       "      <td>2019-04-10 18:02:05</td>\n",
       "    </tr>\n",
       "    <tr>\n",
       "      <th>4</th>\n",
       "      <td>9Rww8yE6Dm4dSMEq09nwXg</td>\n",
       "      <td>Pinellas Park</td>\n",
       "      <td>33782</td>\n",
       "      <td>27.855347</td>\n",
       "      <td>-82.736308</td>\n",
       "      <td>4.5</td>\n",
       "      <td>16</td>\n",
       "      <td>Y</td>\n",
       "      <td>GipAMLohZ7GLdV-8xuO_YA</td>\n",
       "      <td>5.0</td>\n",
       "      <td>i couldn't ask for a better experience , excel...</td>\n",
       "      <td>2021-04-19 15:21:10</td>\n",
       "    </tr>\n",
       "  </tbody>\n",
       "</table>\n",
       "</div>"
      ],
      "text/plain": [
       "              business_id           city  postal_code   latitude  longitude  \\\n",
       "0  9Rww8yE6Dm4dSMEq09nwXg  Pinellas Park        33782  27.855347 -82.736308   \n",
       "1  9Rww8yE6Dm4dSMEq09nwXg  Pinellas Park        33782  27.855347 -82.736308   \n",
       "2  9Rww8yE6Dm4dSMEq09nwXg  Pinellas Park        33782  27.855347 -82.736308   \n",
       "3  9Rww8yE6Dm4dSMEq09nwXg  Pinellas Park        33782  27.855347 -82.736308   \n",
       "4  9Rww8yE6Dm4dSMEq09nwXg  Pinellas Park        33782  27.855347 -82.736308   \n",
       "\n",
       "   stars  review_count source                 user_id  review_stars  \\\n",
       "0    4.5            16      Y  MR_0VqlmaHRBskfq_u9UaA           5.0   \n",
       "1    4.5            16      Y  zWwyESvgTPMcqU3Ef87HZQ           5.0   \n",
       "2    4.5            16      Y  s9CqpmJOntfRvkWDV2VBnQ           5.0   \n",
       "3    4.5            16      Y  PRhvO0JRk2IniXbHvDOvyw           5.0   \n",
       "4    4.5            16      Y  GipAMLohZ7GLdV-8xuO_YA           5.0   \n",
       "\n",
       "                                                text                 date  \n",
       "0  i had the pleasure of stopping by holly nails ...  2019-03-21 16:54:10  \n",
       "1  the shop was clean and the staff is friendly a...  2019-05-29 21:41:25  \n",
       "2  i love this place. i live in tampa, but i defi...  2020-01-19 12:55:09  \n",
       "3  i was looking for a new nail salon for pedicur...  2019-04-10 18:02:05  \n",
       "4  i couldn't ask for a better experience , excel...  2021-04-19 15:21:10  "
      ]
     },
     "execution_count": 15,
     "metadata": {},
     "output_type": "execute_result"
    }
   ],
   "source": [
    "df_Yelp.head(5)"
   ]
  },
  {
   "cell_type": "markdown",
   "metadata": {},
   "source": [
    "Ejecutamos la funcion 'head' para poder visualizar de forma ligera la tabla"
   ]
  },
  {
   "cell_type": "code",
   "execution_count": 16,
   "metadata": {},
   "outputs": [
    {
     "data": {
      "text/plain": [
       "(10868, 12)"
      ]
     },
     "execution_count": 16,
     "metadata": {},
     "output_type": "execute_result"
    }
   ],
   "source": [
    "df_Yelp.shape"
   ]
  },
  {
   "cell_type": "markdown",
   "metadata": {},
   "source": [
    "Nos indica que la tabla Yelp cuenta con 51894 filas y 15 columnas"
   ]
  },
  {
   "cell_type": "code",
   "execution_count": 17,
   "metadata": {},
   "outputs": [
    {
     "name": "stdout",
     "output_type": "stream",
     "text": [
      "<class 'pandas.core.frame.DataFrame'>\n",
      "RangeIndex: 10868 entries, 0 to 10867\n",
      "Data columns (total 12 columns):\n",
      " #   Column        Non-Null Count  Dtype  \n",
      "---  ------        --------------  -----  \n",
      " 0   business_id   10868 non-null  object \n",
      " 1   city          10868 non-null  object \n",
      " 2   postal_code   10868 non-null  int64  \n",
      " 3   latitude      10868 non-null  float64\n",
      " 4   longitude     10868 non-null  float64\n",
      " 5   stars         10868 non-null  float64\n",
      " 6   review_count  10868 non-null  int64  \n",
      " 7   source        10868 non-null  object \n",
      " 8   user_id       10868 non-null  object \n",
      " 9   review_stars  10868 non-null  float64\n",
      " 10  text          10868 non-null  object \n",
      " 11  date          10868 non-null  object \n",
      "dtypes: float64(4), int64(2), object(6)\n",
      "memory usage: 1019.0+ KB\n"
     ]
    }
   ],
   "source": [
    "df_Yelp.info()"
   ]
  },
  {
   "cell_type": "markdown",
   "metadata": {},
   "source": [
    "Como observamos se mantienen el tipo de dato que tenia al ser guardado"
   ]
  },
  {
   "cell_type": "code",
   "execution_count": 10,
   "metadata": {},
   "outputs": [
    {
     "name": "stdout",
     "output_type": "stream",
     "text": [
      "              Nulos  Porcentaje\n",
      "business_id     0.0         0.0\n",
      "city            0.0         0.0\n",
      "state           0.0         0.0\n",
      "postal_code     0.0         0.0\n",
      "latitude        0.0         0.0\n",
      "longitude       0.0         0.0\n",
      "stars           0.0         0.0\n",
      "review_count    0.0         0.0\n",
      "source          0.0         0.0\n",
      "user_id         0.0         0.0\n",
      "review_stars    0.0         0.0\n",
      "text            0.0         0.0\n",
      "year            0.0         0.0\n",
      "month           0.0         0.0\n",
      "day             0.0         0.0\n",
      "Total           0.0         0.0\n"
     ]
    }
   ],
   "source": [
    "# Obtener el conteo de nulos por columna\n",
    "null_count = df_Yelp.isnull().sum()\n",
    "\n",
    "# Obtener el porcentaje de nulos por columna\n",
    "null_percentage = (df_Yelp.isnull().mean()) * 100\n",
    "\n",
    "# Formatear los valores\n",
    "null_info = pd.DataFrame({\n",
    "    'Nulos': null_count.abs(),  # Tomar solo la parte positiva\n",
    "    'Porcentaje': null_percentage.round(3)  # Redondear a tres decimales\n",
    "})\n",
    "\n",
    "# Agregar una fila adicional para el total\n",
    "total_nulos = null_info['Nulos'].sum()\n",
    "total_porcentaje = (total_nulos / (len(df_Yelp) * len(df_Yelp.columns))) * 100\n",
    "\n",
    "# Formatear el total de nulos y porcentaje\n",
    "total_nulos_formateado = int(total_nulos)  # Tomar solo la parte entera\n",
    "total_porcentaje_formateado = round(total_porcentaje, 3)  # Redondear a tres decimales\n",
    "\n",
    "# Agregar la fila al DataFrame\n",
    "null_info.loc['Total'] = [total_nulos_formateado, total_porcentaje_formateado]\n",
    "\n",
    "# Imprimir el nuevo DataFrame\n",
    "print(null_info)"
   ]
  },
  {
   "cell_type": "markdown",
   "metadata": {},
   "source": [
    "Como observamos no tenemos valores nulos"
   ]
  },
  {
   "cell_type": "code",
   "execution_count": 11,
   "metadata": {},
   "outputs": [
    {
     "name": "stdout",
     "output_type": "stream",
     "text": [
      "           state   text\n",
      "4        Florida  10868\n",
      "12  Pennsylvania  10139\n",
      "13     Tennessee   4527\n",
      "7        Indiana   4309\n",
      "10        Nevada   4248\n",
      "1        Arizona   4046\n",
      "8      Louisiana   3093\n",
      "9       Missouri   2947\n",
      "11    New Jersey   2662\n",
      "2     California   1936\n",
      "5          Idaho   1586\n",
      "3       Delaware    706\n",
      "6       Illinois    470\n",
      "0        Alberta    357\n"
     ]
    }
   ],
   "source": [
    "# Agrupar el DataFrame por la columna 'state' y contar la cantidad de comentarios en cada estado\n",
    "comentarios_por_estado = df_Yelp.groupby('state')['text'].count().reset_index()\n",
    "\n",
    "# Ordenar los resultados en orden descendente por la cantidad de comentarios\n",
    "comentarios_por_estado = comentarios_por_estado.sort_values(by='text', ascending=False)\n",
    "\n",
    "# Mostrar los resultados\n",
    "print(comentarios_por_estado)"
   ]
  },
  {
   "cell_type": "code",
   "execution_count": 13,
   "metadata": {},
   "outputs": [
    {
     "name": "stdout",
     "output_type": "stream",
     "text": [
      "           state  review_count\n",
      "4        Florida        825803\n",
      "12  Pennsylvania        701913\n",
      "10        Nevada        631669\n",
      "13     Tennessee        360663\n",
      "1        Arizona        358124\n",
      "2     California        303377\n",
      "7        Indiana        301313\n",
      "8      Louisiana        275533\n",
      "9       Missouri        210923\n",
      "11    New Jersey         99928\n",
      "5          Idaho         87705\n",
      "3       Delaware         24482\n",
      "6       Illinois         18181\n",
      "0        Alberta          5661\n"
     ]
    }
   ],
   "source": [
    "# Agrupar el DataFrame por la columna 'state' y sumar la cantidad total de comentarios en cada estado\n",
    "comentarios_por_estado = df_Yelp.groupby('state')['review_count'].sum().reset_index()\n",
    "\n",
    "# Ordenar los resultados en orden descendente por la cantidad de comentarios\n",
    "comentarios_por_estado = comentarios_por_estado.sort_values(by='review_count', ascending=False)\n",
    "\n",
    "# Mostrar los resultados\n",
    "print(comentarios_por_estado)"
   ]
  },
  {
   "cell_type": "code",
   "execution_count": null,
   "metadata": {},
   "outputs": [],
   "source": [
    "df_Yelp.head()"
   ]
  },
  {
   "cell_type": "code",
   "execution_count": null,
   "metadata": {},
   "outputs": [],
   "source": []
  }
 ],
 "metadata": {
  "kernelspec": {
   "display_name": "PF",
   "language": "python",
   "name": "python3"
  },
  "language_info": {
   "codemirror_mode": {
    "name": "ipython",
    "version": 3
   },
   "file_extension": ".py",
   "mimetype": "text/x-python",
   "name": "python",
   "nbconvert_exporter": "python",
   "pygments_lexer": "ipython3",
   "version": "3.11.8"
  }
 },
 "nbformat": 4,
 "nbformat_minor": 2
}
