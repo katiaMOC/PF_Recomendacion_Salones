{
 "cells": [
  {
   "cell_type": "markdown",
   "metadata": {},
   "source": [
    "# ETL YELP"
   ]
  },
  {
   "cell_type": "markdown",
   "metadata": {},
   "source": [
    "# 1. Importar librerias"
   ]
  },
  {
   "cell_type": "code",
   "execution_count": 62,
   "metadata": {},
   "outputs": [],
   "source": [
    "import pandas as pd\n",
    "import numpy as np\n",
    "import re\n",
    "import requests\n",
    "#from funciones import data_cleaned\n",
    "import warnings\n",
    "warnings.filterwarnings(\"ignore\", message=\"Downcasting.*\", category=FutureWarning)\n"
   ]
  },
  {
   "cell_type": "markdown",
   "metadata": {},
   "source": [
    "# 2. Carga de Datos"
   ]
  },
  {
   "cell_type": "code",
   "execution_count": 64,
   "metadata": {},
   "outputs": [
    {
     "name": "stderr",
     "output_type": "stream",
     "text": [
      "C:\\Users\\U ANGEL\\AppData\\Local\\Temp\\ipykernel_14180\\2635447684.py:1: DtypeWarning: Columns (14,15,16,17,18,19,25,26,27) have mixed types. Specify dtype option on import or set low_memory=False.\n",
      "  dfBusinessYelp = pd.read_csv('DataSets/businessYelp.csv')\n"
     ]
    }
   ],
   "source": [
    "dfBusinessYelp = pd.read_csv('DataSets/businessYelp.csv')\n"
   ]
  },
  {
   "cell_type": "code",
   "execution_count": 71,
   "metadata": {},
   "outputs": [],
   "source": [
    "dfReviewYelp = pd.read_csv('DataSets/reviewsYelp.csv')"
   ]
  },
  {
   "cell_type": "markdown",
   "metadata": {},
   "source": [
    "# 3. Exploracion y Limpieza de Datos"
   ]
  },
  {
   "cell_type": "markdown",
   "metadata": {},
   "source": [
    "## 3.1 Dataset Business Yelp"
   ]
  },
  {
   "cell_type": "markdown",
   "metadata": {},
   "source": [
    "### 3.1.1. Exploración inicial de los datos"
   ]
  },
  {
   "cell_type": "code",
   "execution_count": 65,
   "metadata": {},
   "outputs": [
    {
     "data": {
      "text/html": [
       "<div>\n",
       "<style scoped>\n",
       "    .dataframe tbody tr th:only-of-type {\n",
       "        vertical-align: middle;\n",
       "    }\n",
       "\n",
       "    .dataframe tbody tr th {\n",
       "        vertical-align: top;\n",
       "    }\n",
       "\n",
       "    .dataframe thead th {\n",
       "        text-align: right;\n",
       "    }\n",
       "</style>\n",
       "<table border=\"1\" class=\"dataframe\">\n",
       "  <thead>\n",
       "    <tr style=\"text-align: right;\">\n",
       "      <th></th>\n",
       "      <th>business_id</th>\n",
       "      <th>name</th>\n",
       "      <th>address</th>\n",
       "      <th>city</th>\n",
       "      <th>state</th>\n",
       "      <th>postal_code</th>\n",
       "      <th>latitude</th>\n",
       "      <th>longitude</th>\n",
       "      <th>stars</th>\n",
       "      <th>review_count</th>\n",
       "      <th>...</th>\n",
       "      <th>state.1</th>\n",
       "      <th>postal_code.1</th>\n",
       "      <th>latitude.1</th>\n",
       "      <th>longitude.1</th>\n",
       "      <th>stars.1</th>\n",
       "      <th>review_count.1</th>\n",
       "      <th>is_open.1</th>\n",
       "      <th>attributes.1</th>\n",
       "      <th>categories.1</th>\n",
       "      <th>hours.1</th>\n",
       "    </tr>\n",
       "  </thead>\n",
       "  <tbody>\n",
       "    <tr>\n",
       "      <th>0</th>\n",
       "      <td>Pns2l4eNsfO8kk83dixA6A</td>\n",
       "      <td>Abby Rappoport, LAC, CMQ</td>\n",
       "      <td>1616 Chapala St, Ste 2</td>\n",
       "      <td>Santa Barbara</td>\n",
       "      <td>NaN</td>\n",
       "      <td>93101</td>\n",
       "      <td>34.426679</td>\n",
       "      <td>-119.711197</td>\n",
       "      <td>5.0</td>\n",
       "      <td>7</td>\n",
       "      <td>...</td>\n",
       "      <td>NaN</td>\n",
       "      <td>NaN</td>\n",
       "      <td>NaN</td>\n",
       "      <td>NaN</td>\n",
       "      <td>NaN</td>\n",
       "      <td>NaN</td>\n",
       "      <td>NaN</td>\n",
       "      <td>NaN</td>\n",
       "      <td>NaN</td>\n",
       "      <td>NaN</td>\n",
       "    </tr>\n",
       "    <tr>\n",
       "      <th>1</th>\n",
       "      <td>mpf3x-BjTdTEA3yCZrAYPw</td>\n",
       "      <td>The UPS Store</td>\n",
       "      <td>87 Grasso Plaza Shopping Center</td>\n",
       "      <td>Affton</td>\n",
       "      <td>NaN</td>\n",
       "      <td>63123</td>\n",
       "      <td>38.551126</td>\n",
       "      <td>-90.335695</td>\n",
       "      <td>3.0</td>\n",
       "      <td>15</td>\n",
       "      <td>...</td>\n",
       "      <td>NaN</td>\n",
       "      <td>NaN</td>\n",
       "      <td>NaN</td>\n",
       "      <td>NaN</td>\n",
       "      <td>NaN</td>\n",
       "      <td>NaN</td>\n",
       "      <td>NaN</td>\n",
       "      <td>NaN</td>\n",
       "      <td>NaN</td>\n",
       "      <td>NaN</td>\n",
       "    </tr>\n",
       "    <tr>\n",
       "      <th>2</th>\n",
       "      <td>tUFrWirKiKi_TAnsVWINQQ</td>\n",
       "      <td>Target</td>\n",
       "      <td>5255 E Broadway Blvd</td>\n",
       "      <td>Tucson</td>\n",
       "      <td>NaN</td>\n",
       "      <td>85711</td>\n",
       "      <td>32.223236</td>\n",
       "      <td>-110.880452</td>\n",
       "      <td>3.5</td>\n",
       "      <td>22</td>\n",
       "      <td>...</td>\n",
       "      <td>NaN</td>\n",
       "      <td>NaN</td>\n",
       "      <td>NaN</td>\n",
       "      <td>NaN</td>\n",
       "      <td>NaN</td>\n",
       "      <td>NaN</td>\n",
       "      <td>NaN</td>\n",
       "      <td>NaN</td>\n",
       "      <td>NaN</td>\n",
       "      <td>NaN</td>\n",
       "    </tr>\n",
       "    <tr>\n",
       "      <th>3</th>\n",
       "      <td>MTSW4McQd7CbVtyjqoe9mw</td>\n",
       "      <td>St Honore Pastries</td>\n",
       "      <td>935 Race St</td>\n",
       "      <td>Philadelphia</td>\n",
       "      <td>CA</td>\n",
       "      <td>19107</td>\n",
       "      <td>39.955505</td>\n",
       "      <td>-75.155564</td>\n",
       "      <td>4.0</td>\n",
       "      <td>80</td>\n",
       "      <td>...</td>\n",
       "      <td>NaN</td>\n",
       "      <td>NaN</td>\n",
       "      <td>NaN</td>\n",
       "      <td>NaN</td>\n",
       "      <td>NaN</td>\n",
       "      <td>NaN</td>\n",
       "      <td>NaN</td>\n",
       "      <td>NaN</td>\n",
       "      <td>NaN</td>\n",
       "      <td>NaN</td>\n",
       "    </tr>\n",
       "    <tr>\n",
       "      <th>4</th>\n",
       "      <td>mWMc6_wTdE0EUBKIGXDVfA</td>\n",
       "      <td>Perkiomen Valley Brewery</td>\n",
       "      <td>101 Walnut St</td>\n",
       "      <td>Green Lane</td>\n",
       "      <td>MO</td>\n",
       "      <td>18054</td>\n",
       "      <td>40.338183</td>\n",
       "      <td>-75.471659</td>\n",
       "      <td>4.5</td>\n",
       "      <td>13</td>\n",
       "      <td>...</td>\n",
       "      <td>NaN</td>\n",
       "      <td>NaN</td>\n",
       "      <td>NaN</td>\n",
       "      <td>NaN</td>\n",
       "      <td>NaN</td>\n",
       "      <td>NaN</td>\n",
       "      <td>NaN</td>\n",
       "      <td>NaN</td>\n",
       "      <td>NaN</td>\n",
       "      <td>NaN</td>\n",
       "    </tr>\n",
       "  </tbody>\n",
       "</table>\n",
       "<p>5 rows × 28 columns</p>\n",
       "</div>"
      ],
      "text/plain": [
       "              business_id                      name  \\\n",
       "0  Pns2l4eNsfO8kk83dixA6A  Abby Rappoport, LAC, CMQ   \n",
       "1  mpf3x-BjTdTEA3yCZrAYPw             The UPS Store   \n",
       "2  tUFrWirKiKi_TAnsVWINQQ                    Target   \n",
       "3  MTSW4McQd7CbVtyjqoe9mw        St Honore Pastries   \n",
       "4  mWMc6_wTdE0EUBKIGXDVfA  Perkiomen Valley Brewery   \n",
       "\n",
       "                           address           city state postal_code  \\\n",
       "0           1616 Chapala St, Ste 2  Santa Barbara   NaN       93101   \n",
       "1  87 Grasso Plaza Shopping Center         Affton   NaN       63123   \n",
       "2             5255 E Broadway Blvd         Tucson   NaN       85711   \n",
       "3                      935 Race St   Philadelphia    CA       19107   \n",
       "4                    101 Walnut St     Green Lane    MO       18054   \n",
       "\n",
       "    latitude   longitude  stars  review_count  ...  state.1 postal_code.1  \\\n",
       "0  34.426679 -119.711197    5.0             7  ...      NaN           NaN   \n",
       "1  38.551126  -90.335695    3.0            15  ...      NaN           NaN   \n",
       "2  32.223236 -110.880452    3.5            22  ...      NaN           NaN   \n",
       "3  39.955505  -75.155564    4.0            80  ...      NaN           NaN   \n",
       "4  40.338183  -75.471659    4.5            13  ...      NaN           NaN   \n",
       "\n",
       "  latitude.1 longitude.1 stars.1 review_count.1 is_open.1 attributes.1  \\\n",
       "0        NaN         NaN     NaN            NaN       NaN          NaN   \n",
       "1        NaN         NaN     NaN            NaN       NaN          NaN   \n",
       "2        NaN         NaN     NaN            NaN       NaN          NaN   \n",
       "3        NaN         NaN     NaN            NaN       NaN          NaN   \n",
       "4        NaN         NaN     NaN            NaN       NaN          NaN   \n",
       "\n",
       "  categories.1 hours.1  \n",
       "0          NaN     NaN  \n",
       "1          NaN     NaN  \n",
       "2          NaN     NaN  \n",
       "3          NaN     NaN  \n",
       "4          NaN     NaN  \n",
       "\n",
       "[5 rows x 28 columns]"
      ]
     },
     "execution_count": 65,
     "metadata": {},
     "output_type": "execute_result"
    }
   ],
   "source": [
    "#Vizualizo las primeras filas del DataFrame\n",
    "dfBusinessYelp.head()"
   ]
  },
  {
   "cell_type": "code",
   "execution_count": 66,
   "metadata": {},
   "outputs": [
    {
     "name": "stdout",
     "output_type": "stream",
     "text": [
      "<class 'pandas.core.frame.DataFrame'>\n",
      "RangeIndex: 150346 entries, 0 to 150345\n",
      "Data columns (total 28 columns):\n",
      " #   Column          Non-Null Count   Dtype  \n",
      "---  ------          --------------   -----  \n",
      " 0   business_id     150346 non-null  object \n",
      " 1   name            150346 non-null  object \n",
      " 2   address         145219 non-null  object \n",
      " 3   city            150346 non-null  object \n",
      " 4   state           150343 non-null  object \n",
      " 5   postal_code     150273 non-null  object \n",
      " 6   latitude        150346 non-null  float64\n",
      " 7   longitude       150346 non-null  float64\n",
      " 8   stars           150346 non-null  float64\n",
      " 9   review_count    150346 non-null  int64  \n",
      " 10  is_open         150346 non-null  int64  \n",
      " 11  attributes      136602 non-null  object \n",
      " 12  categories      150243 non-null  object \n",
      " 13  hours           127123 non-null  object \n",
      " 14  business_id.1   5 non-null       object \n",
      " 15  name.1          5 non-null       object \n",
      " 16  address.1       5 non-null       object \n",
      " 17  city.1          5 non-null       object \n",
      " 18  state.1         5 non-null       object \n",
      " 19  postal_code.1   5 non-null       object \n",
      " 20  latitude.1      5 non-null       float64\n",
      " 21  longitude.1     5 non-null       float64\n",
      " 22  stars.1         5 non-null       float64\n",
      " 23  review_count.1  5 non-null       float64\n",
      " 24  is_open.1       5 non-null       float64\n",
      " 25  attributes.1    5 non-null       object \n",
      " 26  categories.1    5 non-null       object \n",
      " 27  hours.1         5 non-null       object \n",
      "dtypes: float64(8), int64(2), object(18)\n",
      "memory usage: 32.1+ MB\n"
     ]
    }
   ],
   "source": [
    "# Obtener información sobre las columnas y los tipos de datos\n",
    "dfBusinessYelp.info()"
   ]
  },
  {
   "cell_type": "code",
   "execution_count": 67,
   "metadata": {},
   "outputs": [
    {
     "name": "stdout",
     "output_type": "stream",
     "text": [
      "business_id            0\n",
      "name                   0\n",
      "address             5127\n",
      "city                   0\n",
      "state                  3\n",
      "postal_code           73\n",
      "latitude               0\n",
      "longitude              0\n",
      "stars                  0\n",
      "review_count           0\n",
      "is_open                0\n",
      "attributes         13744\n",
      "categories           103\n",
      "hours              23223\n",
      "business_id.1     150341\n",
      "name.1            150341\n",
      "address.1         150341\n",
      "city.1            150341\n",
      "state.1           150341\n",
      "postal_code.1     150341\n",
      "latitude.1        150341\n",
      "longitude.1       150341\n",
      "stars.1           150341\n",
      "review_count.1    150341\n",
      "is_open.1         150341\n",
      "attributes.1      150341\n",
      "categories.1      150341\n",
      "hours.1           150341\n",
      "dtype: int64\n"
     ]
    }
   ],
   "source": [
    "# Contar filas vacías por columna\n",
    "filas_vacias_por_columna = dfBusinessYelp.isnull().sum()\n",
    "print(filas_vacias_por_columna)"
   ]
  },
  {
   "cell_type": "markdown",
   "metadata": {},
   "source": [
    "Al evaluar la cantidad de nulos por columnas vemos que las columnas : 'business_id.1', 'name.1',\n",
    "       'address.1', 'city.1', 'state.1', 'postal_code.1', 'latitude.1',\n",
    "       'longitude.1', 'stars.1', 'review_count.1', 'is_open.1', 'attributes.1',\n",
    "       'categories.1', 'hours.1', estan llenos de nulos"
   ]
  },
  {
   "cell_type": "code",
   "execution_count": 68,
   "metadata": {},
   "outputs": [
    {
     "name": "stdout",
     "output_type": "stream",
     "text": [
      "Filas duplicadas en el DataFrame: 0\n"
     ]
    }
   ],
   "source": [
    "# Contar la cantidad de duplicados del DataFrame\n",
    "filas_duplicadas = dfBusinessYelp.duplicated().sum()\n",
    "print(\"Filas duplicadas en el DataFrame:\", filas_duplicadas)"
   ]
  },
  {
   "cell_type": "markdown",
   "metadata": {},
   "source": [
    "Como logramos observas no encontramos valores duplicados en el DataFrame"
   ]
  },
  {
   "cell_type": "code",
   "execution_count": 69,
   "metadata": {},
   "outputs": [
    {
     "data": {
      "text/plain": [
       "array([nan, 'CA', 'MO', 'AZ', 'PA', 'TN', 'FL', 'IN', 'LA', 'AB', 'NV',\n",
       "       'ID', 'DE', 'IL', 'NJ', 'NC', 'CO', 'WA', 'HI', 'UT', 'TX', 'MT',\n",
       "       'MI', 'SD', 'XMS', 'MA', 'VI', 'VT'], dtype=object)"
      ]
     },
     "execution_count": 69,
     "metadata": {},
     "output_type": "execute_result"
    }
   ],
   "source": [
    "dfBusinessYelp['state'].unique()"
   ]
  },
  {
   "cell_type": "markdown",
   "metadata": {},
   "source": [
    "Al ver que hay valores nulos, siglas de los diferentes estados concluyo que la columna 'state' es mejor no usarla y sacar los estados mediante la longitud y latitud"
   ]
  },
  {
   "cell_type": "markdown",
   "metadata": {},
   "source": [
    "### 3.1.2. Limpieza y Normalización de datos"
   ]
  },
  {
   "cell_type": "markdown",
   "metadata": {},
   "source": [
    "#### Filtrado de datos"
   ]
  },
  {
   "cell_type": "code",
   "execution_count": 73,
   "metadata": {},
   "outputs": [],
   "source": [
    "# El alcance del proyecto se limita al negocio llamado Subway, por lo que se aplica el filtro.\n",
    "\n",
    "# Aplicamos el filtro con referencia en la columna 'name'\n",
    "dfBusinessYelp = dfBusinessYelp[dfBusinessYelp['name'] == 'Subway']"
   ]
  },
  {
   "cell_type": "markdown",
   "metadata": {},
   "source": [
    "De limitamos a una franquicia de comida rapida 'Subway'(sandwiches) que hemos puesto como objetivo y delimitador"
   ]
  },
  {
   "cell_type": "markdown",
   "metadata": {},
   "source": [
    "#### Limpieza y Normalizacion"
   ]
  },
  {
   "cell_type": "code",
   "execution_count": 76,
   "metadata": {},
   "outputs": [],
   "source": [
    "columnas_a_eliminar = ['is_open','address', 'name', 'categories','state', 'attributes', \n",
    "       'hours','business_id.1', 'name.1', 'address.1', 'city.1', 'state.1', \n",
    "       'postal_code.1', 'latitude.1', 'longitude.1', 'stars.1', 'review_count.1',\n",
    "        'is_open.1', 'attributes.1', 'categories.1', 'hours.1']\n",
    "\n",
    "# Eliminar las columnas especificadas\n",
    "dfBusinessYelp = dfBusinessYelp.drop(columnas_a_eliminar, axis=1)"
   ]
  },
  {
   "cell_type": "markdown",
   "metadata": {},
   "source": [
    "Como mencionamos en el conteo de nulos eliminamos columnas con demasiados valores vacios que no nos ayudaran para realizar un buen analisis.\n",
    "Las columnas'is_open','address', 'name' ya tenemos los valores y se filtro de manera correcta asi que seria redundante tener esas columnnas.\n",
    "Con respecto a la columna 'state' tiene valores que no corresponde con la latitud y longitud en el mapa, asi que mejor es no contar con esa columna."
   ]
  },
  {
   "cell_type": "code",
   "execution_count": 81,
   "metadata": {},
   "outputs": [],
   "source": [
    "# Define una función para obtener el estado desde la latitud y longitud\n",
    "def reverse_geocode(lat, lon):\n",
    "    # Aquí va tu código para obtener el estado desde la latitud y longitud\n",
    "    url = f\"https://nominatim.openstreetmap.org/reverse?format=json&lat={lat}&lon={lon}\"\n",
    "    response = requests.get(url)\n",
    "    data = response.json()\n",
    "    if 'address' in data:\n",
    "        state = data['address'].get('state', '')\n",
    "        return state\n",
    "\n",
    "# Aplica la función a cada fila del DataFrame y crea una lista de resultados\n",
    "states = [reverse_geocode(row['latitude'], row['longitude']) for _, row in dfBusinessYelp.iterrows()]\n",
    "\n",
    "# Asigna la lista de estados a la columna 'state' del DataFrame\n",
    "dfBusinessYelp['state'] = states"
   ]
  },
  {
   "cell_type": "markdown",
   "metadata": {},
   "source": [
    "Usando la API OpenStreetMap (OSM) se realizo una geocodificacion inversa que me devuelve los diferentes estados('state') basado en las columnas 'latitude' y 'longitude' "
   ]
  },
  {
   "cell_type": "code",
   "execution_count": 84,
   "metadata": {},
   "outputs": [],
   "source": [
    "# Se creó la columna 'source' con un valor unico 'Y' \n",
    "dfBusinessYelp['source']='Y'"
   ]
  },
  {
   "cell_type": "markdown",
   "metadata": {},
   "source": [
    "Se creo la colummna 'source' para identificar la tabla que pertenecen a los datos obtenidos de las tablas Yelp"
   ]
  },
  {
   "cell_type": "code",
   "execution_count": 87,
   "metadata": {},
   "outputs": [],
   "source": [
    "nuevo_orden_columnas = ['business_id', 'city', 'state', 'postal_code', 'latitude', 'longitude', 'stars', 'review_count']\n",
    "\n",
    "dfBusinessYelp = dfBusinessYelp[nuevo_orden_columnas]"
   ]
  },
  {
   "cell_type": "code",
   "execution_count": 88,
   "metadata": {},
   "outputs": [
    {
     "data": {
      "text/html": [
       "<div>\n",
       "<style scoped>\n",
       "    .dataframe tbody tr th:only-of-type {\n",
       "        vertical-align: middle;\n",
       "    }\n",
       "\n",
       "    .dataframe tbody tr th {\n",
       "        vertical-align: top;\n",
       "    }\n",
       "\n",
       "    .dataframe thead th {\n",
       "        text-align: right;\n",
       "    }\n",
       "</style>\n",
       "<table border=\"1\" class=\"dataframe\">\n",
       "  <thead>\n",
       "    <tr style=\"text-align: right;\">\n",
       "      <th></th>\n",
       "      <th>business_id</th>\n",
       "      <th>city</th>\n",
       "      <th>state</th>\n",
       "      <th>postal_code</th>\n",
       "      <th>latitude</th>\n",
       "      <th>longitude</th>\n",
       "      <th>stars</th>\n",
       "      <th>review_count</th>\n",
       "    </tr>\n",
       "  </thead>\n",
       "  <tbody>\n",
       "    <tr>\n",
       "      <th>122</th>\n",
       "      <td>VZzivJEbmHItOxNXJB3SpA</td>\n",
       "      <td>Brentwood</td>\n",
       "      <td>Tennessee</td>\n",
       "      <td>37027</td>\n",
       "      <td>36.026363</td>\n",
       "      <td>-86.789473</td>\n",
       "      <td>2.5</td>\n",
       "      <td>14</td>\n",
       "    </tr>\n",
       "    <tr>\n",
       "      <th>964</th>\n",
       "      <td>vuL3QCjFZ7lU5LMdUAmZ9Q</td>\n",
       "      <td>Wayne</td>\n",
       "      <td>Pennsylvania</td>\n",
       "      <td>19087</td>\n",
       "      <td>40.044263</td>\n",
       "      <td>-75.399354</td>\n",
       "      <td>1.5</td>\n",
       "      <td>5</td>\n",
       "    </tr>\n",
       "    <tr>\n",
       "      <th>1417</th>\n",
       "      <td>Hqz96v1ymucUKNzIWfEKXw</td>\n",
       "      <td>Santa Barbara</td>\n",
       "      <td>California</td>\n",
       "      <td>93101</td>\n",
       "      <td>34.430822</td>\n",
       "      <td>-119.714156</td>\n",
       "      <td>3.0</td>\n",
       "      <td>5</td>\n",
       "    </tr>\n",
       "    <tr>\n",
       "      <th>1649</th>\n",
       "      <td>gi90NMmRhzl8vzM83UNOVA</td>\n",
       "      <td>Tampa</td>\n",
       "      <td>Florida</td>\n",
       "      <td>33647</td>\n",
       "      <td>28.150110</td>\n",
       "      <td>-82.353997</td>\n",
       "      <td>3.0</td>\n",
       "      <td>14</td>\n",
       "    </tr>\n",
       "    <tr>\n",
       "      <th>1656</th>\n",
       "      <td>qZIiURCjON7QcTzNtG9JpQ</td>\n",
       "      <td>Nashville</td>\n",
       "      <td>Tennessee</td>\n",
       "      <td>37205</td>\n",
       "      <td>36.131607</td>\n",
       "      <td>-86.858115</td>\n",
       "      <td>1.5</td>\n",
       "      <td>8</td>\n",
       "    </tr>\n",
       "  </tbody>\n",
       "</table>\n",
       "</div>"
      ],
      "text/plain": [
       "                 business_id           city         state postal_code  \\\n",
       "122   VZzivJEbmHItOxNXJB3SpA      Brentwood     Tennessee       37027   \n",
       "964   vuL3QCjFZ7lU5LMdUAmZ9Q          Wayne  Pennsylvania       19087   \n",
       "1417  Hqz96v1ymucUKNzIWfEKXw  Santa Barbara    California       93101   \n",
       "1649  gi90NMmRhzl8vzM83UNOVA          Tampa       Florida       33647   \n",
       "1656  qZIiURCjON7QcTzNtG9JpQ      Nashville     Tennessee       37205   \n",
       "\n",
       "       latitude   longitude  stars  review_count  \n",
       "122   36.026363  -86.789473    2.5            14  \n",
       "964   40.044263  -75.399354    1.5             5  \n",
       "1417  34.430822 -119.714156    3.0             5  \n",
       "1649  28.150110  -82.353997    3.0            14  \n",
       "1656  36.131607  -86.858115    1.5             8  "
      ]
     },
     "execution_count": 88,
     "metadata": {},
     "output_type": "execute_result"
    }
   ],
   "source": [
    "dfBusinessYelp.head()"
   ]
  },
  {
   "cell_type": "markdown",
   "metadata": {},
   "source": [
    "## 3.2 Dataset Reviews Yelp"
   ]
  },
  {
   "cell_type": "markdown",
   "metadata": {},
   "source": [
    "### 3.2.1. Exploración inicial de los datos"
   ]
  },
  {
   "cell_type": "code",
   "execution_count": 16,
   "metadata": {},
   "outputs": [
    {
     "data": {
      "text/html": [
       "<div>\n",
       "<style scoped>\n",
       "    .dataframe tbody tr th:only-of-type {\n",
       "        vertical-align: middle;\n",
       "    }\n",
       "\n",
       "    .dataframe tbody tr th {\n",
       "        vertical-align: top;\n",
       "    }\n",
       "\n",
       "    .dataframe thead th {\n",
       "        text-align: right;\n",
       "    }\n",
       "</style>\n",
       "<table border=\"1\" class=\"dataframe\">\n",
       "  <thead>\n",
       "    <tr style=\"text-align: right;\">\n",
       "      <th></th>\n",
       "      <th>review_id</th>\n",
       "      <th>user_id</th>\n",
       "      <th>business_id</th>\n",
       "      <th>stars</th>\n",
       "      <th>useful</th>\n",
       "      <th>funny</th>\n",
       "      <th>cool</th>\n",
       "      <th>text</th>\n",
       "      <th>date</th>\n",
       "    </tr>\n",
       "  </thead>\n",
       "  <tbody>\n",
       "    <tr>\n",
       "      <th>0</th>\n",
       "      <td>F6VdYuJiefNBfn3HNELv0A</td>\n",
       "      <td>s4sR0rvVOf6iby77xGeyLg</td>\n",
       "      <td>z7em5co2qckbAXoDGXynsA</td>\n",
       "      <td>5</td>\n",
       "      <td>0</td>\n",
       "      <td>0</td>\n",
       "      <td>0</td>\n",
       "      <td>The food is INCREDIBLE! We didn't have time to...</td>\n",
       "      <td>2019-01-04 02:18:09</td>\n",
       "    </tr>\n",
       "    <tr>\n",
       "      <th>1</th>\n",
       "      <td>nAMDCKElSKxOhzm9Lpt6Eg</td>\n",
       "      <td>SRp90x9d2719GOZ_PT-a6A</td>\n",
       "      <td>M0r9lUn2gLFYgIwIfG8-bQ</td>\n",
       "      <td>5</td>\n",
       "      <td>0</td>\n",
       "      <td>0</td>\n",
       "      <td>0</td>\n",
       "      <td>We had a great time, and excellent service. Al...</td>\n",
       "      <td>2019-01-06 11:48:21</td>\n",
       "    </tr>\n",
       "    <tr>\n",
       "      <th>2</th>\n",
       "      <td>3CmdoGKBZUX3Nb5IfbztMg</td>\n",
       "      <td>IDOQnhI1GOkLIDaTbBxkfw</td>\n",
       "      <td>itAhmbhHOyQQparfwicjDQ</td>\n",
       "      <td>5</td>\n",
       "      <td>0</td>\n",
       "      <td>0</td>\n",
       "      <td>0</td>\n",
       "      <td>My favorite coffee shop in New Orleans for sur...</td>\n",
       "      <td>2019-01-27 15:08:14</td>\n",
       "    </tr>\n",
       "    <tr>\n",
       "      <th>3</th>\n",
       "      <td>-4Nv_JAolCM0gzKM4DZpmQ</td>\n",
       "      <td>NjuPidqqsNW9KG8PBPrycg</td>\n",
       "      <td>-3AooxIkg38UyUdlz5oXdw</td>\n",
       "      <td>4</td>\n",
       "      <td>2</td>\n",
       "      <td>0</td>\n",
       "      <td>1</td>\n",
       "      <td>Old school circa 1979, the cozy, intimate banq...</td>\n",
       "      <td>2019-02-17 20:28:26</td>\n",
       "    </tr>\n",
       "    <tr>\n",
       "      <th>4</th>\n",
       "      <td>_eQuEUgJkgHQjKEO00ZK9Q</td>\n",
       "      <td>X71-eKfjEgfSxApe2MtrfQ</td>\n",
       "      <td>TVGuOv0Nc0omLXtGKVOwdQ</td>\n",
       "      <td>1</td>\n",
       "      <td>0</td>\n",
       "      <td>0</td>\n",
       "      <td>0</td>\n",
       "      <td>All Lowes in 20 mile radius, stopped\\nstocking...</td>\n",
       "      <td>2019-02-17 17:17:56</td>\n",
       "    </tr>\n",
       "  </tbody>\n",
       "</table>\n",
       "</div>"
      ],
      "text/plain": [
       "                review_id                 user_id             business_id  \\\n",
       "0  F6VdYuJiefNBfn3HNELv0A  s4sR0rvVOf6iby77xGeyLg  z7em5co2qckbAXoDGXynsA   \n",
       "1  nAMDCKElSKxOhzm9Lpt6Eg  SRp90x9d2719GOZ_PT-a6A  M0r9lUn2gLFYgIwIfG8-bQ   \n",
       "2  3CmdoGKBZUX3Nb5IfbztMg  IDOQnhI1GOkLIDaTbBxkfw  itAhmbhHOyQQparfwicjDQ   \n",
       "3  -4Nv_JAolCM0gzKM4DZpmQ  NjuPidqqsNW9KG8PBPrycg  -3AooxIkg38UyUdlz5oXdw   \n",
       "4  _eQuEUgJkgHQjKEO00ZK9Q  X71-eKfjEgfSxApe2MtrfQ  TVGuOv0Nc0omLXtGKVOwdQ   \n",
       "\n",
       "   stars  useful  funny  cool  \\\n",
       "0      5       0      0     0   \n",
       "1      5       0      0     0   \n",
       "2      5       0      0     0   \n",
       "3      4       2      0     1   \n",
       "4      1       0      0     0   \n",
       "\n",
       "                                                text                 date  \n",
       "0  The food is INCREDIBLE! We didn't have time to...  2019-01-04 02:18:09  \n",
       "1  We had a great time, and excellent service. Al...  2019-01-06 11:48:21  \n",
       "2  My favorite coffee shop in New Orleans for sur...  2019-01-27 15:08:14  \n",
       "3  Old school circa 1979, the cozy, intimate banq...  2019-02-17 20:28:26  \n",
       "4  All Lowes in 20 mile radius, stopped\\nstocking...  2019-02-17 17:17:56  "
      ]
     },
     "execution_count": 16,
     "metadata": {},
     "output_type": "execute_result"
    }
   ],
   "source": [
    "#Vizualizo las primeras filas del DataFrame\n",
    "dfReviewYelp.head()"
   ]
  },
  {
   "cell_type": "code",
   "execution_count": 17,
   "metadata": {},
   "outputs": [
    {
     "name": "stdout",
     "output_type": "stream",
     "text": [
      "<class 'pandas.core.frame.DataFrame'>\n",
      "RangeIndex: 2078061 entries, 0 to 2078060\n",
      "Data columns (total 9 columns):\n",
      " #   Column       Dtype \n",
      "---  ------       ----- \n",
      " 0   review_id    object\n",
      " 1   user_id      object\n",
      " 2   business_id  object\n",
      " 3   stars        int64 \n",
      " 4   useful       int64 \n",
      " 5   funny        int64 \n",
      " 6   cool         int64 \n",
      " 7   text         object\n",
      " 8   date         object\n",
      "dtypes: int64(4), object(5)\n",
      "memory usage: 142.7+ MB\n"
     ]
    }
   ],
   "source": [
    "dfReviewYelp.info()"
   ]
  },
  {
   "cell_type": "code",
   "execution_count": 18,
   "metadata": {},
   "outputs": [
    {
     "name": "stdout",
     "output_type": "stream",
     "text": [
      "review_id      0\n",
      "user_id        0\n",
      "business_id    0\n",
      "stars          0\n",
      "useful         0\n",
      "funny          0\n",
      "cool           0\n",
      "text           0\n",
      "date           0\n",
      "dtype: int64\n"
     ]
    }
   ],
   "source": [
    "# Contar filas vacías por columna\n",
    "filas_vacias_por_columna = dfReviewYelp.isnull().sum()\n",
    "print(filas_vacias_por_columna)"
   ]
  },
  {
   "cell_type": "markdown",
   "metadata": {},
   "source": [
    "Como observamos no tenemos valores nulos"
   ]
  },
  {
   "cell_type": "code",
   "execution_count": 19,
   "metadata": {},
   "outputs": [
    {
     "name": "stdout",
     "output_type": "stream",
     "text": [
      "Filas duplicadas en el DataFrame: 0\n"
     ]
    }
   ],
   "source": [
    "# Contar la cantidad de duplicados del DataFrame\n",
    "filas_duplicadas = dfReviewYelp.duplicated().sum()\n",
    "print(\"Filas duplicadas en el DataFrame:\", filas_duplicadas)"
   ]
  },
  {
   "cell_type": "markdown",
   "metadata": {},
   "source": [
    "Como observamos no tenemos filas duplicadas"
   ]
  },
  {
   "cell_type": "markdown",
   "metadata": {},
   "source": [
    "### 3.2.2. Limpieza y Normalización de datos"
   ]
  },
  {
   "cell_type": "markdown",
   "metadata": {},
   "source": [
    "Filtrado de datos"
   ]
  },
  {
   "cell_type": "code",
   "execution_count": 70,
   "metadata": {},
   "outputs": [],
   "source": [
    "# Obtener los id únicos del DataFrame dfbusinessYelp\n",
    "business_ids_to_keep = dfBusinessYelp['business_id'].unique()\n",
    "\n",
    "\n",
    "# Friltamos el dfreviewYelp basado en los balores unico de lao id de dfbusinessYelp\n",
    "dfReviewYelp = dfReviewYelp[dfReviewYelp['business_id'].isin(business_ids_to_keep)]\n",
    "\n",
    "# El conjunto de datos se filtró por la fecha desde el inicio del 2016 hasta finalizar el 2021.\n",
    "#dfreviewYelp = dfreviewYelp[(dfreviewYelp['date'] >= '2016-01-01') & (dfreviewYelp['date'] >= '2021-12-31')]"
   ]
  },
  {
   "cell_type": "markdown",
   "metadata": {},
   "source": [
    "Aplicamos un filtro solo para quedarnos con los valores que coincidan con el id del negocio"
   ]
  },
  {
   "cell_type": "markdown",
   "metadata": {},
   "source": [
    "#### Limpieza y Normalizacion"
   ]
  },
  {
   "cell_type": "code",
   "execution_count": 42,
   "metadata": {},
   "outputs": [],
   "source": [
    "# Convertir la columna 'date' a tipo datetime\n",
    "dfReviewYelp['date'] = pd.to_datetime(dfReviewYelp['date'])\n",
    "\n",
    "# Crear nuevas columnas para año, mes y día\n",
    "dfReviewYelp['year'] = dfReviewYelp['date'].dt.year\n",
    "dfReviewYelp['month'] = dfReviewYelp['date'].dt.month\n",
    "dfReviewYelp['day'] = dfReviewYelp['date'].dt.day"
   ]
  },
  {
   "cell_type": "code",
   "execution_count": 44,
   "metadata": {},
   "outputs": [],
   "source": [
    "columnas_a_eliminar = ['review_id', 'useful', 'funny', 'cool','date']\n",
    "\n",
    "# Eliminar las columnas especificadas\n",
    "dfReviewYelp = dfReviewYelp.drop(columnas_a_eliminar, axis=1)"
   ]
  },
  {
   "cell_type": "code",
   "execution_count": 47,
   "metadata": {},
   "outputs": [],
   "source": [
    "# Aplicar la limpieza de texto directamente sobre la columna 'text'\n",
    "dfReviewYelp['text'] = dfReviewYelp['text'].str.lower().str.replace(r'[^a-z0-9\\s]', '')"
   ]
  },
  {
   "cell_type": "code",
   "execution_count": 48,
   "metadata": {},
   "outputs": [],
   "source": [
    "# Modificamos el tipo de dato a un valor flotante\n",
    "dfReviewYelp['stars'] = dfReviewYelp['stars'].astype('float64')"
   ]
  },
  {
   "cell_type": "code",
   "execution_count": 49,
   "metadata": {},
   "outputs": [],
   "source": [
    "# Se añade la columna 'source', con valor unico 'Y'\n",
    "dfBusinessYelp['source']='Y'"
   ]
  },
  {
   "cell_type": "markdown",
   "metadata": {},
   "source": [
    "Se añade la columna 'source' y se usa 'Y' para indicar que los datos provienen del conjunto de datos de Yelp."
   ]
  },
  {
   "cell_type": "markdown",
   "metadata": {},
   "source": [
    "## 4. Almacenamiento de Datos"
   ]
  },
  {
   "cell_type": "code",
   "execution_count": 89,
   "metadata": {},
   "outputs": [],
   "source": [
    "dfBusinessYelp.to_csv('DataSets/Cleaned_Business_Y.csv', index=False)"
   ]
  },
  {
   "cell_type": "code",
   "execution_count": 52,
   "metadata": {},
   "outputs": [],
   "source": [
    "dfReviewYelp.to_csv('DataSets/Cleaned_Review_Y.csv', index= False)"
   ]
  },
  {
   "cell_type": "code",
   "execution_count": 51,
   "metadata": {},
   "outputs": [
    {
     "data": {
      "text/html": [
       "<div>\n",
       "<style scoped>\n",
       "    .dataframe tbody tr th:only-of-type {\n",
       "        vertical-align: middle;\n",
       "    }\n",
       "\n",
       "    .dataframe tbody tr th {\n",
       "        vertical-align: top;\n",
       "    }\n",
       "\n",
       "    .dataframe thead th {\n",
       "        text-align: right;\n",
       "    }\n",
       "</style>\n",
       "<table border=\"1\" class=\"dataframe\">\n",
       "  <thead>\n",
       "    <tr style=\"text-align: right;\">\n",
       "      <th></th>\n",
       "      <th>user_id</th>\n",
       "      <th>business_id</th>\n",
       "      <th>stars</th>\n",
       "      <th>text</th>\n",
       "      <th>year</th>\n",
       "      <th>month</th>\n",
       "      <th>day</th>\n",
       "    </tr>\n",
       "  </thead>\n",
       "  <tbody>\n",
       "    <tr>\n",
       "      <th>447</th>\n",
       "      <td>XF-Bs5-h0wHWVBfK7WDScA</td>\n",
       "      <td>wQnVwt98pXX0n0Szro_XGg</td>\n",
       "      <td>4.0</td>\n",
       "      <td>me and my mom usually go here a lot and are sa...</td>\n",
       "      <td>2019</td>\n",
       "      <td>9</td>\n",
       "      <td>22</td>\n",
       "    </tr>\n",
       "    <tr>\n",
       "      <th>2247</th>\n",
       "      <td>5_eZ1vGz04nRP42y9jqX9A</td>\n",
       "      <td>67QczBNcTAYq8alxqwiZ5g</td>\n",
       "      <td>2.0</td>\n",
       "      <td>so much for the sub of the day special. gone f...</td>\n",
       "      <td>2019</td>\n",
       "      <td>5</td>\n",
       "      <td>25</td>\n",
       "    </tr>\n",
       "    <tr>\n",
       "      <th>2429</th>\n",
       "      <td>pzgJ1swB1S1VLc6yjRu66Q</td>\n",
       "      <td>vLdELbSYtwKVpkl4ownLEA</td>\n",
       "      <td>1.0</td>\n",
       "      <td>i have been coming to this subway for a year. ...</td>\n",
       "      <td>2019</td>\n",
       "      <td>7</td>\n",
       "      <td>9</td>\n",
       "    </tr>\n",
       "  </tbody>\n",
       "</table>\n",
       "</div>"
      ],
      "text/plain": [
       "                     user_id             business_id  stars  \\\n",
       "447   XF-Bs5-h0wHWVBfK7WDScA  wQnVwt98pXX0n0Szro_XGg    4.0   \n",
       "2247  5_eZ1vGz04nRP42y9jqX9A  67QczBNcTAYq8alxqwiZ5g    2.0   \n",
       "2429  pzgJ1swB1S1VLc6yjRu66Q  vLdELbSYtwKVpkl4ownLEA    1.0   \n",
       "\n",
       "                                                   text  year  month  day  \n",
       "447   me and my mom usually go here a lot and are sa...  2019      9   22  \n",
       "2247  so much for the sub of the day special. gone f...  2019      5   25  \n",
       "2429  i have been coming to this subway for a year. ...  2019      7    9  "
      ]
     },
     "execution_count": 51,
     "metadata": {},
     "output_type": "execute_result"
    }
   ],
   "source": [
    "dfReviewYelp.head(3)"
   ]
  }
 ],
 "metadata": {
  "kernelspec": {
   "display_name": "PF",
   "language": "python",
   "name": "python3"
  },
  "language_info": {
   "codemirror_mode": {
    "name": "ipython",
    "version": 3
   },
   "file_extension": ".py",
   "mimetype": "text/x-python",
   "name": "python",
   "nbconvert_exporter": "python",
   "pygments_lexer": "ipython3",
   "version": "3.11.8"
  }
 },
 "nbformat": 4,
 "nbformat_minor": 2
}
