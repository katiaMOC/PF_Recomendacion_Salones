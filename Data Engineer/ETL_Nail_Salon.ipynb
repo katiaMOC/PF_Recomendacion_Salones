{
 "cells": [
  {
   "cell_type": "markdown",
   "metadata": {},
   "source": [
    "# ETL YELP"
   ]
  },
  {
   "cell_type": "markdown",
   "metadata": {},
   "source": [
    "# 1. Importar librerias"
   ]
  },
  {
   "cell_type": "code",
   "execution_count": 2,
   "metadata": {},
   "outputs": [],
   "source": [
    "import pandas as pd\n",
    "import numpy as np\n",
    "import re\n",
    "import requests\n",
    "import warnings\n",
    "warnings.filterwarnings(\"ignore\", message=\"Downcasting.*\", category=FutureWarning)\n"
   ]
  },
  {
   "cell_type": "markdown",
   "metadata": {},
   "source": [
    "# 2. Carga de Datos"
   ]
  },
  {
   "cell_type": "code",
   "execution_count": 4,
   "metadata": {},
   "outputs": [
    {
     "name": "stderr",
     "output_type": "stream",
     "text": [
      "C:\\Users\\U ANGEL\\AppData\\Local\\Temp\\ipykernel_16500\\3750625278.py:1: DtypeWarning: Columns (14,15,16,17,18,19,25,26,27) have mixed types. Specify dtype option on import or set low_memory=False.\n",
      "  dfBusinessYelp = pd.read_csv('Data/Business.csv')\n"
     ]
    }
   ],
   "source": [
    "dfBusinessYelp = pd.read_csv('Data/Business.csv')\n"
   ]
  },
  {
   "cell_type": "code",
   "execution_count": null,
   "metadata": {},
   "outputs": [],
   "source": [
    "Review = pd.read_csv('Data/Review-1.csv')\n",
    "Tips = pd.read_csv('Data/Tips.csv')\n",
    "User = pd.read_csv('Data/User.csv')"
   ]
  },
  {
   "cell_type": "markdown",
   "metadata": {},
   "source": [
    "# 3. Exploracion y Limpieza de Datos"
   ]
  },
  {
   "cell_type": "markdown",
   "metadata": {},
   "source": [
    "## 3.1 Dataset Business Yelp"
   ]
  },
  {
   "cell_type": "markdown",
   "metadata": {},
   "source": [
    "### 3.1.1. Exploración inicial de los datos"
   ]
  },
  {
   "cell_type": "code",
   "execution_count": 5,
   "metadata": {},
   "outputs": [
    {
     "data": {
      "text/html": [
       "<div>\n",
       "<style scoped>\n",
       "    .dataframe tbody tr th:only-of-type {\n",
       "        vertical-align: middle;\n",
       "    }\n",
       "\n",
       "    .dataframe tbody tr th {\n",
       "        vertical-align: top;\n",
       "    }\n",
       "\n",
       "    .dataframe thead th {\n",
       "        text-align: right;\n",
       "    }\n",
       "</style>\n",
       "<table border=\"1\" class=\"dataframe\">\n",
       "  <thead>\n",
       "    <tr style=\"text-align: right;\">\n",
       "      <th></th>\n",
       "      <th>business_id</th>\n",
       "      <th>name</th>\n",
       "      <th>address</th>\n",
       "      <th>city</th>\n",
       "      <th>state</th>\n",
       "      <th>postal_code</th>\n",
       "      <th>latitude</th>\n",
       "      <th>longitude</th>\n",
       "      <th>stars</th>\n",
       "      <th>review_count</th>\n",
       "      <th>...</th>\n",
       "      <th>state.1</th>\n",
       "      <th>postal_code.1</th>\n",
       "      <th>latitude.1</th>\n",
       "      <th>longitude.1</th>\n",
       "      <th>stars.1</th>\n",
       "      <th>review_count.1</th>\n",
       "      <th>is_open.1</th>\n",
       "      <th>attributes.1</th>\n",
       "      <th>categories.1</th>\n",
       "      <th>hours.1</th>\n",
       "    </tr>\n",
       "  </thead>\n",
       "  <tbody>\n",
       "    <tr>\n",
       "      <th>0</th>\n",
       "      <td>Pns2l4eNsfO8kk83dixA6A</td>\n",
       "      <td>Abby Rappoport, LAC, CMQ</td>\n",
       "      <td>1616 Chapala St, Ste 2</td>\n",
       "      <td>Santa Barbara</td>\n",
       "      <td>NaN</td>\n",
       "      <td>93101</td>\n",
       "      <td>34.426679</td>\n",
       "      <td>-119.711197</td>\n",
       "      <td>5.0</td>\n",
       "      <td>7</td>\n",
       "      <td>...</td>\n",
       "      <td>NaN</td>\n",
       "      <td>NaN</td>\n",
       "      <td>NaN</td>\n",
       "      <td>NaN</td>\n",
       "      <td>NaN</td>\n",
       "      <td>NaN</td>\n",
       "      <td>NaN</td>\n",
       "      <td>NaN</td>\n",
       "      <td>NaN</td>\n",
       "      <td>NaN</td>\n",
       "    </tr>\n",
       "    <tr>\n",
       "      <th>1</th>\n",
       "      <td>mpf3x-BjTdTEA3yCZrAYPw</td>\n",
       "      <td>The UPS Store</td>\n",
       "      <td>87 Grasso Plaza Shopping Center</td>\n",
       "      <td>Affton</td>\n",
       "      <td>NaN</td>\n",
       "      <td>63123</td>\n",
       "      <td>38.551126</td>\n",
       "      <td>-90.335695</td>\n",
       "      <td>3.0</td>\n",
       "      <td>15</td>\n",
       "      <td>...</td>\n",
       "      <td>NaN</td>\n",
       "      <td>NaN</td>\n",
       "      <td>NaN</td>\n",
       "      <td>NaN</td>\n",
       "      <td>NaN</td>\n",
       "      <td>NaN</td>\n",
       "      <td>NaN</td>\n",
       "      <td>NaN</td>\n",
       "      <td>NaN</td>\n",
       "      <td>NaN</td>\n",
       "    </tr>\n",
       "    <tr>\n",
       "      <th>2</th>\n",
       "      <td>tUFrWirKiKi_TAnsVWINQQ</td>\n",
       "      <td>Target</td>\n",
       "      <td>5255 E Broadway Blvd</td>\n",
       "      <td>Tucson</td>\n",
       "      <td>NaN</td>\n",
       "      <td>85711</td>\n",
       "      <td>32.223236</td>\n",
       "      <td>-110.880452</td>\n",
       "      <td>3.5</td>\n",
       "      <td>22</td>\n",
       "      <td>...</td>\n",
       "      <td>NaN</td>\n",
       "      <td>NaN</td>\n",
       "      <td>NaN</td>\n",
       "      <td>NaN</td>\n",
       "      <td>NaN</td>\n",
       "      <td>NaN</td>\n",
       "      <td>NaN</td>\n",
       "      <td>NaN</td>\n",
       "      <td>NaN</td>\n",
       "      <td>NaN</td>\n",
       "    </tr>\n",
       "    <tr>\n",
       "      <th>3</th>\n",
       "      <td>MTSW4McQd7CbVtyjqoe9mw</td>\n",
       "      <td>St Honore Pastries</td>\n",
       "      <td>935 Race St</td>\n",
       "      <td>Philadelphia</td>\n",
       "      <td>CA</td>\n",
       "      <td>19107</td>\n",
       "      <td>39.955505</td>\n",
       "      <td>-75.155564</td>\n",
       "      <td>4.0</td>\n",
       "      <td>80</td>\n",
       "      <td>...</td>\n",
       "      <td>NaN</td>\n",
       "      <td>NaN</td>\n",
       "      <td>NaN</td>\n",
       "      <td>NaN</td>\n",
       "      <td>NaN</td>\n",
       "      <td>NaN</td>\n",
       "      <td>NaN</td>\n",
       "      <td>NaN</td>\n",
       "      <td>NaN</td>\n",
       "      <td>NaN</td>\n",
       "    </tr>\n",
       "    <tr>\n",
       "      <th>4</th>\n",
       "      <td>mWMc6_wTdE0EUBKIGXDVfA</td>\n",
       "      <td>Perkiomen Valley Brewery</td>\n",
       "      <td>101 Walnut St</td>\n",
       "      <td>Green Lane</td>\n",
       "      <td>MO</td>\n",
       "      <td>18054</td>\n",
       "      <td>40.338183</td>\n",
       "      <td>-75.471659</td>\n",
       "      <td>4.5</td>\n",
       "      <td>13</td>\n",
       "      <td>...</td>\n",
       "      <td>NaN</td>\n",
       "      <td>NaN</td>\n",
       "      <td>NaN</td>\n",
       "      <td>NaN</td>\n",
       "      <td>NaN</td>\n",
       "      <td>NaN</td>\n",
       "      <td>NaN</td>\n",
       "      <td>NaN</td>\n",
       "      <td>NaN</td>\n",
       "      <td>NaN</td>\n",
       "    </tr>\n",
       "  </tbody>\n",
       "</table>\n",
       "<p>5 rows × 28 columns</p>\n",
       "</div>"
      ],
      "text/plain": [
       "              business_id                      name  \\\n",
       "0  Pns2l4eNsfO8kk83dixA6A  Abby Rappoport, LAC, CMQ   \n",
       "1  mpf3x-BjTdTEA3yCZrAYPw             The UPS Store   \n",
       "2  tUFrWirKiKi_TAnsVWINQQ                    Target   \n",
       "3  MTSW4McQd7CbVtyjqoe9mw        St Honore Pastries   \n",
       "4  mWMc6_wTdE0EUBKIGXDVfA  Perkiomen Valley Brewery   \n",
       "\n",
       "                           address           city state postal_code  \\\n",
       "0           1616 Chapala St, Ste 2  Santa Barbara   NaN       93101   \n",
       "1  87 Grasso Plaza Shopping Center         Affton   NaN       63123   \n",
       "2             5255 E Broadway Blvd         Tucson   NaN       85711   \n",
       "3                      935 Race St   Philadelphia    CA       19107   \n",
       "4                    101 Walnut St     Green Lane    MO       18054   \n",
       "\n",
       "    latitude   longitude  stars  review_count  ...  state.1 postal_code.1  \\\n",
       "0  34.426679 -119.711197    5.0             7  ...      NaN           NaN   \n",
       "1  38.551126  -90.335695    3.0            15  ...      NaN           NaN   \n",
       "2  32.223236 -110.880452    3.5            22  ...      NaN           NaN   \n",
       "3  39.955505  -75.155564    4.0            80  ...      NaN           NaN   \n",
       "4  40.338183  -75.471659    4.5            13  ...      NaN           NaN   \n",
       "\n",
       "  latitude.1 longitude.1 stars.1 review_count.1 is_open.1 attributes.1  \\\n",
       "0        NaN         NaN     NaN            NaN       NaN          NaN   \n",
       "1        NaN         NaN     NaN            NaN       NaN          NaN   \n",
       "2        NaN         NaN     NaN            NaN       NaN          NaN   \n",
       "3        NaN         NaN     NaN            NaN       NaN          NaN   \n",
       "4        NaN         NaN     NaN            NaN       NaN          NaN   \n",
       "\n",
       "  categories.1 hours.1  \n",
       "0          NaN     NaN  \n",
       "1          NaN     NaN  \n",
       "2          NaN     NaN  \n",
       "3          NaN     NaN  \n",
       "4          NaN     NaN  \n",
       "\n",
       "[5 rows x 28 columns]"
      ]
     },
     "execution_count": 5,
     "metadata": {},
     "output_type": "execute_result"
    }
   ],
   "source": [
    "#Vizualizo las primeras filas del DataFrame\n",
    "dfBusinessYelp.head()"
   ]
  },
  {
   "cell_type": "code",
   "execution_count": null,
   "metadata": {},
   "outputs": [
    {
     "name": "stdout",
     "output_type": "stream",
     "text": [
      "<class 'pandas.core.frame.DataFrame'>\n",
      "RangeIndex: 150346 entries, 0 to 150345\n",
      "Data columns (total 28 columns):\n",
      " #   Column          Non-Null Count   Dtype  \n",
      "---  ------          --------------   -----  \n",
      " 0   business_id     150346 non-null  object \n",
      " 1   name            150346 non-null  object \n",
      " 2   address         145219 non-null  object \n",
      " 3   city            150346 non-null  object \n",
      " 4   state           150343 non-null  object \n",
      " 5   postal_code     150273 non-null  object \n",
      " 6   latitude        150346 non-null  float64\n",
      " 7   longitude       150346 non-null  float64\n",
      " 8   stars           150346 non-null  float64\n",
      " 9   review_count    150346 non-null  int64  \n",
      " 10  is_open         150346 non-null  int64  \n",
      " 11  attributes      136602 non-null  object \n",
      " 12  categories      150243 non-null  object \n",
      " 13  hours           127123 non-null  object \n",
      " 14  business_id.1   5 non-null       object \n",
      " 15  name.1          5 non-null       object \n",
      " 16  address.1       5 non-null       object \n",
      " 17  city.1          5 non-null       object \n",
      " 18  state.1         5 non-null       object \n",
      " 19  postal_code.1   5 non-null       object \n",
      " 20  latitude.1      5 non-null       float64\n",
      " 21  longitude.1     5 non-null       float64\n",
      " 22  stars.1         5 non-null       float64\n",
      " 23  review_count.1  5 non-null       float64\n",
      " 24  is_open.1       5 non-null       float64\n",
      " 25  attributes.1    5 non-null       object \n",
      " 26  categories.1    5 non-null       object \n",
      " 27  hours.1         5 non-null       object \n",
      "dtypes: float64(8), int64(2), object(18)\n",
      "memory usage: 32.1+ MB\n"
     ]
    }
   ],
   "source": [
    "# Obtener información sobre las columnas y los tipos de datos\n",
    "dfBusinessYelp.info()"
   ]
  },
  {
   "cell_type": "code",
   "execution_count": null,
   "metadata": {},
   "outputs": [
    {
     "name": "stdout",
     "output_type": "stream",
     "text": [
      "business_id            0\n",
      "name                   0\n",
      "address             5127\n",
      "city                   0\n",
      "state                  3\n",
      "postal_code           73\n",
      "latitude               0\n",
      "longitude              0\n",
      "stars                  0\n",
      "review_count           0\n",
      "is_open                0\n",
      "attributes         13744\n",
      "categories           103\n",
      "hours              23223\n",
      "business_id.1     150341\n",
      "name.1            150341\n",
      "address.1         150341\n",
      "city.1            150341\n",
      "state.1           150341\n",
      "postal_code.1     150341\n",
      "latitude.1        150341\n",
      "longitude.1       150341\n",
      "stars.1           150341\n",
      "review_count.1    150341\n",
      "is_open.1         150341\n",
      "attributes.1      150341\n",
      "categories.1      150341\n",
      "hours.1           150341\n",
      "dtype: int64\n"
     ]
    }
   ],
   "source": [
    "# Contar filas vacías por columna\n",
    "filas_vacias_por_columna = dfBusinessYelp.isnull().sum()\n",
    "print(filas_vacias_por_columna)"
   ]
  },
  {
   "cell_type": "markdown",
   "metadata": {},
   "source": [
    "Al evaluar la cantidad de nulos por columnas vemos que las columnas : 'business_id.1', 'name.1',\n",
    "       'address.1', 'city.1', 'state.1', 'postal_code.1', 'latitude.1',\n",
    "       'longitude.1', 'stars.1', 'review_count.1', 'is_open.1', 'attributes.1',\n",
    "       'categories.1', 'hours.1', estan llenos de nulos"
   ]
  },
  {
   "cell_type": "code",
   "execution_count": 6,
   "metadata": {},
   "outputs": [
    {
     "name": "stdout",
     "output_type": "stream",
     "text": [
      "Filas duplicadas en el DataFrame: 0\n"
     ]
    }
   ],
   "source": [
    "# Contar la cantidad de duplicados del DataFrame\n",
    "filas_duplicadas = dfBusinessYelp.duplicated().sum()\n",
    "print(\"Filas duplicadas en el DataFrame:\", filas_duplicadas)"
   ]
  },
  {
   "cell_type": "markdown",
   "metadata": {},
   "source": [
    "Como logramos observas no encontramos valores duplicados en el DataFrame"
   ]
  },
  {
   "cell_type": "code",
   "execution_count": 7,
   "metadata": {},
   "outputs": [
    {
     "data": {
      "text/plain": [
       "array([nan, 'CA', 'MO', 'AZ', 'PA', 'TN', 'FL', 'IN', 'LA', 'AB', 'NV',\n",
       "       'ID', 'DE', 'IL', 'NJ', 'NC', 'CO', 'WA', 'HI', 'UT', 'TX', 'MT',\n",
       "       'MI', 'SD', 'XMS', 'MA', 'VI', 'VT'], dtype=object)"
      ]
     },
     "execution_count": 7,
     "metadata": {},
     "output_type": "execute_result"
    }
   ],
   "source": [
    "dfBusinessYelp['state'].unique()"
   ]
  },
  {
   "cell_type": "markdown",
   "metadata": {},
   "source": [
    "Al ver que hay valores nulos, siglas de los diferentes estados concluyo que la columna 'state' es mejor no usarla y sacar los estados mediante la longitud y latitud"
   ]
  },
  {
   "cell_type": "markdown",
   "metadata": {},
   "source": [
    "### 3.1.2. Limpieza y Normalización de datos"
   ]
  },
  {
   "cell_type": "markdown",
   "metadata": {},
   "source": [
    "#### Filtrado de datos"
   ]
  },
  {
   "cell_type": "code",
   "execution_count": 8,
   "metadata": {},
   "outputs": [],
   "source": [
    "# El alcance del proyecto se limita a los diferentes negocios \n",
    "# dentro de la categoria 'Nail Salon', por lo que se aplica el filtro.\n",
    "\n",
    "# Eliminar filas con valores NaN en la columna 'categories'\n",
    "dfBusinessYelp = dfBusinessYelp.dropna(subset=['categories'])\n",
    "\n",
    "# Filtrar las filas que contienen 'Nail Salons' en la columna 'categories'\n",
    "dfBusinessYelp = dfBusinessYelp[dfBusinessYelp['categories'].str.contains('Nail Salons')]\n"
   ]
  },
  {
   "cell_type": "markdown",
   "metadata": {},
   "source": [
    "De limitamos el proyecto basado en la Categoria 'Nail Salon' o 'Salon de Uñas'"
   ]
  },
  {
   "cell_type": "code",
   "execution_count": 9,
   "metadata": {},
   "outputs": [
    {
     "data": {
      "text/html": [
       "<div>\n",
       "<style scoped>\n",
       "    .dataframe tbody tr th:only-of-type {\n",
       "        vertical-align: middle;\n",
       "    }\n",
       "\n",
       "    .dataframe tbody tr th {\n",
       "        vertical-align: top;\n",
       "    }\n",
       "\n",
       "    .dataframe thead th {\n",
       "        text-align: right;\n",
       "    }\n",
       "</style>\n",
       "<table border=\"1\" class=\"dataframe\">\n",
       "  <thead>\n",
       "    <tr style=\"text-align: right;\">\n",
       "      <th></th>\n",
       "      <th>business_id</th>\n",
       "      <th>name</th>\n",
       "      <th>address</th>\n",
       "      <th>city</th>\n",
       "      <th>state</th>\n",
       "      <th>postal_code</th>\n",
       "      <th>latitude</th>\n",
       "      <th>longitude</th>\n",
       "      <th>stars</th>\n",
       "      <th>review_count</th>\n",
       "      <th>...</th>\n",
       "      <th>state.1</th>\n",
       "      <th>postal_code.1</th>\n",
       "      <th>latitude.1</th>\n",
       "      <th>longitude.1</th>\n",
       "      <th>stars.1</th>\n",
       "      <th>review_count.1</th>\n",
       "      <th>is_open.1</th>\n",
       "      <th>attributes.1</th>\n",
       "      <th>categories.1</th>\n",
       "      <th>hours.1</th>\n",
       "    </tr>\n",
       "  </thead>\n",
       "  <tbody>\n",
       "    <tr>\n",
       "      <th>74</th>\n",
       "      <td>9Rww8yE6Dm4dSMEq09nwXg</td>\n",
       "      <td>Holly Nails &amp; Spa</td>\n",
       "      <td>9101 Belcher Rd</td>\n",
       "      <td>Pinellas Park</td>\n",
       "      <td>TN</td>\n",
       "      <td>33782</td>\n",
       "      <td>27.855347</td>\n",
       "      <td>-82.736308</td>\n",
       "      <td>4.5</td>\n",
       "      <td>16</td>\n",
       "      <td>...</td>\n",
       "      <td>NaN</td>\n",
       "      <td>NaN</td>\n",
       "      <td>NaN</td>\n",
       "      <td>NaN</td>\n",
       "      <td>NaN</td>\n",
       "      <td>NaN</td>\n",
       "      <td>NaN</td>\n",
       "      <td>NaN</td>\n",
       "      <td>NaN</td>\n",
       "      <td>NaN</td>\n",
       "    </tr>\n",
       "    <tr>\n",
       "      <th>250</th>\n",
       "      <td>my0bmPD5dgDFE1ia__LNlw</td>\n",
       "      <td>Nails &amp; Beauty Lounge</td>\n",
       "      <td>953 E Brandon Blvd</td>\n",
       "      <td>Brandon</td>\n",
       "      <td>IN</td>\n",
       "      <td>33511</td>\n",
       "      <td>27.937166</td>\n",
       "      <td>-82.269959</td>\n",
       "      <td>3.5</td>\n",
       "      <td>84</td>\n",
       "      <td>...</td>\n",
       "      <td>NaN</td>\n",
       "      <td>NaN</td>\n",
       "      <td>NaN</td>\n",
       "      <td>NaN</td>\n",
       "      <td>NaN</td>\n",
       "      <td>NaN</td>\n",
       "      <td>NaN</td>\n",
       "      <td>NaN</td>\n",
       "      <td>NaN</td>\n",
       "      <td>NaN</td>\n",
       "    </tr>\n",
       "    <tr>\n",
       "      <th>294</th>\n",
       "      <td>CLEWowfkj-wKYJlQDqT1aw</td>\n",
       "      <td>Blow Bar Express Styling Salon</td>\n",
       "      <td>310 S Dale Mabry Hwy, Ste 110</td>\n",
       "      <td>Tampa</td>\n",
       "      <td>TN</td>\n",
       "      <td>33609</td>\n",
       "      <td>27.941975</td>\n",
       "      <td>-82.505307</td>\n",
       "      <td>4.0</td>\n",
       "      <td>55</td>\n",
       "      <td>...</td>\n",
       "      <td>NaN</td>\n",
       "      <td>NaN</td>\n",
       "      <td>NaN</td>\n",
       "      <td>NaN</td>\n",
       "      <td>NaN</td>\n",
       "      <td>NaN</td>\n",
       "      <td>NaN</td>\n",
       "      <td>NaN</td>\n",
       "      <td>NaN</td>\n",
       "      <td>NaN</td>\n",
       "    </tr>\n",
       "  </tbody>\n",
       "</table>\n",
       "<p>3 rows × 28 columns</p>\n",
       "</div>"
      ],
      "text/plain": [
       "                business_id                            name  \\\n",
       "74   9Rww8yE6Dm4dSMEq09nwXg               Holly Nails & Spa   \n",
       "250  my0bmPD5dgDFE1ia__LNlw           Nails & Beauty Lounge   \n",
       "294  CLEWowfkj-wKYJlQDqT1aw  Blow Bar Express Styling Salon   \n",
       "\n",
       "                           address           city state postal_code  \\\n",
       "74                 9101 Belcher Rd  Pinellas Park    TN       33782   \n",
       "250             953 E Brandon Blvd        Brandon    IN       33511   \n",
       "294  310 S Dale Mabry Hwy, Ste 110          Tampa    TN       33609   \n",
       "\n",
       "      latitude  longitude  stars  review_count  ...  state.1 postal_code.1  \\\n",
       "74   27.855347 -82.736308    4.5            16  ...      NaN           NaN   \n",
       "250  27.937166 -82.269959    3.5            84  ...      NaN           NaN   \n",
       "294  27.941975 -82.505307    4.0            55  ...      NaN           NaN   \n",
       "\n",
       "    latitude.1 longitude.1 stars.1 review_count.1 is_open.1 attributes.1  \\\n",
       "74         NaN         NaN     NaN            NaN       NaN          NaN   \n",
       "250        NaN         NaN     NaN            NaN       NaN          NaN   \n",
       "294        NaN         NaN     NaN            NaN       NaN          NaN   \n",
       "\n",
       "    categories.1 hours.1  \n",
       "74           NaN     NaN  \n",
       "250          NaN     NaN  \n",
       "294          NaN     NaN  \n",
       "\n",
       "[3 rows x 28 columns]"
      ]
     },
     "execution_count": 9,
     "metadata": {},
     "output_type": "execute_result"
    }
   ],
   "source": [
    "dfBusinessYelp.head(3)"
   ]
  },
  {
   "cell_type": "markdown",
   "metadata": {},
   "source": [
    "#### Limpieza y Normalizacion"
   ]
  },
  {
   "cell_type": "code",
   "execution_count": null,
   "metadata": {},
   "outputs": [],
   "source": [
    "columnas_a_eliminar = ['is_open', 'categories','state', \n",
    "       'business_id.1', 'name.1', 'address.1', 'city.1', 'state.1', \n",
    "       'postal_code.1', 'latitude.1', 'longitude.1', 'stars.1', 'review_count.1',\n",
    "        'is_open.1', 'attributes.1', 'categories.1', 'hours.1']\n",
    "\n",
    "# Eliminar las columnas especificadas\n",
    "dfBusinessYelp = dfBusinessYelp.drop(columnas_a_eliminar, axis=1)"
   ]
  },
  {
   "cell_type": "markdown",
   "metadata": {},
   "source": [
    "Como mencionamos en el conteo de nulos eliminamos columnas con demasiados valores vacios que no nos ayudaran para realizar un buen analisis.\n",
    "Las columnas'is_open','address', 'name' ya tenemos los valores y se filtro de manera correcta asi que seria redundante tener esas columnnas.\n",
    "Con respecto a la columna 'state' tiene valores que no corresponde con la latitud y longitud en el mapa, asi que mejor es no contar con esa columna."
   ]
  },
  {
   "cell_type": "code",
   "execution_count": null,
   "metadata": {},
   "outputs": [],
   "source": [
    "# Define una función para obtener el estado desde la latitud y longitud\n",
    "def reverse_geocode(lat, lon):\n",
    "    # Aquí va tu código para obtener el estado desde la latitud y longitud\n",
    "    url = f\"https://nominatim.openstreetmap.org/reverse?format=json&lat={lat}&lon={lon}\"\n",
    "    response = requests.get(url)\n",
    "    data = response.json()\n",
    "    if 'address' in data:\n",
    "        state = data['address'].get('state', '')\n",
    "        return state\n",
    "\n",
    "# Aplica la función a cada fila del DataFrame y crea una lista de resultados\n",
    "states = [reverse_geocode(row['latitude'], row['longitude']) for _, row in dfBusinessYelp.iterrows()]\n",
    "\n",
    "# Asigna la lista de estados a la columna 'state' del DataFrame\n",
    "dfBusinessYelp['state'] = states"
   ]
  },
  {
   "cell_type": "markdown",
   "metadata": {},
   "source": [
    "Usando la API OpenStreetMap (OSM) se realizo una geocodificacion inversa que me devuelve los diferentes estados('state') basado en las columnas 'latitude' y 'longitude' "
   ]
  },
  {
   "cell_type": "code",
   "execution_count": null,
   "metadata": {},
   "outputs": [],
   "source": [
    "# Aplicamos el filtro con referencia en la columna 'name'\n",
    "dfBusinessYelp = dfBusinessYelp[dfBusinessYelp['state'] == 'Florida']"
   ]
  },
  {
   "cell_type": "markdown",
   "metadata": {},
   "source": [
    "Delimitamos los datos a un solo estado 'Florida'"
   ]
  },
  {
   "cell_type": "code",
   "execution_count": null,
   "metadata": {},
   "outputs": [],
   "source": [
    "# Crea un nuevo DataFrame solo con las columnas 'business_id' y 'opening_hours_id'\n",
    "Atributes = dfBusinessYelp[['business_id','attributes']]\n",
    "\n",
    "# Crea un nuevo DataFrame solo con las columnas 'business_id' y 'opening_hours_id'\n",
    "opening_hours = dfBusinessYelp[['business_id', 'hours']]"
   ]
  },
  {
   "cell_type": "markdown",
   "metadata": {},
   "source": [
    "Hacemos una copia para generar las tablas Attributes y Opening Hours"
   ]
  },
  {
   "cell_type": "code",
   "execution_count": null,
   "metadata": {},
   "outputs": [],
   "source": [
    "# Utilizo el método drop() de pandas para eliminar las columnas especificadas\n",
    "dfBusinessYelp = dfBusinessYelp.drop(['attributes', 'hours', 'state'], axis=1)"
   ]
  },
  {
   "cell_type": "markdown",
   "metadata": {},
   "source": [
    "Borramos el estado 'Florida' debido que todos los salones de uña 'Nail Salon' pertenecen al mismo estado"
   ]
  },
  {
   "cell_type": "code",
   "execution_count": null,
   "metadata": {},
   "outputs": [
    {
     "data": {
      "text/html": [
       "<div>\n",
       "<style scoped>\n",
       "    .dataframe tbody tr th:only-of-type {\n",
       "        vertical-align: middle;\n",
       "    }\n",
       "\n",
       "    .dataframe tbody tr th {\n",
       "        vertical-align: top;\n",
       "    }\n",
       "\n",
       "    .dataframe thead th {\n",
       "        text-align: right;\n",
       "    }\n",
       "</style>\n",
       "<table border=\"1\" class=\"dataframe\">\n",
       "  <thead>\n",
       "    <tr style=\"text-align: right;\">\n",
       "      <th></th>\n",
       "      <th>business_id</th>\n",
       "      <th>name</th>\n",
       "      <th>address</th>\n",
       "      <th>city</th>\n",
       "      <th>postal_code</th>\n",
       "      <th>latitude</th>\n",
       "      <th>longitude</th>\n",
       "      <th>stars</th>\n",
       "      <th>review_count</th>\n",
       "      <th>hours</th>\n",
       "      <th>source</th>\n",
       "    </tr>\n",
       "  </thead>\n",
       "  <tbody>\n",
       "    <tr>\n",
       "      <th>74</th>\n",
       "      <td>9Rww8yE6Dm4dSMEq09nwXg</td>\n",
       "      <td>Holly Nails &amp; Spa</td>\n",
       "      <td>9101 Belcher Rd</td>\n",
       "      <td>Pinellas Park</td>\n",
       "      <td>33782</td>\n",
       "      <td>27.855347</td>\n",
       "      <td>-82.736308</td>\n",
       "      <td>4.5</td>\n",
       "      <td>16</td>\n",
       "      <td>{'Tuesday': '9:30-19:0', 'Wednesday': '9:30-19...</td>\n",
       "      <td>Y</td>\n",
       "    </tr>\n",
       "    <tr>\n",
       "      <th>250</th>\n",
       "      <td>my0bmPD5dgDFE1ia__LNlw</td>\n",
       "      <td>Nails &amp; Beauty Lounge</td>\n",
       "      <td>953 E Brandon Blvd</td>\n",
       "      <td>Brandon</td>\n",
       "      <td>33511</td>\n",
       "      <td>27.937166</td>\n",
       "      <td>-82.269959</td>\n",
       "      <td>3.5</td>\n",
       "      <td>84</td>\n",
       "      <td>{'Monday': '9:30-19:0', 'Wednesday': '9:30-19:...</td>\n",
       "      <td>Y</td>\n",
       "    </tr>\n",
       "    <tr>\n",
       "      <th>294</th>\n",
       "      <td>CLEWowfkj-wKYJlQDqT1aw</td>\n",
       "      <td>Blow Bar Express Styling Salon</td>\n",
       "      <td>310 S Dale Mabry Hwy, Ste 110</td>\n",
       "      <td>Tampa</td>\n",
       "      <td>33609</td>\n",
       "      <td>27.941975</td>\n",
       "      <td>-82.505307</td>\n",
       "      <td>4.0</td>\n",
       "      <td>55</td>\n",
       "      <td>{'Monday': '0:0-0:0', 'Tuesday': '8:0-16:0', '...</td>\n",
       "      <td>Y</td>\n",
       "    </tr>\n",
       "    <tr>\n",
       "      <th>362</th>\n",
       "      <td>gbetDRjllP5cOxaWxFjGHA</td>\n",
       "      <td>Pretty Nails</td>\n",
       "      <td>5316 Little Rd</td>\n",
       "      <td>New Port Richey</td>\n",
       "      <td>34655</td>\n",
       "      <td>28.237112</td>\n",
       "      <td>-82.668024</td>\n",
       "      <td>3.0</td>\n",
       "      <td>6</td>\n",
       "      <td>NaN</td>\n",
       "      <td>Y</td>\n",
       "    </tr>\n",
       "    <tr>\n",
       "      <th>630</th>\n",
       "      <td>FYzZd2mlMIPScy95UY2xkw</td>\n",
       "      <td>McMahan Hair Salon</td>\n",
       "      <td>10464 Roosevelt Blvd N</td>\n",
       "      <td>St. Petersburg</td>\n",
       "      <td>33716</td>\n",
       "      <td>27.866938</td>\n",
       "      <td>-82.645031</td>\n",
       "      <td>4.0</td>\n",
       "      <td>11</td>\n",
       "      <td>{'Monday': '0:0-0:0', 'Tuesday': '9:0-20:0', '...</td>\n",
       "      <td>Y</td>\n",
       "    </tr>\n",
       "  </tbody>\n",
       "</table>\n",
       "</div>"
      ],
      "text/plain": [
       "                business_id                            name  \\\n",
       "74   9Rww8yE6Dm4dSMEq09nwXg               Holly Nails & Spa   \n",
       "250  my0bmPD5dgDFE1ia__LNlw           Nails & Beauty Lounge   \n",
       "294  CLEWowfkj-wKYJlQDqT1aw  Blow Bar Express Styling Salon   \n",
       "362  gbetDRjllP5cOxaWxFjGHA                    Pretty Nails   \n",
       "630  FYzZd2mlMIPScy95UY2xkw              McMahan Hair Salon   \n",
       "\n",
       "                           address             city postal_code   latitude  \\\n",
       "74                 9101 Belcher Rd    Pinellas Park       33782  27.855347   \n",
       "250             953 E Brandon Blvd          Brandon       33511  27.937166   \n",
       "294  310 S Dale Mabry Hwy, Ste 110            Tampa       33609  27.941975   \n",
       "362                 5316 Little Rd  New Port Richey       34655  28.237112   \n",
       "630         10464 Roosevelt Blvd N   St. Petersburg       33716  27.866938   \n",
       "\n",
       "     longitude  stars  review_count  \\\n",
       "74  -82.736308    4.5            16   \n",
       "250 -82.269959    3.5            84   \n",
       "294 -82.505307    4.0            55   \n",
       "362 -82.668024    3.0             6   \n",
       "630 -82.645031    4.0            11   \n",
       "\n",
       "                                                 hours source  \n",
       "74   {'Tuesday': '9:30-19:0', 'Wednesday': '9:30-19...      Y  \n",
       "250  {'Monday': '9:30-19:0', 'Wednesday': '9:30-19:...      Y  \n",
       "294  {'Monday': '0:0-0:0', 'Tuesday': '8:0-16:0', '...      Y  \n",
       "362                                                NaN      Y  \n",
       "630  {'Monday': '0:0-0:0', 'Tuesday': '9:0-20:0', '...      Y  "
      ]
     },
     "execution_count": 19,
     "metadata": {},
     "output_type": "execute_result"
    }
   ],
   "source": [
    "dfBusinessYelp.head()"
   ]
  },
  {
   "cell_type": "code",
   "execution_count": null,
   "metadata": {},
   "outputs": [],
   "source": [
    "Business = dfBusinessYelp"
   ]
  },
  {
   "cell_type": "markdown",
   "metadata": {},
   "source": [
    "## 3.2 Dataset Reviews Yelp"
   ]
  },
  {
   "cell_type": "markdown",
   "metadata": {},
   "source": [
    "### 3.2.1. Exploración inicial de los datos"
   ]
  },
  {
   "cell_type": "code",
   "execution_count": null,
   "metadata": {},
   "outputs": [
    {
     "data": {
      "text/html": [
       "<div>\n",
       "<style scoped>\n",
       "    .dataframe tbody tr th:only-of-type {\n",
       "        vertical-align: middle;\n",
       "    }\n",
       "\n",
       "    .dataframe tbody tr th {\n",
       "        vertical-align: top;\n",
       "    }\n",
       "\n",
       "    .dataframe thead th {\n",
       "        text-align: right;\n",
       "    }\n",
       "</style>\n",
       "<table border=\"1\" class=\"dataframe\">\n",
       "  <thead>\n",
       "    <tr style=\"text-align: right;\">\n",
       "      <th></th>\n",
       "      <th>review_id</th>\n",
       "      <th>user_id</th>\n",
       "      <th>business_id</th>\n",
       "      <th>stars</th>\n",
       "      <th>useful</th>\n",
       "      <th>funny</th>\n",
       "      <th>cool</th>\n",
       "      <th>text</th>\n",
       "      <th>date</th>\n",
       "    </tr>\n",
       "  </thead>\n",
       "  <tbody>\n",
       "    <tr>\n",
       "      <th>0</th>\n",
       "      <td>KU_O5udG6zpxOg-VcAEodg</td>\n",
       "      <td>mh_-eMZ6K5RLWhZyISBhwA</td>\n",
       "      <td>XQfwVwDr-v0ZS3_CbbE5Xw</td>\n",
       "      <td>3</td>\n",
       "      <td>0</td>\n",
       "      <td>0</td>\n",
       "      <td>0</td>\n",
       "      <td>If you decide to eat here, just be aware it is...</td>\n",
       "      <td>2018-07-07 22:09:11</td>\n",
       "    </tr>\n",
       "    <tr>\n",
       "      <th>1</th>\n",
       "      <td>lUUhg8ltDsUZ9h0xnwY4Dg</td>\n",
       "      <td>RreNy--tOmXMl1en0wiBOg</td>\n",
       "      <td>cPepkJeRMtHapc_b2Oe_dw</td>\n",
       "      <td>4</td>\n",
       "      <td>1</td>\n",
       "      <td>0</td>\n",
       "      <td>1</td>\n",
       "      <td>I was really between 3 and 4 stars for this on...</td>\n",
       "      <td>2018-07-17 03:30:07</td>\n",
       "    </tr>\n",
       "    <tr>\n",
       "      <th>2</th>\n",
       "      <td>JBWZmBy69VMggxj3eYn17Q</td>\n",
       "      <td>aFa96pz67TwOFu4Weq5Agg</td>\n",
       "      <td>kq5Ghhh14r-eCxlVmlyd8w</td>\n",
       "      <td>5</td>\n",
       "      <td>0</td>\n",
       "      <td>0</td>\n",
       "      <td>0</td>\n",
       "      <td>My boyfriend and I tried this deli for the fir...</td>\n",
       "      <td>2018-08-23 21:39:38</td>\n",
       "    </tr>\n",
       "    <tr>\n",
       "      <th>3</th>\n",
       "      <td>E9AB7V4z8xrt2uPF7T55FQ</td>\n",
       "      <td>iYY5Ii1LGpZCpXFkHlMefw</td>\n",
       "      <td>Zx7n8mdt8OzLRXVzolXNhQ</td>\n",
       "      <td>5</td>\n",
       "      <td>0</td>\n",
       "      <td>0</td>\n",
       "      <td>0</td>\n",
       "      <td>Amazing biscuits and (fill in the blank). Grea...</td>\n",
       "      <td>2018-04-27 23:03:21</td>\n",
       "    </tr>\n",
       "    <tr>\n",
       "      <th>4</th>\n",
       "      <td>A4n4YaE-owOVgTQcrVqHUw</td>\n",
       "      <td>S7bjj-L07JuRr-tpX1UZLw</td>\n",
       "      <td>I6L0Zxi5Ww0zEWSAVgngeQ</td>\n",
       "      <td>4</td>\n",
       "      <td>0</td>\n",
       "      <td>0</td>\n",
       "      <td>0</td>\n",
       "      <td>The cafe was extremely cute. We came at 8am an...</td>\n",
       "      <td>2018-07-07 20:50:12</td>\n",
       "    </tr>\n",
       "  </tbody>\n",
       "</table>\n",
       "</div>"
      ],
      "text/plain": [
       "                review_id                 user_id             business_id  \\\n",
       "0  KU_O5udG6zpxOg-VcAEodg  mh_-eMZ6K5RLWhZyISBhwA  XQfwVwDr-v0ZS3_CbbE5Xw   \n",
       "1  lUUhg8ltDsUZ9h0xnwY4Dg  RreNy--tOmXMl1en0wiBOg  cPepkJeRMtHapc_b2Oe_dw   \n",
       "2  JBWZmBy69VMggxj3eYn17Q  aFa96pz67TwOFu4Weq5Agg  kq5Ghhh14r-eCxlVmlyd8w   \n",
       "3  E9AB7V4z8xrt2uPF7T55FQ  iYY5Ii1LGpZCpXFkHlMefw  Zx7n8mdt8OzLRXVzolXNhQ   \n",
       "4  A4n4YaE-owOVgTQcrVqHUw  S7bjj-L07JuRr-tpX1UZLw  I6L0Zxi5Ww0zEWSAVgngeQ   \n",
       "\n",
       "   stars  useful  funny  cool  \\\n",
       "0      3       0      0     0   \n",
       "1      4       1      0     1   \n",
       "2      5       0      0     0   \n",
       "3      5       0      0     0   \n",
       "4      4       0      0     0   \n",
       "\n",
       "                                                text                 date  \n",
       "0  If you decide to eat here, just be aware it is...  2018-07-07 22:09:11  \n",
       "1  I was really between 3 and 4 stars for this on...  2018-07-17 03:30:07  \n",
       "2  My boyfriend and I tried this deli for the fir...  2018-08-23 21:39:38  \n",
       "3  Amazing biscuits and (fill in the blank). Grea...  2018-04-27 23:03:21  \n",
       "4  The cafe was extremely cute. We came at 8am an...  2018-07-07 20:50:12  "
      ]
     },
     "execution_count": 4,
     "metadata": {},
     "output_type": "execute_result"
    }
   ],
   "source": [
    "#Vizualizo las primeras filas del DataFrame\n",
    "Review.head()"
   ]
  },
  {
   "cell_type": "code",
   "execution_count": null,
   "metadata": {},
   "outputs": [
    {
     "name": "stdout",
     "output_type": "stream",
     "text": [
      "<class 'pandas.core.frame.DataFrame'>\n",
      "RangeIndex: 2678292 entries, 0 to 2678291\n",
      "Data columns (total 9 columns):\n",
      " #   Column       Dtype \n",
      "---  ------       ----- \n",
      " 0   review_id    object\n",
      " 1   user_id      object\n",
      " 2   business_id  object\n",
      " 3   stars        int64 \n",
      " 4   useful       int64 \n",
      " 5   funny        int64 \n",
      " 6   cool         int64 \n",
      " 7   text         object\n",
      " 8   date         object\n",
      "dtypes: int64(4), object(5)\n",
      "memory usage: 183.9+ MB\n"
     ]
    }
   ],
   "source": [
    "Review.info()"
   ]
  },
  {
   "cell_type": "code",
   "execution_count": null,
   "metadata": {},
   "outputs": [
    {
     "name": "stdout",
     "output_type": "stream",
     "text": [
      "review_id      0\n",
      "user_id        0\n",
      "business_id    0\n",
      "stars          0\n",
      "useful         0\n",
      "funny          0\n",
      "cool           0\n",
      "text           0\n",
      "date           0\n",
      "dtype: int64\n"
     ]
    }
   ],
   "source": [
    "# Contar filas vacías por columna\n",
    "filas_vacias_por_columna = Review.isnull().sum()\n",
    "print(filas_vacias_por_columna)"
   ]
  },
  {
   "cell_type": "markdown",
   "metadata": {},
   "source": [
    "Como observamos no tenemos valores nulos"
   ]
  },
  {
   "cell_type": "code",
   "execution_count": null,
   "metadata": {},
   "outputs": [
    {
     "name": "stdout",
     "output_type": "stream",
     "text": [
      "Filas duplicadas en el DataFrame: 0\n"
     ]
    }
   ],
   "source": [
    "# Contar la cantidad de duplicados del DataFrame\n",
    "filas_duplicadas = Review.duplicated().sum()\n",
    "print(\"Filas duplicadas en el DataFrame:\", filas_duplicadas)"
   ]
  },
  {
   "cell_type": "markdown",
   "metadata": {},
   "source": [
    "Como observamos no tenemos filas duplicadas"
   ]
  },
  {
   "cell_type": "markdown",
   "metadata": {},
   "source": [
    "### 3.2.2. Limpieza y Normalización de datos"
   ]
  },
  {
   "cell_type": "markdown",
   "metadata": {},
   "source": [
    "Filtrado de datos"
   ]
  },
  {
   "cell_type": "code",
   "execution_count": null,
   "metadata": {},
   "outputs": [],
   "source": [
    "Business = pd.read_csv('Data/Cleaned_Business_Y.csv')"
   ]
  },
  {
   "cell_type": "code",
   "execution_count": null,
   "metadata": {},
   "outputs": [],
   "source": [
    "# Obtener los id únicos del DataFrame business\n",
    "business_ids_to_keep = Business['business_id'].unique()\n",
    "\n",
    "\n",
    "# Friltamos el dfreviewYelp basado en los balores unico de lao id de dfbusinessYelp\n",
    "Review = Review[Review['business_id'].isin(business_ids_to_keep)]\n",
    "\n",
    "# El conjunto de datos se filtró por la fecha desde el inicio del 2016 hasta finalizar el 2021.\n",
    "#dfreviewYelp = dfreviewYelp[(dfreviewYelp['date'] >= '2016-01-01') & (dfreviewYelp['date'] >= '2021-12-31')]"
   ]
  },
  {
   "cell_type": "markdown",
   "metadata": {},
   "source": [
    "Aplicamos un filtro solo para quedarnos con los valores que coincidan con el id del negocio"
   ]
  },
  {
   "cell_type": "markdown",
   "metadata": {},
   "source": [
    "#### Limpieza y Normalizacion "
   ]
  },
  {
   "cell_type": "code",
   "execution_count": null,
   "metadata": {},
   "outputs": [],
   "source": [
    "# Convertir la columna 'date' a tipo datetime\n",
    "Review['date'] = pd.to_datetime(Review['date'])"
   ]
  },
  {
   "cell_type": "code",
   "execution_count": null,
   "metadata": {},
   "outputs": [],
   "source": [
    "columnas_a_eliminar = ['useful', 'funny', 'cool']\n",
    "\n",
    "# Eliminar las columnas especificadas\n",
    "Review = Review.drop(columnas_a_eliminar, axis=1)"
   ]
  },
  {
   "cell_type": "markdown",
   "metadata": {},
   "source": [
    "Elinamos las siguientes columnas 'useful', 'funny', 'cool' debido que no tiene una guia o rango que me diga si esta bien o no, 'date' lo dividimos en años , mes, dia asi que no lo necesitamos"
   ]
  },
  {
   "cell_type": "code",
   "execution_count": null,
   "metadata": {},
   "outputs": [],
   "source": [
    "# Aplicar la limpieza de texto directamente sobre la columna 'text'\n",
    "Review['text'] = Review['text'].str.lower().str.replace(r'[^a-z0-9\\s]', '')"
   ]
  },
  {
   "cell_type": "markdown",
   "metadata": {},
   "source": [
    "Convertimos todo los valores de la columna 'text' a minuscula para guiarnos mejor"
   ]
  },
  {
   "cell_type": "code",
   "execution_count": null,
   "metadata": {},
   "outputs": [],
   "source": [
    "# Modificamos el tipo de dato a un valor flotante\n",
    "Review['stars'] = Review['stars'].astype('float64')"
   ]
  },
  {
   "cell_type": "markdown",
   "metadata": {},
   "source": [
    "Transforme la columna 'stars' para tener similitud del tipo de dato con otra tabla"
   ]
  },
  {
   "cell_type": "code",
   "execution_count": null,
   "metadata": {},
   "outputs": [],
   "source": [
    "Review = Review.rename(columns={'stars' : 'review_stars'})"
   ]
  },
  {
   "cell_type": "markdown",
   "metadata": {},
   "source": [
    "Renombrom stars para indentificar a que se refiere esa calificacion"
   ]
  },
  {
   "cell_type": "code",
   "execution_count": null,
   "metadata": {},
   "outputs": [
    {
     "data": {
      "text/html": [
       "<div>\n",
       "<style scoped>\n",
       "    .dataframe tbody tr th:only-of-type {\n",
       "        vertical-align: middle;\n",
       "    }\n",
       "\n",
       "    .dataframe tbody tr th {\n",
       "        vertical-align: top;\n",
       "    }\n",
       "\n",
       "    .dataframe thead th {\n",
       "        text-align: right;\n",
       "    }\n",
       "</style>\n",
       "<table border=\"1\" class=\"dataframe\">\n",
       "  <thead>\n",
       "    <tr style=\"text-align: right;\">\n",
       "      <th></th>\n",
       "      <th>review_id</th>\n",
       "      <th>user_id</th>\n",
       "      <th>business_id</th>\n",
       "      <th>review_stars</th>\n",
       "      <th>text</th>\n",
       "      <th>date</th>\n",
       "    </tr>\n",
       "  </thead>\n",
       "  <tbody>\n",
       "    <tr>\n",
       "      <th>51</th>\n",
       "      <td>Blzra0ClBO8mORAnUCk5Xg</td>\n",
       "      <td>6Mhbp06FEhD9uxUGCCUmKA</td>\n",
       "      <td>fBNjTSdPJ1mtTzIHYpQnDw</td>\n",
       "      <td>1.0</td>\n",
       "      <td>zero stars!! this place is dirty and disorgani...</td>\n",
       "      <td>2018-09-03 13:04:03</td>\n",
       "    </tr>\n",
       "    <tr>\n",
       "      <th>96</th>\n",
       "      <td>cbYsdDN5bomxCXCNnMps6g</td>\n",
       "      <td>-FFgJuDZLmcZtrxDTRC7sg</td>\n",
       "      <td>my0bmPD5dgDFE1ia__LNlw</td>\n",
       "      <td>5.0</td>\n",
       "      <td>this is the place we have been searching for! ...</td>\n",
       "      <td>2018-08-23 22:28:46</td>\n",
       "    </tr>\n",
       "    <tr>\n",
       "      <th>556</th>\n",
       "      <td>qaisR2xTb-ybLv9GVB-whg</td>\n",
       "      <td>g34LsuGf9gj9h5wqhye-Jw</td>\n",
       "      <td>bP8Y5cHMda64Z3tGA-cYzw</td>\n",
       "      <td>5.0</td>\n",
       "      <td>i found this place through yelp. i was attract...</td>\n",
       "      <td>2018-03-23 19:29:16</td>\n",
       "    </tr>\n",
       "  </tbody>\n",
       "</table>\n",
       "</div>"
      ],
      "text/plain": [
       "                  review_id                 user_id             business_id  \\\n",
       "51   Blzra0ClBO8mORAnUCk5Xg  6Mhbp06FEhD9uxUGCCUmKA  fBNjTSdPJ1mtTzIHYpQnDw   \n",
       "96   cbYsdDN5bomxCXCNnMps6g  -FFgJuDZLmcZtrxDTRC7sg  my0bmPD5dgDFE1ia__LNlw   \n",
       "556  qaisR2xTb-ybLv9GVB-whg  g34LsuGf9gj9h5wqhye-Jw  bP8Y5cHMda64Z3tGA-cYzw   \n",
       "\n",
       "     review_stars                                               text  \\\n",
       "51            1.0  zero stars!! this place is dirty and disorgani...   \n",
       "96            5.0  this is the place we have been searching for! ...   \n",
       "556           5.0  i found this place through yelp. i was attract...   \n",
       "\n",
       "                   date  \n",
       "51  2018-09-03 13:04:03  \n",
       "96  2018-08-23 22:28:46  \n",
       "556 2018-03-23 19:29:16  "
      ]
     },
     "execution_count": 24,
     "metadata": {},
     "output_type": "execute_result"
    }
   ],
   "source": [
    "Review.head(3)"
   ]
  },
  {
   "cell_type": "markdown",
   "metadata": {},
   "source": [
    "## 3.3 Dataset User "
   ]
  },
  {
   "cell_type": "markdown",
   "metadata": {},
   "source": [
    "### 3.3.1. Exploración inicial de los datos"
   ]
  },
  {
   "cell_type": "code",
   "execution_count": null,
   "metadata": {},
   "outputs": [
    {
     "data": {
      "text/html": [
       "<div>\n",
       "<style scoped>\n",
       "    .dataframe tbody tr th:only-of-type {\n",
       "        vertical-align: middle;\n",
       "    }\n",
       "\n",
       "    .dataframe tbody tr th {\n",
       "        vertical-align: top;\n",
       "    }\n",
       "\n",
       "    .dataframe thead th {\n",
       "        text-align: right;\n",
       "    }\n",
       "</style>\n",
       "<table border=\"1\" class=\"dataframe\">\n",
       "  <thead>\n",
       "    <tr style=\"text-align: right;\">\n",
       "      <th></th>\n",
       "      <th>user_id</th>\n",
       "      <th>name</th>\n",
       "      <th>review_count</th>\n",
       "      <th>yelping_since</th>\n",
       "      <th>useful</th>\n",
       "      <th>funny</th>\n",
       "      <th>cool</th>\n",
       "      <th>elite</th>\n",
       "      <th>friends</th>\n",
       "      <th>fans</th>\n",
       "      <th>...</th>\n",
       "      <th>compliment_more</th>\n",
       "      <th>compliment_profile</th>\n",
       "      <th>compliment_cute</th>\n",
       "      <th>compliment_list</th>\n",
       "      <th>compliment_note</th>\n",
       "      <th>compliment_plain</th>\n",
       "      <th>compliment_cool</th>\n",
       "      <th>compliment_funny</th>\n",
       "      <th>compliment_writer</th>\n",
       "      <th>compliment_photos</th>\n",
       "    </tr>\n",
       "  </thead>\n",
       "  <tbody>\n",
       "    <tr>\n",
       "      <th>0</th>\n",
       "      <td>qVc8ODYU5SZjKXVBgXdI7w</td>\n",
       "      <td>Walker</td>\n",
       "      <td>585</td>\n",
       "      <td>2007-01-25 16:47:26</td>\n",
       "      <td>7217</td>\n",
       "      <td>1259</td>\n",
       "      <td>5994</td>\n",
       "      <td>2007</td>\n",
       "      <td>NSCy54eWehBJyZdG2iE84w, pe42u7DcCH2QmI81NX-8qA...</td>\n",
       "      <td>267</td>\n",
       "      <td>...</td>\n",
       "      <td>65</td>\n",
       "      <td>55</td>\n",
       "      <td>56</td>\n",
       "      <td>18</td>\n",
       "      <td>232</td>\n",
       "      <td>844</td>\n",
       "      <td>467</td>\n",
       "      <td>467</td>\n",
       "      <td>239</td>\n",
       "      <td>180</td>\n",
       "    </tr>\n",
       "    <tr>\n",
       "      <th>1</th>\n",
       "      <td>j14WgRoU_-2ZE1aw1dXrJg</td>\n",
       "      <td>Daniel</td>\n",
       "      <td>4333</td>\n",
       "      <td>2009-01-25 04:35:42</td>\n",
       "      <td>43091</td>\n",
       "      <td>13066</td>\n",
       "      <td>27281</td>\n",
       "      <td>2009,2010,2011,2012,2013,2014,2015,2016,2017,2...</td>\n",
       "      <td>ueRPE0CX75ePGMqOFVj6IQ, 52oH4DrRvzzl8wh5UXyU0A...</td>\n",
       "      <td>3138</td>\n",
       "      <td>...</td>\n",
       "      <td>264</td>\n",
       "      <td>184</td>\n",
       "      <td>157</td>\n",
       "      <td>251</td>\n",
       "      <td>1847</td>\n",
       "      <td>7054</td>\n",
       "      <td>3131</td>\n",
       "      <td>3131</td>\n",
       "      <td>1521</td>\n",
       "      <td>1946</td>\n",
       "    </tr>\n",
       "    <tr>\n",
       "      <th>2</th>\n",
       "      <td>2WnXYQFK0hXEoTxPtV2zvg</td>\n",
       "      <td>Steph</td>\n",
       "      <td>665</td>\n",
       "      <td>2008-07-25 10:41:00</td>\n",
       "      <td>2086</td>\n",
       "      <td>1010</td>\n",
       "      <td>1003</td>\n",
       "      <td>2009,2010,2011,2012,2013</td>\n",
       "      <td>LuO3Bn4f3rlhyHIaNfTlnA, j9B4XdHUhDfTKVecyWQgyA...</td>\n",
       "      <td>52</td>\n",
       "      <td>...</td>\n",
       "      <td>13</td>\n",
       "      <td>10</td>\n",
       "      <td>17</td>\n",
       "      <td>3</td>\n",
       "      <td>66</td>\n",
       "      <td>96</td>\n",
       "      <td>119</td>\n",
       "      <td>119</td>\n",
       "      <td>35</td>\n",
       "      <td>18</td>\n",
       "    </tr>\n",
       "  </tbody>\n",
       "</table>\n",
       "<p>3 rows × 22 columns</p>\n",
       "</div>"
      ],
      "text/plain": [
       "                  user_id    name  review_count        yelping_since  useful  \\\n",
       "0  qVc8ODYU5SZjKXVBgXdI7w  Walker           585  2007-01-25 16:47:26    7217   \n",
       "1  j14WgRoU_-2ZE1aw1dXrJg  Daniel          4333  2009-01-25 04:35:42   43091   \n",
       "2  2WnXYQFK0hXEoTxPtV2zvg   Steph           665  2008-07-25 10:41:00    2086   \n",
       "\n",
       "   funny   cool                                              elite  \\\n",
       "0   1259   5994                                               2007   \n",
       "1  13066  27281  2009,2010,2011,2012,2013,2014,2015,2016,2017,2...   \n",
       "2   1010   1003                           2009,2010,2011,2012,2013   \n",
       "\n",
       "                                             friends  fans  ...  \\\n",
       "0  NSCy54eWehBJyZdG2iE84w, pe42u7DcCH2QmI81NX-8qA...   267  ...   \n",
       "1  ueRPE0CX75ePGMqOFVj6IQ, 52oH4DrRvzzl8wh5UXyU0A...  3138  ...   \n",
       "2  LuO3Bn4f3rlhyHIaNfTlnA, j9B4XdHUhDfTKVecyWQgyA...    52  ...   \n",
       "\n",
       "   compliment_more  compliment_profile  compliment_cute  compliment_list  \\\n",
       "0               65                  55               56               18   \n",
       "1              264                 184              157              251   \n",
       "2               13                  10               17                3   \n",
       "\n",
       "   compliment_note  compliment_plain  compliment_cool  compliment_funny  \\\n",
       "0              232               844              467               467   \n",
       "1             1847              7054             3131              3131   \n",
       "2               66                96              119               119   \n",
       "\n",
       "   compliment_writer  compliment_photos  \n",
       "0                239                180  \n",
       "1               1521               1946  \n",
       "2                 35                 18  \n",
       "\n",
       "[3 rows x 22 columns]"
      ]
     },
     "execution_count": 5,
     "metadata": {},
     "output_type": "execute_result"
    }
   ],
   "source": [
    "User.head(3)"
   ]
  },
  {
   "cell_type": "code",
   "execution_count": null,
   "metadata": {},
   "outputs": [
    {
     "name": "stdout",
     "output_type": "stream",
     "text": [
      "<class 'pandas.core.frame.DataFrame'>\n",
      "RangeIndex: 2105597 entries, 0 to 2105596\n",
      "Data columns (total 22 columns):\n",
      " #   Column              Dtype  \n",
      "---  ------              -----  \n",
      " 0   user_id             object \n",
      " 1   name                object \n",
      " 2   review_count        int64  \n",
      " 3   yelping_since       object \n",
      " 4   useful              int64  \n",
      " 5   funny               int64  \n",
      " 6   cool                int64  \n",
      " 7   elite               object \n",
      " 8   friends             object \n",
      " 9   fans                int64  \n",
      " 10  average_stars       float64\n",
      " 11  compliment_hot      int64  \n",
      " 12  compliment_more     int64  \n",
      " 13  compliment_profile  int64  \n",
      " 14  compliment_cute     int64  \n",
      " 15  compliment_list     int64  \n",
      " 16  compliment_note     int64  \n",
      " 17  compliment_plain    int64  \n",
      " 18  compliment_cool     int64  \n",
      " 19  compliment_funny    int64  \n",
      " 20  compliment_writer   int64  \n",
      " 21  compliment_photos   int64  \n",
      "dtypes: float64(1), int64(16), object(5)\n",
      "memory usage: 353.4+ MB\n"
     ]
    }
   ],
   "source": [
    "User.info()"
   ]
  },
  {
   "cell_type": "code",
   "execution_count": null,
   "metadata": {},
   "outputs": [
    {
     "name": "stdout",
     "output_type": "stream",
     "text": [
      "user_id                     0\n",
      "name                       41\n",
      "review_count                0\n",
      "yelping_since               0\n",
      "useful                      0\n",
      "funny                       0\n",
      "cool                        0\n",
      "elite                 1988836\n",
      "friends                878551\n",
      "fans                        0\n",
      "average_stars               0\n",
      "compliment_hot              0\n",
      "compliment_more             0\n",
      "compliment_profile          0\n",
      "compliment_cute             0\n",
      "compliment_list             0\n",
      "compliment_note             0\n",
      "compliment_plain            0\n",
      "compliment_cool             0\n",
      "compliment_funny            0\n",
      "compliment_writer           0\n",
      "compliment_photos           0\n",
      "dtype: int64\n"
     ]
    }
   ],
   "source": [
    "# Contar filas vacías por columna\n",
    "filas_vacias_por_columna = User.isnull().sum()\n",
    "print(filas_vacias_por_columna)"
   ]
  },
  {
   "cell_type": "markdown",
   "metadata": {},
   "source": [
    "Como logramos Oberservar las columnas 'elite' y 'friends' tienen muchos valores vacios"
   ]
  },
  {
   "cell_type": "code",
   "execution_count": null,
   "metadata": {},
   "outputs": [
    {
     "name": "stdout",
     "output_type": "stream",
     "text": [
      "Filas duplicadas en el DataFrame: 117700\n"
     ]
    }
   ],
   "source": [
    "# Contar la cantidad de duplicados del DataFrame\n",
    "filas_duplicadas = User.duplicated().sum()\n",
    "print(\"Filas duplicadas en el DataFrame:\", filas_duplicadas)"
   ]
  },
  {
   "cell_type": "markdown",
   "metadata": {},
   "source": [
    "La tabla no cuenta con valores duplicados"
   ]
  },
  {
   "cell_type": "markdown",
   "metadata": {},
   "source": [
    "### 3.3.2. Limpieza y Normalización de datos"
   ]
  },
  {
   "cell_type": "code",
   "execution_count": null,
   "metadata": {},
   "outputs": [],
   "source": [
    "# Obtener los id únicos del DataFrame dfbusinessYelp\n",
    "business_ids_to_keep = Review['user_id'].unique()\n",
    "\n",
    "\n",
    "# Friltamos el dfreviewYelp basado en los balores unico de lao id de dfbusinessYelp\n",
    "User = User[User['user_id'].isin(business_ids_to_keep)]\n",
    "\n",
    "# El conjunto de datos se filtró por la fecha desde el inicio del 2016 hasta finalizar el 2021.\n",
    "#dfreviewYelp = dfreviewYelp[(dfreviewYelp['date'] >= '2016-01-01') & (dfreviewYelp['date'] >= '2021-12-31')]"
   ]
  },
  {
   "cell_type": "code",
   "execution_count": null,
   "metadata": {},
   "outputs": [],
   "source": [
    "# Eliminar filas duplicadas del DataFrame User\n",
    "User = User.drop_duplicates()"
   ]
  },
  {
   "cell_type": "markdown",
   "metadata": {},
   "source": [
    "Aplicamos un filtro solo para quedarnos con los valores que coincidan con el id del negocio"
   ]
  },
  {
   "cell_type": "code",
   "execution_count": null,
   "metadata": {},
   "outputs": [],
   "source": [
    "#Creo la tabla Compliment\n",
    "Compliment = User[['user_id','useful', 'funny', 'cool', 'compliment_profile']].copy()"
   ]
  },
  {
   "cell_type": "markdown",
   "metadata": {},
   "source": [
    "Creo la nueva tabla Compliment"
   ]
  },
  {
   "cell_type": "code",
   "execution_count": null,
   "metadata": {},
   "outputs": [],
   "source": [
    "#Columnas a eliminar de la tabla User\n",
    "columnas_a_eliminar = ['elite', 'friends', 'compliment_hot','compliment_more', 'compliment_profile',\n",
    "         'compliment_cute', 'compliment_list', 'compliment_note', \n",
    "         'compliment_plain', 'compliment_cool', 'compliment_funny', \n",
    "         'compliment_writer', 'compliment_photos','useful', 'funny', 'cool']\n",
    "\n",
    "# Eliminar las columnas especificadas\n",
    "User = User.drop(columnas_a_eliminar, axis=1)"
   ]
  },
  {
   "cell_type": "markdown",
   "metadata": {},
   "source": [
    "Borramos columnas que tienen datos nulos y otras columnas que copiamos para normalizar y dar mejor performance a la tabla"
   ]
  },
  {
   "cell_type": "code",
   "execution_count": null,
   "metadata": {},
   "outputs": [
    {
     "data": {
      "text/html": [
       "<div>\n",
       "<style scoped>\n",
       "    .dataframe tbody tr th:only-of-type {\n",
       "        vertical-align: middle;\n",
       "    }\n",
       "\n",
       "    .dataframe tbody tr th {\n",
       "        vertical-align: top;\n",
       "    }\n",
       "\n",
       "    .dataframe thead th {\n",
       "        text-align: right;\n",
       "    }\n",
       "</style>\n",
       "<table border=\"1\" class=\"dataframe\">\n",
       "  <thead>\n",
       "    <tr style=\"text-align: right;\">\n",
       "      <th></th>\n",
       "      <th>user_id</th>\n",
       "      <th>name</th>\n",
       "      <th>review_count</th>\n",
       "      <th>yelping_since</th>\n",
       "      <th>useful</th>\n",
       "      <th>funny</th>\n",
       "      <th>cool</th>\n",
       "      <th>fans</th>\n",
       "      <th>average_stars</th>\n",
       "    </tr>\n",
       "  </thead>\n",
       "  <tbody>\n",
       "    <tr>\n",
       "      <th>975</th>\n",
       "      <td>j4cmflYbwAktOxZ_iiJCOQ</td>\n",
       "      <td>Danielle</td>\n",
       "      <td>236</td>\n",
       "      <td>2009-08-09 13:37:21</td>\n",
       "      <td>1276</td>\n",
       "      <td>717</td>\n",
       "      <td>1040</td>\n",
       "      <td>44</td>\n",
       "      <td>3.81</td>\n",
       "    </tr>\n",
       "    <tr>\n",
       "      <th>1242</th>\n",
       "      <td>pou3BbKsIozfH50rxmnMew</td>\n",
       "      <td>Brett</td>\n",
       "      <td>2812</td>\n",
       "      <td>2012-01-11 17:19:55</td>\n",
       "      <td>22586</td>\n",
       "      <td>8950</td>\n",
       "      <td>14927</td>\n",
       "      <td>914</td>\n",
       "      <td>4.28</td>\n",
       "    </tr>\n",
       "    <tr>\n",
       "      <th>1857</th>\n",
       "      <td>3ywXGq4PyUoR_XXDvK_RIA</td>\n",
       "      <td>Toni</td>\n",
       "      <td>729</td>\n",
       "      <td>2006-06-13 03:44:01</td>\n",
       "      <td>1875</td>\n",
       "      <td>689</td>\n",
       "      <td>1268</td>\n",
       "      <td>77</td>\n",
       "      <td>4.20</td>\n",
       "    </tr>\n",
       "    <tr>\n",
       "      <th>1936</th>\n",
       "      <td>rTJ3EecGoQNbfFj7mqjDmw</td>\n",
       "      <td>Elizabeth</td>\n",
       "      <td>529</td>\n",
       "      <td>2009-03-18 03:49:43</td>\n",
       "      <td>796</td>\n",
       "      <td>189</td>\n",
       "      <td>296</td>\n",
       "      <td>37</td>\n",
       "      <td>3.74</td>\n",
       "    </tr>\n",
       "    <tr>\n",
       "      <th>2079</th>\n",
       "      <td>G6uiBIcMc21mxtIsR6K_3w</td>\n",
       "      <td>Irene</td>\n",
       "      <td>486</td>\n",
       "      <td>2009-12-14 01:40:43</td>\n",
       "      <td>2296</td>\n",
       "      <td>1016</td>\n",
       "      <td>1106</td>\n",
       "      <td>106</td>\n",
       "      <td>3.38</td>\n",
       "    </tr>\n",
       "  </tbody>\n",
       "</table>\n",
       "</div>"
      ],
      "text/plain": [
       "                     user_id       name  review_count        yelping_since  \\\n",
       "975   j4cmflYbwAktOxZ_iiJCOQ   Danielle           236  2009-08-09 13:37:21   \n",
       "1242  pou3BbKsIozfH50rxmnMew      Brett          2812  2012-01-11 17:19:55   \n",
       "1857  3ywXGq4PyUoR_XXDvK_RIA       Toni           729  2006-06-13 03:44:01   \n",
       "1936  rTJ3EecGoQNbfFj7mqjDmw  Elizabeth           529  2009-03-18 03:49:43   \n",
       "2079  G6uiBIcMc21mxtIsR6K_3w      Irene           486  2009-12-14 01:40:43   \n",
       "\n",
       "      useful  funny   cool  fans  average_stars  \n",
       "975     1276    717   1040    44           3.81  \n",
       "1242   22586   8950  14927   914           4.28  \n",
       "1857    1875    689   1268    77           4.20  \n",
       "1936     796    189    296    37           3.74  \n",
       "2079    2296   1016   1106   106           3.38  "
      ]
     },
     "execution_count": 22,
     "metadata": {},
     "output_type": "execute_result"
    }
   ],
   "source": [
    "User.head()"
   ]
  },
  {
   "cell_type": "code",
   "execution_count": null,
   "metadata": {},
   "outputs": [],
   "source": [
    "# Utilizar la función melt para convertir las columnas en filas\n",
    "Compliment = pd.melt(Compliment, id_vars=['user_id'], var_name='name_compliment', value_name='counts')\n",
    "\n",
    "# Ordenar el DataFrame por user_id\n",
    "Compliment = Compliment.sort_values(by='user_id')"
   ]
  },
  {
   "cell_type": "code",
   "execution_count": null,
   "metadata": {},
   "outputs": [],
   "source": [
    "# Creamos la tabla name_compliment\n",
    "data = {\n",
    "    'compliment_id': ['com-001', 'com-002', 'com-003', 'com-004'],\n",
    "    'name_compliment': ['useful', 'funny', 'cool', 'compliment_profile']}\n",
    "\n",
    "name_compliment = pd.DataFrame(data)"
   ]
  },
  {
   "cell_type": "code",
   "execution_count": null,
   "metadata": {},
   "outputs": [],
   "source": [
    "# Unir las tablas\n",
    "Compliment = pd.merge(Compliment, name_compliment, left_on='name_compliment', right_on='name_compliment')\n",
    "\n",
    "# Eliminar la columna 'compliment_name'\n",
    "Compliment = Compliment.drop(columns=['name_compliment'])"
   ]
  },
  {
   "cell_type": "code",
   "execution_count": null,
   "metadata": {},
   "outputs": [],
   "source": [
    "# Ordeno las columnas\n",
    "Compliment = Compliment[['user_id', 'compliment_id', 'counts']]"
   ]
  },
  {
   "cell_type": "code",
   "execution_count": null,
   "metadata": {},
   "outputs": [],
   "source": [
    "Compliment.head()"
   ]
  },
  {
   "cell_type": "markdown",
   "metadata": {},
   "source": [
    "## 3.4 Dataset Attributes"
   ]
  },
  {
   "cell_type": "markdown",
   "metadata": {},
   "source": [
    "### 3.4.1. Exploración inicial de los datos"
   ]
  },
  {
   "cell_type": "code",
   "execution_count": null,
   "metadata": {},
   "outputs": [
    {
     "data": {
      "text/html": [
       "<div>\n",
       "<style scoped>\n",
       "    .dataframe tbody tr th:only-of-type {\n",
       "        vertical-align: middle;\n",
       "    }\n",
       "\n",
       "    .dataframe tbody tr th {\n",
       "        vertical-align: top;\n",
       "    }\n",
       "\n",
       "    .dataframe thead th {\n",
       "        text-align: right;\n",
       "    }\n",
       "</style>\n",
       "<table border=\"1\" class=\"dataframe\">\n",
       "  <thead>\n",
       "    <tr style=\"text-align: right;\">\n",
       "      <th></th>\n",
       "      <th>business_id</th>\n",
       "      <th>attributes</th>\n",
       "    </tr>\n",
       "  </thead>\n",
       "  <tbody>\n",
       "    <tr>\n",
       "      <th>0</th>\n",
       "      <td>9Rww8yE6Dm4dSMEq09nwXg</td>\n",
       "      <td>{'BusinessAcceptsCreditCards': 'True', 'BikePa...</td>\n",
       "    </tr>\n",
       "    <tr>\n",
       "      <th>1</th>\n",
       "      <td>my0bmPD5dgDFE1ia__LNlw</td>\n",
       "      <td>{'ByAppointmentOnly': 'False', 'BusinessAccept...</td>\n",
       "    </tr>\n",
       "    <tr>\n",
       "      <th>2</th>\n",
       "      <td>CLEWowfkj-wKYJlQDqT1aw</td>\n",
       "      <td>{'BusinessParking': \"{'garage': False, 'street...</td>\n",
       "    </tr>\n",
       "    <tr>\n",
       "      <th>3</th>\n",
       "      <td>gbetDRjllP5cOxaWxFjGHA</td>\n",
       "      <td>NaN</td>\n",
       "    </tr>\n",
       "    <tr>\n",
       "      <th>4</th>\n",
       "      <td>FYzZd2mlMIPScy95UY2xkw</td>\n",
       "      <td>{'BikeParking': 'True', 'BusinessAcceptsCredit...</td>\n",
       "    </tr>\n",
       "  </tbody>\n",
       "</table>\n",
       "</div>"
      ],
      "text/plain": [
       "              business_id                                         attributes\n",
       "0  9Rww8yE6Dm4dSMEq09nwXg  {'BusinessAcceptsCreditCards': 'True', 'BikePa...\n",
       "1  my0bmPD5dgDFE1ia__LNlw  {'ByAppointmentOnly': 'False', 'BusinessAccept...\n",
       "2  CLEWowfkj-wKYJlQDqT1aw  {'BusinessParking': \"{'garage': False, 'street...\n",
       "3  gbetDRjllP5cOxaWxFjGHA                                                NaN\n",
       "4  FYzZd2mlMIPScy95UY2xkw  {'BikeParking': 'True', 'BusinessAcceptsCredit..."
      ]
     },
     "execution_count": 73,
     "metadata": {},
     "output_type": "execute_result"
    }
   ],
   "source": [
    "Atributes.head()"
   ]
  },
  {
   "cell_type": "code",
   "execution_count": null,
   "metadata": {},
   "outputs": [
    {
     "name": "stdout",
     "output_type": "stream",
     "text": [
      "<class 'pandas.core.frame.DataFrame'>\n",
      "RangeIndex: 877 entries, 0 to 876\n",
      "Data columns (total 2 columns):\n",
      " #   Column       Non-Null Count  Dtype \n",
      "---  ------       --------------  ----- \n",
      " 0   business_id  877 non-null    object\n",
      " 1   attributes   839 non-null    object\n",
      "dtypes: object(2)\n",
      "memory usage: 13.8+ KB\n"
     ]
    }
   ],
   "source": [
    "Atributes.info()"
   ]
  },
  {
   "cell_type": "code",
   "execution_count": null,
   "metadata": {},
   "outputs": [
    {
     "name": "stdout",
     "output_type": "stream",
     "text": [
      "business_id     0\n",
      "attributes     38\n",
      "dtype: int64\n"
     ]
    }
   ],
   "source": [
    "# Contar filas vacías por columna\n",
    "filas_vacias_por_columna = Atributes.isnull().sum()\n",
    "print(filas_vacias_por_columna)"
   ]
  },
  {
   "cell_type": "code",
   "execution_count": null,
   "metadata": {},
   "outputs": [
    {
     "name": "stdout",
     "output_type": "stream",
     "text": [
      "Filas duplicadas en el DataFrame: 0\n"
     ]
    }
   ],
   "source": [
    "# Contar la cantidad de duplicados del DataFrame\n",
    "filas_duplicadas = Atributes.duplicated().sum()\n",
    "print(\"Filas duplicadas en el DataFrame:\", filas_duplicadas)"
   ]
  },
  {
   "cell_type": "markdown",
   "metadata": {},
   "source": [
    "### 3.4.2. Limpieza y Normalización de datos"
   ]
  },
  {
   "cell_type": "markdown",
   "metadata": {},
   "source": [
    "#### Normalizacion de datos"
   ]
  },
  {
   "cell_type": "code",
   "execution_count": null,
   "metadata": {},
   "outputs": [],
   "source": [
    "# Rellenar los valores nulos con un valor predeterminado (por ejemplo, una cadena vacía)\n",
    "Atributes['attributes'] = Atributes['attributes'].fillna('False')"
   ]
  },
  {
   "cell_type": "code",
   "execution_count": null,
   "metadata": {},
   "outputs": [],
   "source": [
    "# Convertir la columna 'attributes' en un DataFrame separado\n",
    "Attributes = Atributes['attributes'].apply(eval).apply(pd.Series)\n",
    "\n",
    "# Agregar la columna 'business_id' de nuevo al DataFrame de atributos\n",
    "Attributes['business_id'] = Atributes['business_id']\n",
    "\n",
    "# Reorganizar las columnas para colocar 'business_id' al principio\n",
    "Attributes = Attributes[['business_id'] + list(Attributes.columns[:-1])]"
   ]
  },
  {
   "cell_type": "markdown",
   "metadata": {},
   "source": [
    "La columna attributes tienes valores en forma de diccionarios y lo desanido aplicando la funcion apply(eval) "
   ]
  },
  {
   "cell_type": "code",
   "execution_count": null,
   "metadata": {},
   "outputs": [],
   "source": [
    "columnas_a_eliminar = ['AcceptsInsurance','RestaurantsDelivery', 'GoodForMeal', 'RestaurantsAttire', \n",
    "                       'RestaurantsTableService', 'DogsAllowed', 'RestaurantsGoodForGroups', 'Music', \n",
    "                       'OutdoorSeating', 'HasTV', 'RestaurantsReservations', 'Alcohol', 'Ambience', 'HappyHour',\n",
    "                       'GoodForDancing', 'Smoking', 'NoiseLevel', 'AcceptsInsurance', 'HairSpecializesIn', \n",
    "                       'RestaurantsTakeOut', 0, 'BusinessAcceptsBitcoin','GoodForKids','WheelchairAccessible']\n",
    "# Eliminar las columnas especificadas\n",
    "Attributes = Attributes.drop(columnas_a_eliminar, axis=1)"
   ]
  },
  {
   "cell_type": "code",
   "execution_count": null,
   "metadata": {},
   "outputs": [],
   "source": [
    "from ast import literal_eval\n",
    "# Remplazar los valores nan con un diccionario vacío\n",
    "Attributes['BusinessParking'].fillna('{}', inplace=True)\n",
    "\n",
    "# Convertir la columna 'BusinessParking' a un diccionario\n",
    "Attributes['BusinessParking'] = Attributes['BusinessParking'].apply(literal_eval)\n",
    "\n",
    "# Desanidar el diccionario\n",
    "CarParking = pd.json_normalize(Attributes['BusinessParking'])"
   ]
  },
  {
   "cell_type": "code",
   "execution_count": null,
   "metadata": {},
   "outputs": [],
   "source": [
    "# Verificar si al menos una de las columnas tiene True en cada fila\n",
    "CarParking['Parking'] = CarParking[['garage', 'street', 'validated', 'lot', 'valet']].any(axis=1)"
   ]
  },
  {
   "cell_type": "code",
   "execution_count": null,
   "metadata": {},
   "outputs": [],
   "source": [
    "# Eliminar las columnas no deseadas de la tabla parking\n",
    "CarParking = CarParking.drop(['garage', 'street', 'validated', 'lot', 'valet'], axis=1)"
   ]
  },
  {
   "cell_type": "code",
   "execution_count": null,
   "metadata": {},
   "outputs": [],
   "source": [
    "# Combinar la tabla parking con la tabla Attributes\n",
    "Attributes = Attributes.merge(CarParking, left_index=True, right_index=True)"
   ]
  },
  {
   "cell_type": "code",
   "execution_count": null,
   "metadata": {},
   "outputs": [],
   "source": [
    "# Eliminar la columna 'BusinessParking' de la tabla Attributes\n",
    "Attributes = Attributes.drop('BusinessParking', axis=1)"
   ]
  },
  {
   "cell_type": "code",
   "execution_count": null,
   "metadata": {},
   "outputs": [],
   "source": [
    "def normalize_wifi(value):\n",
    "    if value in [\"u'free'\", \"'free'\"]:\n",
    "        return True\n",
    "    else:\n",
    "        return False\n",
    "\n",
    "# Aplicar la función a la columna 'WiFi'\n",
    "Attributes['WiFi'] = Attributes['WiFi'].apply(normalize_wifi)"
   ]
  },
  {
   "cell_type": "code",
   "execution_count": null,
   "metadata": {},
   "outputs": [],
   "source": [
    "# Crear un diccionario de mapeo\n",
    "mapping = {2.0: True, 1.0: True, 3.0: True, 4.0: True}\n",
    "\n",
    "# Mapear los valores y convertir a booleanos\n",
    "Attributes['RestaurantsPriceRange2'] = Attributes['RestaurantsPriceRange2'].map(mapping).astype(bool)"
   ]
  },
  {
   "cell_type": "code",
   "execution_count": null,
   "metadata": {},
   "outputs": [],
   "source": [
    "# Reemplazar NaN por False en el DataFrame Attributes\n",
    "Attributes = Attributes.fillna(False)"
   ]
  },
  {
   "cell_type": "code",
   "execution_count": null,
   "metadata": {},
   "outputs": [],
   "source": [
    "# Renombrar la columna 'RestaurantsPriceRange2' a 'Food'\n",
    "Attributes = Attributes.rename(columns={'RestaurantsPriceRange2': 'Food'})"
   ]
  },
  {
   "cell_type": "code",
   "execution_count": null,
   "metadata": {},
   "outputs": [],
   "source": [
    "Attributes = Attributes.rename(columns={'Parking': 'CarParking'})"
   ]
  },
  {
   "cell_type": "code",
   "execution_count": null,
   "metadata": {},
   "outputs": [],
   "source": [
    "# Agregar una columna 'Attribute_id' que contiene el ID único para cada fila\n",
    "Attributes['Attribute_id'] = ['at-' + str(i).zfill(3) for i in range(1, len(Attributes) + 1)]"
   ]
  },
  {
   "cell_type": "code",
   "execution_count": null,
   "metadata": {},
   "outputs": [],
   "source": [
    "# Lista con el orden deseado de las columnas\n",
    "column_order = ['business_id', 'Attribute_id', 'BusinessAcceptsCreditCards', 'CarParking', 'BikeParking', 'WiFi', 'Food', 'ByAppointmentOnly']\n",
    "\n",
    "# Reordenar las columnas del DataFrame\n",
    "Attributes = Attributes.reindex(columns=column_order)"
   ]
  },
  {
   "cell_type": "code",
   "execution_count": null,
   "metadata": {},
   "outputs": [],
   "source": [
    "# Convertir las columnas de tipo booleano a tipo objeto (str)\n",
    "Attributes['carparking'] = Attributes['carparking'].astype(str)\n",
    "Attributes['wifi'] = Attributes['wifi'].astype(str)\n",
    "Attributes['food'] = Attributes['food'].astype(str)"
   ]
  },
  {
   "cell_type": "code",
   "execution_count": null,
   "metadata": {},
   "outputs": [],
   "source": [
    "# Lista de atributos\n",
    "attributes = ['businessacceptscreditcards', 'carparking', 'bikeparking', 'wifi', 'food', 'byappointmentonly']\n",
    "\n",
    "# Crear un nuevo DataFrame\n",
    "df_new = pd.DataFrame(columns=['business_id', 'attributes', 'value'])\n",
    "\n",
    "# Iterar sobre cada fila del DataFrame original\n",
    "for index, row in Attributes.iterrows():\n",
    "    business_id = row['business_id']\n",
    "    for attribute in attributes:\n",
    "        value = row[attribute]\n",
    "        df_new = pd.concat([df_new, pd.DataFrame({'business_id': [business_id], 'attributes': [attribute], 'value': [value]})], ignore_index=True)\n",
    "\n",
    "Attributes = df_new"
   ]
  },
  {
   "cell_type": "code",
   "execution_count": null,
   "metadata": {},
   "outputs": [],
   "source": [
    "# Filtrar el DataFrame para mantener solo las filas donde el valor es True\n",
    "Attributes = Attributes[Attributes['value'] == 'True']"
   ]
  },
  {
   "cell_type": "code",
   "execution_count": null,
   "metadata": {},
   "outputs": [],
   "source": [
    "Attributes = Attributes.drop(['value'], axis = 1)"
   ]
  },
  {
   "cell_type": "code",
   "execution_count": null,
   "metadata": {},
   "outputs": [
    {
     "data": {
      "text/html": [
       "<div>\n",
       "<style scoped>\n",
       "    .dataframe tbody tr th:only-of-type {\n",
       "        vertical-align: middle;\n",
       "    }\n",
       "\n",
       "    .dataframe tbody tr th {\n",
       "        vertical-align: top;\n",
       "    }\n",
       "\n",
       "    .dataframe thead th {\n",
       "        text-align: right;\n",
       "    }\n",
       "</style>\n",
       "<table border=\"1\" class=\"dataframe\">\n",
       "  <thead>\n",
       "    <tr style=\"text-align: right;\">\n",
       "      <th></th>\n",
       "      <th>business_id</th>\n",
       "      <th>attributes</th>\n",
       "    </tr>\n",
       "  </thead>\n",
       "  <tbody>\n",
       "    <tr>\n",
       "      <th>0</th>\n",
       "      <td>9Rww8yE6Dm4dSMEq09nwXg</td>\n",
       "      <td>businessacceptscreditcards</td>\n",
       "    </tr>\n",
       "    <tr>\n",
       "      <th>1</th>\n",
       "      <td>9Rww8yE6Dm4dSMEq09nwXg</td>\n",
       "      <td>carparking</td>\n",
       "    </tr>\n",
       "    <tr>\n",
       "      <th>2</th>\n",
       "      <td>9Rww8yE6Dm4dSMEq09nwXg</td>\n",
       "      <td>bikeparking</td>\n",
       "    </tr>\n",
       "    <tr>\n",
       "      <th>3</th>\n",
       "      <td>9Rww8yE6Dm4dSMEq09nwXg</td>\n",
       "      <td>wifi</td>\n",
       "    </tr>\n",
       "    <tr>\n",
       "      <th>4</th>\n",
       "      <td>9Rww8yE6Dm4dSMEq09nwXg</td>\n",
       "      <td>food</td>\n",
       "    </tr>\n",
       "  </tbody>\n",
       "</table>\n",
       "</div>"
      ],
      "text/plain": [
       "              business_id                  attributes\n",
       "0  9Rww8yE6Dm4dSMEq09nwXg  businessacceptscreditcards\n",
       "1  9Rww8yE6Dm4dSMEq09nwXg                  carparking\n",
       "2  9Rww8yE6Dm4dSMEq09nwXg                 bikeparking\n",
       "3  9Rww8yE6Dm4dSMEq09nwXg                        wifi\n",
       "4  9Rww8yE6Dm4dSMEq09nwXg                        food"
      ]
     },
     "execution_count": 329,
     "metadata": {},
     "output_type": "execute_result"
    }
   ],
   "source": [
    "Attributes.head()"
   ]
  },
  {
   "cell_type": "code",
   "execution_count": null,
   "metadata": {},
   "outputs": [],
   "source": [
    "# Crear un DataFrame con los nombres de los atributos\n",
    "data = {\n",
    "    'type_attributes_id': ['t-001', 't-002', 't-003', 't-004', 't-005', 't-006'],\n",
    "    'name_attributes': ['businessacceptscreditcards', 'carparking', 'bikeparking', 'wifi', 'food', 'byappointmentonly']\n",
    "}\n",
    "\n",
    "# Crear el DataFrame\n",
    "Type_Attribute = pd.DataFrame(data)"
   ]
  },
  {
   "cell_type": "code",
   "execution_count": null,
   "metadata": {},
   "outputs": [],
   "source": [
    "# Realizar la unión por la columna 'attributes' y 'name_attributes'\n",
    "df = Attributes.merge(Type_Attribute, left_on='attributes', right_on='name_attributes', how='left')\n",
    "\n",
    "# Mantener solo las columnas necesarias\n",
    "Attributes = df[['business_id', 'type_attributes_id']]"
   ]
  },
  {
   "cell_type": "code",
   "execution_count": null,
   "metadata": {},
   "outputs": [],
   "source": [
    "# Crear una columna 'attribute_id' que sea incremental\n",
    "Attributes['attributes_id'] = ['at-' + str(i).zfill(3) for i in range(1, len(Attributes) + 1)]"
   ]
  },
  {
   "cell_type": "code",
   "execution_count": null,
   "metadata": {},
   "outputs": [],
   "source": [
    "# Ordenar las columnas\n",
    "Attributes = Attributes[['attributes_id', 'business_id','type_attributes_id']]"
   ]
  },
  {
   "cell_type": "code",
   "execution_count": null,
   "metadata": {},
   "outputs": [
    {
     "data": {
      "text/html": [
       "<div>\n",
       "<style scoped>\n",
       "    .dataframe tbody tr th:only-of-type {\n",
       "        vertical-align: middle;\n",
       "    }\n",
       "\n",
       "    .dataframe tbody tr th {\n",
       "        vertical-align: top;\n",
       "    }\n",
       "\n",
       "    .dataframe thead th {\n",
       "        text-align: right;\n",
       "    }\n",
       "</style>\n",
       "<table border=\"1\" class=\"dataframe\">\n",
       "  <thead>\n",
       "    <tr style=\"text-align: right;\">\n",
       "      <th></th>\n",
       "      <th>business_id</th>\n",
       "      <th>type_attributes_id</th>\n",
       "    </tr>\n",
       "  </thead>\n",
       "  <tbody>\n",
       "    <tr>\n",
       "      <th>0</th>\n",
       "      <td>9Rww8yE6Dm4dSMEq09nwXg</td>\n",
       "      <td>t-001</td>\n",
       "    </tr>\n",
       "    <tr>\n",
       "      <th>1</th>\n",
       "      <td>9Rww8yE6Dm4dSMEq09nwXg</td>\n",
       "      <td>t-002</td>\n",
       "    </tr>\n",
       "    <tr>\n",
       "      <th>2</th>\n",
       "      <td>9Rww8yE6Dm4dSMEq09nwXg</td>\n",
       "      <td>t-003</td>\n",
       "    </tr>\n",
       "    <tr>\n",
       "      <th>3</th>\n",
       "      <td>9Rww8yE6Dm4dSMEq09nwXg</td>\n",
       "      <td>t-004</td>\n",
       "    </tr>\n",
       "    <tr>\n",
       "      <th>4</th>\n",
       "      <td>9Rww8yE6Dm4dSMEq09nwXg</td>\n",
       "      <td>t-005</td>\n",
       "    </tr>\n",
       "  </tbody>\n",
       "</table>\n",
       "</div>"
      ],
      "text/plain": [
       "              business_id type_attributes_id\n",
       "0  9Rww8yE6Dm4dSMEq09nwXg              t-001\n",
       "1  9Rww8yE6Dm4dSMEq09nwXg              t-002\n",
       "2  9Rww8yE6Dm4dSMEq09nwXg              t-003\n",
       "3  9Rww8yE6Dm4dSMEq09nwXg              t-004\n",
       "4  9Rww8yE6Dm4dSMEq09nwXg              t-005"
      ]
     },
     "execution_count": 333,
     "metadata": {},
     "output_type": "execute_result"
    }
   ],
   "source": [
    "Attributes.head()"
   ]
  },
  {
   "cell_type": "markdown",
   "metadata": {},
   "source": [
    "## 3.5 Dataset Opening_Hours"
   ]
  },
  {
   "cell_type": "markdown",
   "metadata": {},
   "source": [
    "### 3.5.1. Transformacion de Datos"
   ]
  },
  {
   "cell_type": "code",
   "execution_count": null,
   "metadata": {},
   "outputs": [],
   "source": [
    "from ast import literal_eval\n",
    "\n",
    "# Crear una lista vacía para almacenar las filas de la nueva tabla\n",
    "opening_hours = []\n",
    "\n",
    "# Iterar sobre cada fila en la tabla 'Business'\n",
    "for idx, row in Business.iterrows():\n",
    "    # Extraer los horarios de operación\n",
    "    hours_str = row['hours']\n",
    "    try:\n",
    "        # Convertir la cadena de texto a un diccionario\n",
    "        hours = literal_eval(hours_str)\n",
    "        # Iterar sobre cada día de la semana en los horarios de operación\n",
    "        for day, time in hours.items():\n",
    "            # Dividir el horario en 'hora de apertura' y 'hora de cierre'\n",
    "            opening_time, closing_time = time.split('-')\n",
    "            # Agregar una nueva fila a la lista\n",
    "            opening_hours.append([row['business_id'], day, opening_time, closing_time])\n",
    "    except (ValueError, SyntaxError):\n",
    "        # Manejar el caso en el que la cadena no sea un diccionario válido\n",
    "        pass\n",
    "\n",
    "# Convertir la lista en una tabla de pandas\n",
    "opening_hours = pd.DataFrame(opening_hours, columns=['business_id', 'day_of_week', 'opening_time', 'closing_time'])"
   ]
  },
  {
   "cell_type": "code",
   "execution_count": null,
   "metadata": {},
   "outputs": [],
   "source": [
    "Days = {'days_id': ['d-001', 'd-002', 'd-003', 'd-004', 'd-005', 'd-006', 'd-007'],\n",
    "    'name_days': ['Monday', 'Tuesday', 'Wednesday', 'Thursday', 'Friday', 'Saturday', 'Sunday']\n",
    "}\n",
    "Days = pd.DataFrame(Days)"
   ]
  },
  {
   "cell_type": "code",
   "execution_count": null,
   "metadata": {},
   "outputs": [],
   "source": [
    "# Crear un nuevo DataFrame combinando opening_hours y Days usando merge\n",
    "opening_hours = pd.merge(opening_hours, Days, left_on='day_of_week', right_on='name_days')\n",
    "\n",
    "# Eliminar la columna 'name_days' ya que ya no es necesaria\n",
    "opening_hours.drop(['name_days', 'day_of_week'], axis=1, inplace=True)\n"
   ]
  },
  {
   "cell_type": "code",
   "execution_count": null,
   "metadata": {},
   "outputs": [],
   "source": [
    "# Unir las columnas opening_time y closing_time con un guión \"-\"\n",
    "opening_hours['combined_time'] = opening_hours['opening_time'] + '-' + opening_hours['closing_time']"
   ]
  },
  {
   "cell_type": "code",
   "execution_count": null,
   "metadata": {},
   "outputs": [],
   "source": [
    "# Copio la tabla opening_hours\n",
    "hours = opening_hours.copy()\n",
    "\n",
    "#Borro todas las columnas exceptop combined_time\n",
    "hours = hours.drop(['business_id', 'opening_time', 'closing_time', 'days_id'], axis= 1)"
   ]
  },
  {
   "cell_type": "code",
   "execution_count": null,
   "metadata": {},
   "outputs": [],
   "source": [
    "# Obtener valores únicos de la columna 'combined_time'\n",
    "unique_times = hours['combined_time'].unique()\n",
    "\n",
    "# Crear un DataFrame con los valores únicos\n",
    "unique_df = pd.DataFrame({'combined_time': unique_times})\n",
    "\n",
    "# Agregar una columna 'hours_id' con valores incrementales\n",
    "unique_df['hours_id'] = ['h-' + str(i).zfill(3) for i in range(1, len(unique_df) + 1)]\n",
    "\n",
    "hours = unique_df"
   ]
  },
  {
   "cell_type": "code",
   "execution_count": null,
   "metadata": {},
   "outputs": [],
   "source": [
    "# Unir las tablas opening_hours y hours usando la columna 'combined_time'\n",
    "result = pd.merge(opening_hours, hours[['combined_time', 'hours_id']], on='combined_time', how='left')\n",
    "\n",
    "# Eliminar la columna 'combined_time' si no la necesitas\n",
    "result.drop('combined_time', axis=1, inplace=True)\n",
    "\n",
    "opening_hours = result"
   ]
  },
  {
   "cell_type": "code",
   "execution_count": null,
   "metadata": {},
   "outputs": [],
   "source": [
    "opening_hours = opening_hours.drop(['opening_time', 'closing_time'], axis= 1)"
   ]
  },
  {
   "cell_type": "code",
   "execution_count": null,
   "metadata": {},
   "outputs": [],
   "source": [
    "# Crear una columna 'opening_hours_id' que sea incremental\n",
    "opening_hours['opening_hours_id'] = ['oh-' + str(i).zfill(3) for i in range(1, len(opening_hours) + 1)]"
   ]
  },
  {
   "cell_type": "code",
   "execution_count": null,
   "metadata": {},
   "outputs": [],
   "source": [
    "# Seleccionar las columnas en el orden deseado\n",
    "opening_hours = opening_hours[['opening_hours_id', 'business_id', 'days_id', 'hours_id']]"
   ]
  },
  {
   "cell_type": "code",
   "execution_count": null,
   "metadata": {},
   "outputs": [
    {
     "data": {
      "text/html": [
       "<div>\n",
       "<style scoped>\n",
       "    .dataframe tbody tr th:only-of-type {\n",
       "        vertical-align: middle;\n",
       "    }\n",
       "\n",
       "    .dataframe tbody tr th {\n",
       "        vertical-align: top;\n",
       "    }\n",
       "\n",
       "    .dataframe thead th {\n",
       "        text-align: right;\n",
       "    }\n",
       "</style>\n",
       "<table border=\"1\" class=\"dataframe\">\n",
       "  <thead>\n",
       "    <tr style=\"text-align: right;\">\n",
       "      <th></th>\n",
       "      <th>business_id</th>\n",
       "      <th>days_id</th>\n",
       "      <th>hours_id</th>\n",
       "    </tr>\n",
       "  </thead>\n",
       "  <tbody>\n",
       "    <tr>\n",
       "      <th>0</th>\n",
       "      <td>9Rww8yE6Dm4dSMEq09nwXg</td>\n",
       "      <td>d-002</td>\n",
       "      <td>h-001</td>\n",
       "    </tr>\n",
       "    <tr>\n",
       "      <th>1</th>\n",
       "      <td>9Rww8yE6Dm4dSMEq09nwXg</td>\n",
       "      <td>d-003</td>\n",
       "      <td>h-001</td>\n",
       "    </tr>\n",
       "    <tr>\n",
       "      <th>2</th>\n",
       "      <td>9Rww8yE6Dm4dSMEq09nwXg</td>\n",
       "      <td>d-004</td>\n",
       "      <td>h-001</td>\n",
       "    </tr>\n",
       "    <tr>\n",
       "      <th>3</th>\n",
       "      <td>9Rww8yE6Dm4dSMEq09nwXg</td>\n",
       "      <td>d-005</td>\n",
       "      <td>h-001</td>\n",
       "    </tr>\n",
       "    <tr>\n",
       "      <th>4</th>\n",
       "      <td>9Rww8yE6Dm4dSMEq09nwXg</td>\n",
       "      <td>d-006</td>\n",
       "      <td>h-001</td>\n",
       "    </tr>\n",
       "  </tbody>\n",
       "</table>\n",
       "</div>"
      ],
      "text/plain": [
       "              business_id days_id hours_id\n",
       "0  9Rww8yE6Dm4dSMEq09nwXg   d-002    h-001\n",
       "1  9Rww8yE6Dm4dSMEq09nwXg   d-003    h-001\n",
       "2  9Rww8yE6Dm4dSMEq09nwXg   d-004    h-001\n",
       "3  9Rww8yE6Dm4dSMEq09nwXg   d-005    h-001\n",
       "4  9Rww8yE6Dm4dSMEq09nwXg   d-006    h-001"
      ]
     },
     "execution_count": 245,
     "metadata": {},
     "output_type": "execute_result"
    }
   ],
   "source": [
    "opening_hours.head()"
   ]
  },
  {
   "cell_type": "code",
   "execution_count": null,
   "metadata": {},
   "outputs": [],
   "source": [
    "# Cambiar el nombre de la columna 'combined_time' a 'Horario'\n",
    "hours = hours.rename(columns={'combined_time': 'Schedule'})"
   ]
  },
  {
   "cell_type": "code",
   "execution_count": null,
   "metadata": {},
   "outputs": [
    {
     "data": {
      "text/html": [
       "<div>\n",
       "<style scoped>\n",
       "    .dataframe tbody tr th:only-of-type {\n",
       "        vertical-align: middle;\n",
       "    }\n",
       "\n",
       "    .dataframe tbody tr th {\n",
       "        vertical-align: top;\n",
       "    }\n",
       "\n",
       "    .dataframe thead th {\n",
       "        text-align: right;\n",
       "    }\n",
       "</style>\n",
       "<table border=\"1\" class=\"dataframe\">\n",
       "  <thead>\n",
       "    <tr style=\"text-align: right;\">\n",
       "      <th></th>\n",
       "      <th>Schedule</th>\n",
       "      <th>hours_id</th>\n",
       "    </tr>\n",
       "  </thead>\n",
       "  <tbody>\n",
       "    <tr>\n",
       "      <th>0</th>\n",
       "      <td>9:30-19:0</td>\n",
       "      <td>h-001</td>\n",
       "    </tr>\n",
       "    <tr>\n",
       "      <th>1</th>\n",
       "      <td>10:0-17:0</td>\n",
       "      <td>h-002</td>\n",
       "    </tr>\n",
       "    <tr>\n",
       "      <th>2</th>\n",
       "      <td>11:0-17:0</td>\n",
       "      <td>h-003</td>\n",
       "    </tr>\n",
       "    <tr>\n",
       "      <th>3</th>\n",
       "      <td>0:0-0:0</td>\n",
       "      <td>h-004</td>\n",
       "    </tr>\n",
       "    <tr>\n",
       "      <th>4</th>\n",
       "      <td>8:0-16:0</td>\n",
       "      <td>h-005</td>\n",
       "    </tr>\n",
       "  </tbody>\n",
       "</table>\n",
       "</div>"
      ],
      "text/plain": [
       "    Schedule hours_id\n",
       "0  9:30-19:0    h-001\n",
       "1  10:0-17:0    h-002\n",
       "2  11:0-17:0    h-003\n",
       "3    0:0-0:0    h-004\n",
       "4   8:0-16:0    h-005"
      ]
     },
     "execution_count": 338,
     "metadata": {},
     "output_type": "execute_result"
    }
   ],
   "source": [
    "hours.head()"
   ]
  },
  {
   "cell_type": "markdown",
   "metadata": {},
   "source": [
    "# 4. Carga de Datos"
   ]
  },
  {
   "cell_type": "code",
   "execution_count": null,
   "metadata": {},
   "outputs": [],
   "source": [
    "Business.to_csv('DataSets_Limpia/C_Business.csv', index=False)\n",
    "Review.to_csv('DataSets_Limpia/C_Review.csv', index= False)\n",
    "User.to_csv('DataSets_Limpia/C_User.csv', index= False)\n",
    "Compliment.to_csv('DataSets_Limpia/C_Compliment_User.csv', index= False)\n",
    "name_compliment.to_csv('DataSets_Limpia/C_Compliment.csv', index= False)\n",
    "Attributes.to_csv('DataSets_Limpia/C_Attributes.csv', index= False)\n",
    "opening_hours.to_csv('DataSets_Limpia/C_Opening_Hours.csv', index= False)\n",
    "Type_Attribute.to_csv('DataSets_Limpia/C_Type_Attribute.csv', index= False)\n",
    "Days.to_csv('DataSets_Limpia/C_Days.csv', index= False)\n",
    "hours.to_csv('DataSets_Limpia/C_Schedule.csv', index= False)"
   ]
  },
  {
   "cell_type": "code",
   "execution_count": null,
   "metadata": {},
   "outputs": [],
   "source": []
  },
  {
   "cell_type": "code",
   "execution_count": null,
   "metadata": {},
   "outputs": [],
   "source": []
  }
 ],
 "metadata": {
  "kernelspec": {
   "display_name": "PF",
   "language": "python",
   "name": "python3"
  },
  "language_info": {
   "codemirror_mode": {
    "name": "ipython",
    "version": 3
   },
   "file_extension": ".py",
   "mimetype": "text/x-python",
   "name": "python",
   "nbconvert_exporter": "python",
   "pygments_lexer": "ipython3",
   "version": "3.11.8"
  }
 },
 "nbformat": 4,
 "nbformat_minor": 2
}
