{
 "cells": [
  {
   "cell_type": "markdown",
   "metadata": {},
   "source": [
    "# ETL YELP"
   ]
  },
  {
   "cell_type": "markdown",
   "metadata": {},
   "source": [
    "# 1. Importar librerias"
   ]
  },
  {
   "cell_type": "code",
   "execution_count": 1,
   "metadata": {},
   "outputs": [],
   "source": [
    "import pandas as pd\n",
    "import numpy as np\n",
    "import re\n",
    "import requests\n",
    "import warnings\n",
    "warnings.filterwarnings(\"ignore\", message=\"Downcasting.*\", category=FutureWarning)\n"
   ]
  },
  {
   "cell_type": "markdown",
   "metadata": {},
   "source": [
    "# 2. Carga de Datos"
   ]
  },
  {
   "cell_type": "code",
   "execution_count": 2,
   "metadata": {},
   "outputs": [
    {
     "name": "stderr",
     "output_type": "stream",
     "text": [
      "C:\\Users\\U ANGEL\\AppData\\Local\\Temp\\ipykernel_15140\\874172018.py:1: DtypeWarning: Columns (14,15,16,17,18,19,25,26,27) have mixed types. Specify dtype option on import or set low_memory=False.\n",
      "  dfBusinessYelp = pd.read_csv('DataSets/businessYelp.csv')\n"
     ]
    }
   ],
   "source": [
    "dfBusinessYelp = pd.read_csv('DataSets/businessYelp.csv')"
   ]
  },
  {
   "cell_type": "code",
   "execution_count": 3,
   "metadata": {},
   "outputs": [],
   "source": [
    "dfReviewYelp = pd.read_csv('DataSets/ReviewsYelp.csv')"
   ]
  },
  {
   "cell_type": "markdown",
   "metadata": {},
   "source": [
    "# 3. Exploracion y Limpieza de Datos"
   ]
  },
  {
   "cell_type": "markdown",
   "metadata": {},
   "source": [
    "## 3.1 Dataset Business Yelp"
   ]
  },
  {
   "cell_type": "markdown",
   "metadata": {},
   "source": [
    "### 3.1.1. Exploración inicial de los datos"
   ]
  },
  {
   "cell_type": "code",
   "execution_count": 4,
   "metadata": {},
   "outputs": [
    {
     "data": {
      "text/html": [
       "<div>\n",
       "<style scoped>\n",
       "    .dataframe tbody tr th:only-of-type {\n",
       "        vertical-align: middle;\n",
       "    }\n",
       "\n",
       "    .dataframe tbody tr th {\n",
       "        vertical-align: top;\n",
       "    }\n",
       "\n",
       "    .dataframe thead th {\n",
       "        text-align: right;\n",
       "    }\n",
       "</style>\n",
       "<table border=\"1\" class=\"dataframe\">\n",
       "  <thead>\n",
       "    <tr style=\"text-align: right;\">\n",
       "      <th></th>\n",
       "      <th>business_id</th>\n",
       "      <th>name</th>\n",
       "      <th>address</th>\n",
       "      <th>city</th>\n",
       "      <th>state</th>\n",
       "      <th>postal_code</th>\n",
       "      <th>latitude</th>\n",
       "      <th>longitude</th>\n",
       "      <th>stars</th>\n",
       "      <th>review_count</th>\n",
       "      <th>...</th>\n",
       "      <th>state.1</th>\n",
       "      <th>postal_code.1</th>\n",
       "      <th>latitude.1</th>\n",
       "      <th>longitude.1</th>\n",
       "      <th>stars.1</th>\n",
       "      <th>review_count.1</th>\n",
       "      <th>is_open.1</th>\n",
       "      <th>attributes.1</th>\n",
       "      <th>categories.1</th>\n",
       "      <th>hours.1</th>\n",
       "    </tr>\n",
       "  </thead>\n",
       "  <tbody>\n",
       "    <tr>\n",
       "      <th>0</th>\n",
       "      <td>Pns2l4eNsfO8kk83dixA6A</td>\n",
       "      <td>Abby Rappoport, LAC, CMQ</td>\n",
       "      <td>1616 Chapala St, Ste 2</td>\n",
       "      <td>Santa Barbara</td>\n",
       "      <td>NaN</td>\n",
       "      <td>93101</td>\n",
       "      <td>34.426679</td>\n",
       "      <td>-119.711197</td>\n",
       "      <td>5.0</td>\n",
       "      <td>7</td>\n",
       "      <td>...</td>\n",
       "      <td>NaN</td>\n",
       "      <td>NaN</td>\n",
       "      <td>NaN</td>\n",
       "      <td>NaN</td>\n",
       "      <td>NaN</td>\n",
       "      <td>NaN</td>\n",
       "      <td>NaN</td>\n",
       "      <td>NaN</td>\n",
       "      <td>NaN</td>\n",
       "      <td>NaN</td>\n",
       "    </tr>\n",
       "    <tr>\n",
       "      <th>1</th>\n",
       "      <td>mpf3x-BjTdTEA3yCZrAYPw</td>\n",
       "      <td>The UPS Store</td>\n",
       "      <td>87 Grasso Plaza Shopping Center</td>\n",
       "      <td>Affton</td>\n",
       "      <td>NaN</td>\n",
       "      <td>63123</td>\n",
       "      <td>38.551126</td>\n",
       "      <td>-90.335695</td>\n",
       "      <td>3.0</td>\n",
       "      <td>15</td>\n",
       "      <td>...</td>\n",
       "      <td>NaN</td>\n",
       "      <td>NaN</td>\n",
       "      <td>NaN</td>\n",
       "      <td>NaN</td>\n",
       "      <td>NaN</td>\n",
       "      <td>NaN</td>\n",
       "      <td>NaN</td>\n",
       "      <td>NaN</td>\n",
       "      <td>NaN</td>\n",
       "      <td>NaN</td>\n",
       "    </tr>\n",
       "    <tr>\n",
       "      <th>2</th>\n",
       "      <td>tUFrWirKiKi_TAnsVWINQQ</td>\n",
       "      <td>Target</td>\n",
       "      <td>5255 E Broadway Blvd</td>\n",
       "      <td>Tucson</td>\n",
       "      <td>NaN</td>\n",
       "      <td>85711</td>\n",
       "      <td>32.223236</td>\n",
       "      <td>-110.880452</td>\n",
       "      <td>3.5</td>\n",
       "      <td>22</td>\n",
       "      <td>...</td>\n",
       "      <td>NaN</td>\n",
       "      <td>NaN</td>\n",
       "      <td>NaN</td>\n",
       "      <td>NaN</td>\n",
       "      <td>NaN</td>\n",
       "      <td>NaN</td>\n",
       "      <td>NaN</td>\n",
       "      <td>NaN</td>\n",
       "      <td>NaN</td>\n",
       "      <td>NaN</td>\n",
       "    </tr>\n",
       "    <tr>\n",
       "      <th>3</th>\n",
       "      <td>MTSW4McQd7CbVtyjqoe9mw</td>\n",
       "      <td>St Honore Pastries</td>\n",
       "      <td>935 Race St</td>\n",
       "      <td>Philadelphia</td>\n",
       "      <td>CA</td>\n",
       "      <td>19107</td>\n",
       "      <td>39.955505</td>\n",
       "      <td>-75.155564</td>\n",
       "      <td>4.0</td>\n",
       "      <td>80</td>\n",
       "      <td>...</td>\n",
       "      <td>NaN</td>\n",
       "      <td>NaN</td>\n",
       "      <td>NaN</td>\n",
       "      <td>NaN</td>\n",
       "      <td>NaN</td>\n",
       "      <td>NaN</td>\n",
       "      <td>NaN</td>\n",
       "      <td>NaN</td>\n",
       "      <td>NaN</td>\n",
       "      <td>NaN</td>\n",
       "    </tr>\n",
       "    <tr>\n",
       "      <th>4</th>\n",
       "      <td>mWMc6_wTdE0EUBKIGXDVfA</td>\n",
       "      <td>Perkiomen Valley Brewery</td>\n",
       "      <td>101 Walnut St</td>\n",
       "      <td>Green Lane</td>\n",
       "      <td>MO</td>\n",
       "      <td>18054</td>\n",
       "      <td>40.338183</td>\n",
       "      <td>-75.471659</td>\n",
       "      <td>4.5</td>\n",
       "      <td>13</td>\n",
       "      <td>...</td>\n",
       "      <td>NaN</td>\n",
       "      <td>NaN</td>\n",
       "      <td>NaN</td>\n",
       "      <td>NaN</td>\n",
       "      <td>NaN</td>\n",
       "      <td>NaN</td>\n",
       "      <td>NaN</td>\n",
       "      <td>NaN</td>\n",
       "      <td>NaN</td>\n",
       "      <td>NaN</td>\n",
       "    </tr>\n",
       "  </tbody>\n",
       "</table>\n",
       "<p>5 rows × 28 columns</p>\n",
       "</div>"
      ],
      "text/plain": [
       "              business_id                      name  \\\n",
       "0  Pns2l4eNsfO8kk83dixA6A  Abby Rappoport, LAC, CMQ   \n",
       "1  mpf3x-BjTdTEA3yCZrAYPw             The UPS Store   \n",
       "2  tUFrWirKiKi_TAnsVWINQQ                    Target   \n",
       "3  MTSW4McQd7CbVtyjqoe9mw        St Honore Pastries   \n",
       "4  mWMc6_wTdE0EUBKIGXDVfA  Perkiomen Valley Brewery   \n",
       "\n",
       "                           address           city state postal_code  \\\n",
       "0           1616 Chapala St, Ste 2  Santa Barbara   NaN       93101   \n",
       "1  87 Grasso Plaza Shopping Center         Affton   NaN       63123   \n",
       "2             5255 E Broadway Blvd         Tucson   NaN       85711   \n",
       "3                      935 Race St   Philadelphia    CA       19107   \n",
       "4                    101 Walnut St     Green Lane    MO       18054   \n",
       "\n",
       "    latitude   longitude  stars  review_count  ...  state.1 postal_code.1  \\\n",
       "0  34.426679 -119.711197    5.0             7  ...      NaN           NaN   \n",
       "1  38.551126  -90.335695    3.0            15  ...      NaN           NaN   \n",
       "2  32.223236 -110.880452    3.5            22  ...      NaN           NaN   \n",
       "3  39.955505  -75.155564    4.0            80  ...      NaN           NaN   \n",
       "4  40.338183  -75.471659    4.5            13  ...      NaN           NaN   \n",
       "\n",
       "  latitude.1 longitude.1 stars.1 review_count.1 is_open.1 attributes.1  \\\n",
       "0        NaN         NaN     NaN            NaN       NaN          NaN   \n",
       "1        NaN         NaN     NaN            NaN       NaN          NaN   \n",
       "2        NaN         NaN     NaN            NaN       NaN          NaN   \n",
       "3        NaN         NaN     NaN            NaN       NaN          NaN   \n",
       "4        NaN         NaN     NaN            NaN       NaN          NaN   \n",
       "\n",
       "  categories.1 hours.1  \n",
       "0          NaN     NaN  \n",
       "1          NaN     NaN  \n",
       "2          NaN     NaN  \n",
       "3          NaN     NaN  \n",
       "4          NaN     NaN  \n",
       "\n",
       "[5 rows x 28 columns]"
      ]
     },
     "execution_count": 4,
     "metadata": {},
     "output_type": "execute_result"
    }
   ],
   "source": [
    "#Vizualizo las primeras filas del DataFrame\n",
    "dfBusinessYelp.head()"
   ]
  },
  {
   "cell_type": "code",
   "execution_count": 5,
   "metadata": {},
   "outputs": [
    {
     "name": "stdout",
     "output_type": "stream",
     "text": [
      "<class 'pandas.core.frame.DataFrame'>\n",
      "RangeIndex: 150346 entries, 0 to 150345\n",
      "Data columns (total 28 columns):\n",
      " #   Column          Non-Null Count   Dtype  \n",
      "---  ------          --------------   -----  \n",
      " 0   business_id     150346 non-null  object \n",
      " 1   name            150346 non-null  object \n",
      " 2   address         145219 non-null  object \n",
      " 3   city            150346 non-null  object \n",
      " 4   state           150343 non-null  object \n",
      " 5   postal_code     150273 non-null  object \n",
      " 6   latitude        150346 non-null  float64\n",
      " 7   longitude       150346 non-null  float64\n",
      " 8   stars           150346 non-null  float64\n",
      " 9   review_count    150346 non-null  int64  \n",
      " 10  is_open         150346 non-null  int64  \n",
      " 11  attributes      136602 non-null  object \n",
      " 12  categories      150243 non-null  object \n",
      " 13  hours           127123 non-null  object \n",
      " 14  business_id.1   5 non-null       object \n",
      " 15  name.1          5 non-null       object \n",
      " 16  address.1       5 non-null       object \n",
      " 17  city.1          5 non-null       object \n",
      " 18  state.1         5 non-null       object \n",
      " 19  postal_code.1   5 non-null       object \n",
      " 20  latitude.1      5 non-null       float64\n",
      " 21  longitude.1     5 non-null       float64\n",
      " 22  stars.1         5 non-null       float64\n",
      " 23  review_count.1  5 non-null       float64\n",
      " 24  is_open.1       5 non-null       float64\n",
      " 25  attributes.1    5 non-null       object \n",
      " 26  categories.1    5 non-null       object \n",
      " 27  hours.1         5 non-null       object \n",
      "dtypes: float64(8), int64(2), object(18)\n",
      "memory usage: 32.1+ MB\n"
     ]
    }
   ],
   "source": [
    "# Obtener información sobre las columnas y los tipos de datos\n",
    "dfBusinessYelp.info()"
   ]
  },
  {
   "cell_type": "code",
   "execution_count": 6,
   "metadata": {},
   "outputs": [
    {
     "name": "stdout",
     "output_type": "stream",
     "text": [
      "business_id            0\n",
      "name                   0\n",
      "address             5127\n",
      "city                   0\n",
      "state                  3\n",
      "postal_code           73\n",
      "latitude               0\n",
      "longitude              0\n",
      "stars                  0\n",
      "review_count           0\n",
      "is_open                0\n",
      "attributes         13744\n",
      "categories           103\n",
      "hours              23223\n",
      "business_id.1     150341\n",
      "name.1            150341\n",
      "address.1         150341\n",
      "city.1            150341\n",
      "state.1           150341\n",
      "postal_code.1     150341\n",
      "latitude.1        150341\n",
      "longitude.1       150341\n",
      "stars.1           150341\n",
      "review_count.1    150341\n",
      "is_open.1         150341\n",
      "attributes.1      150341\n",
      "categories.1      150341\n",
      "hours.1           150341\n",
      "dtype: int64\n"
     ]
    }
   ],
   "source": [
    "# Contar filas vacías por columna\n",
    "filas_vacias_por_columna = dfBusinessYelp.isnull().sum()\n",
    "print(filas_vacias_por_columna)"
   ]
  },
  {
   "cell_type": "markdown",
   "metadata": {},
   "source": [
    "Al evaluar la cantidad de nulos por columnas vemos que las columnas : 'business_id.1', 'name.1',\n",
    "       'address.1', 'city.1', 'state.1', 'postal_code.1', 'latitude.1',\n",
    "       'longitude.1', 'stars.1', 'review_count.1', 'is_open.1', 'attributes.1',\n",
    "       'categories.1', 'hours.1', estan llenos de nulos"
   ]
  },
  {
   "cell_type": "code",
   "execution_count": 7,
   "metadata": {},
   "outputs": [
    {
     "name": "stdout",
     "output_type": "stream",
     "text": [
      "Filas duplicadas en el DataFrame: 0\n"
     ]
    }
   ],
   "source": [
    "# Contar la cantidad de duplicados del DataFrame\n",
    "filas_duplicadas = dfBusinessYelp.duplicated().sum()\n",
    "print(\"Filas duplicadas en el DataFrame:\", filas_duplicadas)"
   ]
  },
  {
   "cell_type": "markdown",
   "metadata": {},
   "source": [
    "Como logramos observas no encontramos valores duplicados en el DataFrame"
   ]
  },
  {
   "cell_type": "code",
   "execution_count": 8,
   "metadata": {},
   "outputs": [
    {
     "data": {
      "text/plain": [
       "array([nan, 'CA', 'MO', 'AZ', 'PA', 'TN', 'FL', 'IN', 'LA', 'AB', 'NV',\n",
       "       'ID', 'DE', 'IL', 'NJ', 'NC', 'CO', 'WA', 'HI', 'UT', 'TX', 'MT',\n",
       "       'MI', 'SD', 'XMS', 'MA', 'VI', 'VT'], dtype=object)"
      ]
     },
     "execution_count": 8,
     "metadata": {},
     "output_type": "execute_result"
    }
   ],
   "source": [
    "dfBusinessYelp['state'].unique()"
   ]
  },
  {
   "cell_type": "markdown",
   "metadata": {},
   "source": [
    "Al ver que hay valores nulos, siglas de los diferentes estados concluyo que la columna 'state' es mejor no usarla y sacar los estados mediante la longitud y latitud"
   ]
  },
  {
   "cell_type": "markdown",
   "metadata": {},
   "source": [
    "### 3.1.2. Limpieza y Normalización de datos"
   ]
  },
  {
   "cell_type": "markdown",
   "metadata": {},
   "source": [
    "#### Filtrado de datos"
   ]
  },
  {
   "cell_type": "code",
   "execution_count": 9,
   "metadata": {},
   "outputs": [],
   "source": [
    "# El alcance del proyecto se limita a los diferentes negocios \n",
    "# dentro de la categoria 'Nail Salon', por lo que se aplica el filtro.\n",
    "\n",
    "# Eliminar filas con valores NaN en la columna 'categories'\n",
    "dfBusinessYelp = dfBusinessYelp.dropna(subset=['categories'])\n",
    "\n",
    "# Filtrar las filas que contienen 'Nail Salons' en la columna 'categories'\n",
    "dfBusinessYelp = dfBusinessYelp[dfBusinessYelp['categories'].str.contains('Nail Salons')]\n"
   ]
  },
  {
   "cell_type": "markdown",
   "metadata": {},
   "source": [
    "De limitamos el proyecto basado en la Categoria 'Nail Salon' o 'Salon de Uñas'"
   ]
  },
  {
   "cell_type": "code",
   "execution_count": 10,
   "metadata": {},
   "outputs": [
    {
     "data": {
      "text/html": [
       "<div>\n",
       "<style scoped>\n",
       "    .dataframe tbody tr th:only-of-type {\n",
       "        vertical-align: middle;\n",
       "    }\n",
       "\n",
       "    .dataframe tbody tr th {\n",
       "        vertical-align: top;\n",
       "    }\n",
       "\n",
       "    .dataframe thead th {\n",
       "        text-align: right;\n",
       "    }\n",
       "</style>\n",
       "<table border=\"1\" class=\"dataframe\">\n",
       "  <thead>\n",
       "    <tr style=\"text-align: right;\">\n",
       "      <th></th>\n",
       "      <th>business_id</th>\n",
       "      <th>name</th>\n",
       "      <th>address</th>\n",
       "      <th>city</th>\n",
       "      <th>state</th>\n",
       "      <th>postal_code</th>\n",
       "      <th>latitude</th>\n",
       "      <th>longitude</th>\n",
       "      <th>stars</th>\n",
       "      <th>review_count</th>\n",
       "      <th>...</th>\n",
       "      <th>state.1</th>\n",
       "      <th>postal_code.1</th>\n",
       "      <th>latitude.1</th>\n",
       "      <th>longitude.1</th>\n",
       "      <th>stars.1</th>\n",
       "      <th>review_count.1</th>\n",
       "      <th>is_open.1</th>\n",
       "      <th>attributes.1</th>\n",
       "      <th>categories.1</th>\n",
       "      <th>hours.1</th>\n",
       "    </tr>\n",
       "  </thead>\n",
       "  <tbody>\n",
       "    <tr>\n",
       "      <th>74</th>\n",
       "      <td>9Rww8yE6Dm4dSMEq09nwXg</td>\n",
       "      <td>Holly Nails &amp; Spa</td>\n",
       "      <td>9101 Belcher Rd</td>\n",
       "      <td>Pinellas Park</td>\n",
       "      <td>TN</td>\n",
       "      <td>33782</td>\n",
       "      <td>27.855347</td>\n",
       "      <td>-82.736308</td>\n",
       "      <td>4.5</td>\n",
       "      <td>16</td>\n",
       "      <td>...</td>\n",
       "      <td>NaN</td>\n",
       "      <td>NaN</td>\n",
       "      <td>NaN</td>\n",
       "      <td>NaN</td>\n",
       "      <td>NaN</td>\n",
       "      <td>NaN</td>\n",
       "      <td>NaN</td>\n",
       "      <td>NaN</td>\n",
       "      <td>NaN</td>\n",
       "      <td>NaN</td>\n",
       "    </tr>\n",
       "    <tr>\n",
       "      <th>250</th>\n",
       "      <td>my0bmPD5dgDFE1ia__LNlw</td>\n",
       "      <td>Nails &amp; Beauty Lounge</td>\n",
       "      <td>953 E Brandon Blvd</td>\n",
       "      <td>Brandon</td>\n",
       "      <td>IN</td>\n",
       "      <td>33511</td>\n",
       "      <td>27.937166</td>\n",
       "      <td>-82.269959</td>\n",
       "      <td>3.5</td>\n",
       "      <td>84</td>\n",
       "      <td>...</td>\n",
       "      <td>NaN</td>\n",
       "      <td>NaN</td>\n",
       "      <td>NaN</td>\n",
       "      <td>NaN</td>\n",
       "      <td>NaN</td>\n",
       "      <td>NaN</td>\n",
       "      <td>NaN</td>\n",
       "      <td>NaN</td>\n",
       "      <td>NaN</td>\n",
       "      <td>NaN</td>\n",
       "    </tr>\n",
       "    <tr>\n",
       "      <th>294</th>\n",
       "      <td>CLEWowfkj-wKYJlQDqT1aw</td>\n",
       "      <td>Blow Bar Express Styling Salon</td>\n",
       "      <td>310 S Dale Mabry Hwy, Ste 110</td>\n",
       "      <td>Tampa</td>\n",
       "      <td>TN</td>\n",
       "      <td>33609</td>\n",
       "      <td>27.941975</td>\n",
       "      <td>-82.505307</td>\n",
       "      <td>4.0</td>\n",
       "      <td>55</td>\n",
       "      <td>...</td>\n",
       "      <td>NaN</td>\n",
       "      <td>NaN</td>\n",
       "      <td>NaN</td>\n",
       "      <td>NaN</td>\n",
       "      <td>NaN</td>\n",
       "      <td>NaN</td>\n",
       "      <td>NaN</td>\n",
       "      <td>NaN</td>\n",
       "      <td>NaN</td>\n",
       "      <td>NaN</td>\n",
       "    </tr>\n",
       "  </tbody>\n",
       "</table>\n",
       "<p>3 rows × 28 columns</p>\n",
       "</div>"
      ],
      "text/plain": [
       "                business_id                            name  \\\n",
       "74   9Rww8yE6Dm4dSMEq09nwXg               Holly Nails & Spa   \n",
       "250  my0bmPD5dgDFE1ia__LNlw           Nails & Beauty Lounge   \n",
       "294  CLEWowfkj-wKYJlQDqT1aw  Blow Bar Express Styling Salon   \n",
       "\n",
       "                           address           city state postal_code  \\\n",
       "74                 9101 Belcher Rd  Pinellas Park    TN       33782   \n",
       "250             953 E Brandon Blvd        Brandon    IN       33511   \n",
       "294  310 S Dale Mabry Hwy, Ste 110          Tampa    TN       33609   \n",
       "\n",
       "      latitude  longitude  stars  review_count  ...  state.1 postal_code.1  \\\n",
       "74   27.855347 -82.736308    4.5            16  ...      NaN           NaN   \n",
       "250  27.937166 -82.269959    3.5            84  ...      NaN           NaN   \n",
       "294  27.941975 -82.505307    4.0            55  ...      NaN           NaN   \n",
       "\n",
       "    latitude.1 longitude.1 stars.1 review_count.1 is_open.1 attributes.1  \\\n",
       "74         NaN         NaN     NaN            NaN       NaN          NaN   \n",
       "250        NaN         NaN     NaN            NaN       NaN          NaN   \n",
       "294        NaN         NaN     NaN            NaN       NaN          NaN   \n",
       "\n",
       "    categories.1 hours.1  \n",
       "74           NaN     NaN  \n",
       "250          NaN     NaN  \n",
       "294          NaN     NaN  \n",
       "\n",
       "[3 rows x 28 columns]"
      ]
     },
     "execution_count": 10,
     "metadata": {},
     "output_type": "execute_result"
    }
   ],
   "source": [
    "dfBusinessYelp.head(3)"
   ]
  },
  {
   "cell_type": "markdown",
   "metadata": {},
   "source": [
    "#### Limpieza y Normalizacion"
   ]
  },
  {
   "cell_type": "code",
   "execution_count": 11,
   "metadata": {},
   "outputs": [],
   "source": [
    "columnas_a_eliminar = ['is_open', 'categories','state', 'attributes', \n",
    "       'business_id.1', 'name.1', 'address.1', 'city.1', 'state.1', \n",
    "       'postal_code.1', 'latitude.1', 'longitude.1', 'stars.1', 'review_count.1',\n",
    "        'is_open.1', 'attributes.1', 'categories.1', 'hours.1']\n",
    "\n",
    "# Eliminar las columnas especificadas\n",
    "dfBusinessYelp = dfBusinessYelp.drop(columnas_a_eliminar, axis=1)"
   ]
  },
  {
   "cell_type": "markdown",
   "metadata": {},
   "source": [
    "Como mencionamos en el conteo de nulos eliminamos columnas con demasiados valores vacios que no nos ayudaran para realizar un buen analisis.\n",
    "Las columnas'is_open','address', 'name' ya tenemos los valores y se filtro de manera correcta asi que seria redundante tener esas columnnas.\n",
    "Con respecto a la columna 'state' tiene valores que no corresponde con la latitud y longitud en el mapa, asi que mejor es no contar con esa columna."
   ]
  },
  {
   "cell_type": "code",
   "execution_count": 12,
   "metadata": {},
   "outputs": [],
   "source": [
    "# Define una función para obtener el estado desde la latitud y longitud\n",
    "def reverse_geocode(lat, lon):\n",
    "    # Aquí va tu código para obtener el estado desde la latitud y longitud\n",
    "    url = f\"https://nominatim.openstreetmap.org/reverse?format=json&lat={lat}&lon={lon}\"\n",
    "    response = requests.get(url)\n",
    "    data = response.json()\n",
    "    if 'address' in data:\n",
    "        state = data['address'].get('state', '')\n",
    "        return state\n",
    "\n",
    "# Aplica la función a cada fila del DataFrame y crea una lista de resultados\n",
    "states = [reverse_geocode(row['latitude'], row['longitude']) for _, row in dfBusinessYelp.iterrows()]\n",
    "\n",
    "# Asigna la lista de estados a la columna 'state' del DataFrame\n",
    "dfBusinessYelp['state'] = states"
   ]
  },
  {
   "cell_type": "markdown",
   "metadata": {},
   "source": [
    "Usando la API OpenStreetMap (OSM) se realizo una geocodificacion inversa que me devuelve los diferentes estados('state') basado en las columnas 'latitude' y 'longitude' "
   ]
  },
  {
   "cell_type": "code",
   "execution_count": 13,
   "metadata": {},
   "outputs": [
    {
     "data": {
      "text/plain": [
       "state\n",
       "Pennsylvania    0.249946\n",
       "Florida         0.189786\n",
       "New Jersey      0.075958\n",
       "Indiana         0.072495\n",
       "Tennessee       0.070548\n",
       "Missouri        0.066436\n",
       "Arizona         0.062108\n",
       "Louisiana       0.058429\n",
       "Nevada          0.040467\n",
       "Alberta         0.032244\n",
       "Idaho           0.028998\n",
       "Delaware        0.019693\n",
       "California      0.017961\n",
       "Illinois        0.014932\n",
       "Name: proportion, dtype: float64"
      ]
     },
     "execution_count": 13,
     "metadata": {},
     "output_type": "execute_result"
    }
   ],
   "source": [
    "dfBusinessYelp['state'].value_counts(10)"
   ]
  },
  {
   "cell_type": "markdown",
   "metadata": {},
   "source": [
    "Vemos que estado tienes mas establecimientos"
   ]
  },
  {
   "cell_type": "code",
   "execution_count": 14,
   "metadata": {},
   "outputs": [],
   "source": [
    "# Aplicamos el filtro con referencia en la columna 'name'\n",
    "dfBusinessYelp = dfBusinessYelp[dfBusinessYelp['state'] == 'Florida']"
   ]
  },
  {
   "cell_type": "markdown",
   "metadata": {},
   "source": [
    "Delimitamos los datos a un solo estado 'Florida'"
   ]
  },
  {
   "cell_type": "code",
   "execution_count": 15,
   "metadata": {},
   "outputs": [],
   "source": [
    "dfBusinessYelp = dfBusinessYelp.drop('state', axis=1)"
   ]
  },
  {
   "cell_type": "markdown",
   "metadata": {},
   "source": [
    "Borramos el estado 'Florida' debido que todos los salones de uña 'Nail Salon' pertenecen al mismo estado"
   ]
  },
  {
   "cell_type": "code",
   "execution_count": 16,
   "metadata": {},
   "outputs": [
    {
     "data": {
      "text/html": [
       "<div>\n",
       "<style scoped>\n",
       "    .dataframe tbody tr th:only-of-type {\n",
       "        vertical-align: middle;\n",
       "    }\n",
       "\n",
       "    .dataframe tbody tr th {\n",
       "        vertical-align: top;\n",
       "    }\n",
       "\n",
       "    .dataframe thead th {\n",
       "        text-align: right;\n",
       "    }\n",
       "</style>\n",
       "<table border=\"1\" class=\"dataframe\">\n",
       "  <thead>\n",
       "    <tr style=\"text-align: right;\">\n",
       "      <th></th>\n",
       "      <th>business_id</th>\n",
       "      <th>name</th>\n",
       "      <th>address</th>\n",
       "      <th>city</th>\n",
       "      <th>postal_code</th>\n",
       "      <th>latitude</th>\n",
       "      <th>longitude</th>\n",
       "      <th>stars</th>\n",
       "      <th>review_count</th>\n",
       "      <th>hours</th>\n",
       "    </tr>\n",
       "  </thead>\n",
       "  <tbody>\n",
       "    <tr>\n",
       "      <th>74</th>\n",
       "      <td>9Rww8yE6Dm4dSMEq09nwXg</td>\n",
       "      <td>Holly Nails &amp; Spa</td>\n",
       "      <td>9101 Belcher Rd</td>\n",
       "      <td>Pinellas Park</td>\n",
       "      <td>33782</td>\n",
       "      <td>27.855347</td>\n",
       "      <td>-82.736308</td>\n",
       "      <td>4.5</td>\n",
       "      <td>16</td>\n",
       "      <td>{'Tuesday': '9:30-19:0', 'Wednesday': '9:30-19...</td>\n",
       "    </tr>\n",
       "    <tr>\n",
       "      <th>250</th>\n",
       "      <td>my0bmPD5dgDFE1ia__LNlw</td>\n",
       "      <td>Nails &amp; Beauty Lounge</td>\n",
       "      <td>953 E Brandon Blvd</td>\n",
       "      <td>Brandon</td>\n",
       "      <td>33511</td>\n",
       "      <td>27.937166</td>\n",
       "      <td>-82.269959</td>\n",
       "      <td>3.5</td>\n",
       "      <td>84</td>\n",
       "      <td>{'Monday': '9:30-19:0', 'Wednesday': '9:30-19:...</td>\n",
       "    </tr>\n",
       "  </tbody>\n",
       "</table>\n",
       "</div>"
      ],
      "text/plain": [
       "                business_id                   name             address  \\\n",
       "74   9Rww8yE6Dm4dSMEq09nwXg      Holly Nails & Spa     9101 Belcher Rd   \n",
       "250  my0bmPD5dgDFE1ia__LNlw  Nails & Beauty Lounge  953 E Brandon Blvd   \n",
       "\n",
       "              city postal_code   latitude  longitude  stars  review_count  \\\n",
       "74   Pinellas Park       33782  27.855347 -82.736308    4.5            16   \n",
       "250        Brandon       33511  27.937166 -82.269959    3.5            84   \n",
       "\n",
       "                                                 hours  \n",
       "74   {'Tuesday': '9:30-19:0', 'Wednesday': '9:30-19...  \n",
       "250  {'Monday': '9:30-19:0', 'Wednesday': '9:30-19:...  "
      ]
     },
     "execution_count": 16,
     "metadata": {},
     "output_type": "execute_result"
    }
   ],
   "source": [
    "dfBusinessYelp.head(2)"
   ]
  },
  {
   "cell_type": "code",
   "execution_count": 17,
   "metadata": {},
   "outputs": [],
   "source": [
    "#nuevo_orden_columnas = ['business_id','name', 'address', 'city', 'postal_code', 'latitude', 'longitude', 'stars', 'review_count','hours','source']\n",
    "\n",
    "#dfBusinessYelp = dfBusinessYelp[nuevo_orden_columnas]"
   ]
  },
  {
   "cell_type": "markdown",
   "metadata": {},
   "source": [
    "Reorganizamos la columnas para tener un mismo orden con la tabla de Google"
   ]
  },
  {
   "cell_type": "code",
   "execution_count": 18,
   "metadata": {},
   "outputs": [],
   "source": [
    "# Se creó la columna 'source' con un valor unico 'Y' \n",
    "dfBusinessYelp['source']='Y'"
   ]
  },
  {
   "cell_type": "markdown",
   "metadata": {},
   "source": [
    "Se creo la colummna 'source' para identificar la tabla que pertenecen a los datos obtenidos de las tablas Yelp"
   ]
  },
  {
   "cell_type": "code",
   "execution_count": 19,
   "metadata": {},
   "outputs": [
    {
     "data": {
      "text/html": [
       "<div>\n",
       "<style scoped>\n",
       "    .dataframe tbody tr th:only-of-type {\n",
       "        vertical-align: middle;\n",
       "    }\n",
       "\n",
       "    .dataframe tbody tr th {\n",
       "        vertical-align: top;\n",
       "    }\n",
       "\n",
       "    .dataframe thead th {\n",
       "        text-align: right;\n",
       "    }\n",
       "</style>\n",
       "<table border=\"1\" class=\"dataframe\">\n",
       "  <thead>\n",
       "    <tr style=\"text-align: right;\">\n",
       "      <th></th>\n",
       "      <th>business_id</th>\n",
       "      <th>name</th>\n",
       "      <th>address</th>\n",
       "      <th>city</th>\n",
       "      <th>postal_code</th>\n",
       "      <th>latitude</th>\n",
       "      <th>longitude</th>\n",
       "      <th>stars</th>\n",
       "      <th>review_count</th>\n",
       "      <th>hours</th>\n",
       "      <th>source</th>\n",
       "    </tr>\n",
       "  </thead>\n",
       "  <tbody>\n",
       "    <tr>\n",
       "      <th>74</th>\n",
       "      <td>9Rww8yE6Dm4dSMEq09nwXg</td>\n",
       "      <td>Holly Nails &amp; Spa</td>\n",
       "      <td>9101 Belcher Rd</td>\n",
       "      <td>Pinellas Park</td>\n",
       "      <td>33782</td>\n",
       "      <td>27.855347</td>\n",
       "      <td>-82.736308</td>\n",
       "      <td>4.5</td>\n",
       "      <td>16</td>\n",
       "      <td>{'Tuesday': '9:30-19:0', 'Wednesday': '9:30-19...</td>\n",
       "      <td>Y</td>\n",
       "    </tr>\n",
       "    <tr>\n",
       "      <th>250</th>\n",
       "      <td>my0bmPD5dgDFE1ia__LNlw</td>\n",
       "      <td>Nails &amp; Beauty Lounge</td>\n",
       "      <td>953 E Brandon Blvd</td>\n",
       "      <td>Brandon</td>\n",
       "      <td>33511</td>\n",
       "      <td>27.937166</td>\n",
       "      <td>-82.269959</td>\n",
       "      <td>3.5</td>\n",
       "      <td>84</td>\n",
       "      <td>{'Monday': '9:30-19:0', 'Wednesday': '9:30-19:...</td>\n",
       "      <td>Y</td>\n",
       "    </tr>\n",
       "    <tr>\n",
       "      <th>294</th>\n",
       "      <td>CLEWowfkj-wKYJlQDqT1aw</td>\n",
       "      <td>Blow Bar Express Styling Salon</td>\n",
       "      <td>310 S Dale Mabry Hwy, Ste 110</td>\n",
       "      <td>Tampa</td>\n",
       "      <td>33609</td>\n",
       "      <td>27.941975</td>\n",
       "      <td>-82.505307</td>\n",
       "      <td>4.0</td>\n",
       "      <td>55</td>\n",
       "      <td>{'Monday': '0:0-0:0', 'Tuesday': '8:0-16:0', '...</td>\n",
       "      <td>Y</td>\n",
       "    </tr>\n",
       "    <tr>\n",
       "      <th>362</th>\n",
       "      <td>gbetDRjllP5cOxaWxFjGHA</td>\n",
       "      <td>Pretty Nails</td>\n",
       "      <td>5316 Little Rd</td>\n",
       "      <td>New Port Richey</td>\n",
       "      <td>34655</td>\n",
       "      <td>28.237112</td>\n",
       "      <td>-82.668024</td>\n",
       "      <td>3.0</td>\n",
       "      <td>6</td>\n",
       "      <td>NaN</td>\n",
       "      <td>Y</td>\n",
       "    </tr>\n",
       "    <tr>\n",
       "      <th>630</th>\n",
       "      <td>FYzZd2mlMIPScy95UY2xkw</td>\n",
       "      <td>McMahan Hair Salon</td>\n",
       "      <td>10464 Roosevelt Blvd N</td>\n",
       "      <td>St. Petersburg</td>\n",
       "      <td>33716</td>\n",
       "      <td>27.866938</td>\n",
       "      <td>-82.645031</td>\n",
       "      <td>4.0</td>\n",
       "      <td>11</td>\n",
       "      <td>{'Monday': '0:0-0:0', 'Tuesday': '9:0-20:0', '...</td>\n",
       "      <td>Y</td>\n",
       "    </tr>\n",
       "  </tbody>\n",
       "</table>\n",
       "</div>"
      ],
      "text/plain": [
       "                business_id                            name  \\\n",
       "74   9Rww8yE6Dm4dSMEq09nwXg               Holly Nails & Spa   \n",
       "250  my0bmPD5dgDFE1ia__LNlw           Nails & Beauty Lounge   \n",
       "294  CLEWowfkj-wKYJlQDqT1aw  Blow Bar Express Styling Salon   \n",
       "362  gbetDRjllP5cOxaWxFjGHA                    Pretty Nails   \n",
       "630  FYzZd2mlMIPScy95UY2xkw              McMahan Hair Salon   \n",
       "\n",
       "                           address             city postal_code   latitude  \\\n",
       "74                 9101 Belcher Rd    Pinellas Park       33782  27.855347   \n",
       "250             953 E Brandon Blvd          Brandon       33511  27.937166   \n",
       "294  310 S Dale Mabry Hwy, Ste 110            Tampa       33609  27.941975   \n",
       "362                 5316 Little Rd  New Port Richey       34655  28.237112   \n",
       "630         10464 Roosevelt Blvd N   St. Petersburg       33716  27.866938   \n",
       "\n",
       "     longitude  stars  review_count  \\\n",
       "74  -82.736308    4.5            16   \n",
       "250 -82.269959    3.5            84   \n",
       "294 -82.505307    4.0            55   \n",
       "362 -82.668024    3.0             6   \n",
       "630 -82.645031    4.0            11   \n",
       "\n",
       "                                                 hours source  \n",
       "74   {'Tuesday': '9:30-19:0', 'Wednesday': '9:30-19...      Y  \n",
       "250  {'Monday': '9:30-19:0', 'Wednesday': '9:30-19:...      Y  \n",
       "294  {'Monday': '0:0-0:0', 'Tuesday': '8:0-16:0', '...      Y  \n",
       "362                                                NaN      Y  \n",
       "630  {'Monday': '0:0-0:0', 'Tuesday': '9:0-20:0', '...      Y  "
      ]
     },
     "execution_count": 19,
     "metadata": {},
     "output_type": "execute_result"
    }
   ],
   "source": [
    "dfBusinessYelp.head()"
   ]
  },
  {
   "cell_type": "markdown",
   "metadata": {},
   "source": [
    "## 3.2 Dataset Reviews Yelp"
   ]
  },
  {
   "cell_type": "markdown",
   "metadata": {},
   "source": [
    "### 3.2.1. Exploración inicial de los datos"
   ]
  },
  {
   "cell_type": "code",
   "execution_count": 20,
   "metadata": {},
   "outputs": [
    {
     "data": {
      "text/html": [
       "<div>\n",
       "<style scoped>\n",
       "    .dataframe tbody tr th:only-of-type {\n",
       "        vertical-align: middle;\n",
       "    }\n",
       "\n",
       "    .dataframe tbody tr th {\n",
       "        vertical-align: top;\n",
       "    }\n",
       "\n",
       "    .dataframe thead th {\n",
       "        text-align: right;\n",
       "    }\n",
       "</style>\n",
       "<table border=\"1\" class=\"dataframe\">\n",
       "  <thead>\n",
       "    <tr style=\"text-align: right;\">\n",
       "      <th></th>\n",
       "      <th>review_id</th>\n",
       "      <th>user_id</th>\n",
       "      <th>business_id</th>\n",
       "      <th>stars</th>\n",
       "      <th>useful</th>\n",
       "      <th>funny</th>\n",
       "      <th>cool</th>\n",
       "      <th>text</th>\n",
       "      <th>date</th>\n",
       "      <th>year</th>\n",
       "    </tr>\n",
       "  </thead>\n",
       "  <tbody>\n",
       "    <tr>\n",
       "      <th>0</th>\n",
       "      <td>KU_O5udG6zpxOg-VcAEodg</td>\n",
       "      <td>mh_-eMZ6K5RLWhZyISBhwA</td>\n",
       "      <td>XQfwVwDr-v0ZS3_CbbE5Xw</td>\n",
       "      <td>3</td>\n",
       "      <td>0</td>\n",
       "      <td>0</td>\n",
       "      <td>0</td>\n",
       "      <td>If you decide to eat here, just be aware it is...</td>\n",
       "      <td>2018-07-07 22:09:11</td>\n",
       "      <td>2018</td>\n",
       "    </tr>\n",
       "    <tr>\n",
       "      <th>1</th>\n",
       "      <td>lUUhg8ltDsUZ9h0xnwY4Dg</td>\n",
       "      <td>RreNy--tOmXMl1en0wiBOg</td>\n",
       "      <td>cPepkJeRMtHapc_b2Oe_dw</td>\n",
       "      <td>4</td>\n",
       "      <td>1</td>\n",
       "      <td>0</td>\n",
       "      <td>1</td>\n",
       "      <td>I was really between 3 and 4 stars for this on...</td>\n",
       "      <td>2018-07-17 03:30:07</td>\n",
       "      <td>2018</td>\n",
       "    </tr>\n",
       "    <tr>\n",
       "      <th>2</th>\n",
       "      <td>JBWZmBy69VMggxj3eYn17Q</td>\n",
       "      <td>aFa96pz67TwOFu4Weq5Agg</td>\n",
       "      <td>kq5Ghhh14r-eCxlVmlyd8w</td>\n",
       "      <td>5</td>\n",
       "      <td>0</td>\n",
       "      <td>0</td>\n",
       "      <td>0</td>\n",
       "      <td>My boyfriend and I tried this deli for the fir...</td>\n",
       "      <td>2018-08-23 21:39:38</td>\n",
       "      <td>2018</td>\n",
       "    </tr>\n",
       "    <tr>\n",
       "      <th>3</th>\n",
       "      <td>E9AB7V4z8xrt2uPF7T55FQ</td>\n",
       "      <td>iYY5Ii1LGpZCpXFkHlMefw</td>\n",
       "      <td>Zx7n8mdt8OzLRXVzolXNhQ</td>\n",
       "      <td>5</td>\n",
       "      <td>0</td>\n",
       "      <td>0</td>\n",
       "      <td>0</td>\n",
       "      <td>Amazing biscuits and (fill in the blank). Grea...</td>\n",
       "      <td>2018-04-27 23:03:21</td>\n",
       "      <td>2018</td>\n",
       "    </tr>\n",
       "    <tr>\n",
       "      <th>4</th>\n",
       "      <td>A4n4YaE-owOVgTQcrVqHUw</td>\n",
       "      <td>S7bjj-L07JuRr-tpX1UZLw</td>\n",
       "      <td>I6L0Zxi5Ww0zEWSAVgngeQ</td>\n",
       "      <td>4</td>\n",
       "      <td>0</td>\n",
       "      <td>0</td>\n",
       "      <td>0</td>\n",
       "      <td>The cafe was extremely cute. We came at 8am an...</td>\n",
       "      <td>2018-07-07 20:50:12</td>\n",
       "      <td>2018</td>\n",
       "    </tr>\n",
       "  </tbody>\n",
       "</table>\n",
       "</div>"
      ],
      "text/plain": [
       "                review_id                 user_id             business_id  \\\n",
       "0  KU_O5udG6zpxOg-VcAEodg  mh_-eMZ6K5RLWhZyISBhwA  XQfwVwDr-v0ZS3_CbbE5Xw   \n",
       "1  lUUhg8ltDsUZ9h0xnwY4Dg  RreNy--tOmXMl1en0wiBOg  cPepkJeRMtHapc_b2Oe_dw   \n",
       "2  JBWZmBy69VMggxj3eYn17Q  aFa96pz67TwOFu4Weq5Agg  kq5Ghhh14r-eCxlVmlyd8w   \n",
       "3  E9AB7V4z8xrt2uPF7T55FQ  iYY5Ii1LGpZCpXFkHlMefw  Zx7n8mdt8OzLRXVzolXNhQ   \n",
       "4  A4n4YaE-owOVgTQcrVqHUw  S7bjj-L07JuRr-tpX1UZLw  I6L0Zxi5Ww0zEWSAVgngeQ   \n",
       "\n",
       "   stars  useful  funny  cool  \\\n",
       "0      3       0      0     0   \n",
       "1      4       1      0     1   \n",
       "2      5       0      0     0   \n",
       "3      5       0      0     0   \n",
       "4      4       0      0     0   \n",
       "\n",
       "                                                text                 date  \\\n",
       "0  If you decide to eat here, just be aware it is...  2018-07-07 22:09:11   \n",
       "1  I was really between 3 and 4 stars for this on...  2018-07-17 03:30:07   \n",
       "2  My boyfriend and I tried this deli for the fir...  2018-08-23 21:39:38   \n",
       "3  Amazing biscuits and (fill in the blank). Grea...  2018-04-27 23:03:21   \n",
       "4  The cafe was extremely cute. We came at 8am an...  2018-07-07 20:50:12   \n",
       "\n",
       "   year  \n",
       "0  2018  \n",
       "1  2018  \n",
       "2  2018  \n",
       "3  2018  \n",
       "4  2018  "
      ]
     },
     "execution_count": 20,
     "metadata": {},
     "output_type": "execute_result"
    }
   ],
   "source": [
    "#Vizualizo las primeras filas del DataFrame\n",
    "dfReviewYelp.head()"
   ]
  },
  {
   "cell_type": "code",
   "execution_count": 21,
   "metadata": {},
   "outputs": [
    {
     "name": "stdout",
     "output_type": "stream",
     "text": [
      "<class 'pandas.core.frame.DataFrame'>\n",
      "RangeIndex: 3018057 entries, 0 to 3018056\n",
      "Data columns (total 10 columns):\n",
      " #   Column       Dtype \n",
      "---  ------       ----- \n",
      " 0   review_id    object\n",
      " 1   user_id      object\n",
      " 2   business_id  object\n",
      " 3   stars        int64 \n",
      " 4   useful       int64 \n",
      " 5   funny        int64 \n",
      " 6   cool         int64 \n",
      " 7   text         object\n",
      " 8   date         object\n",
      " 9   year         int64 \n",
      "dtypes: int64(5), object(5)\n",
      "memory usage: 230.3+ MB\n"
     ]
    }
   ],
   "source": [
    "dfReviewYelp.info()"
   ]
  },
  {
   "cell_type": "code",
   "execution_count": 22,
   "metadata": {},
   "outputs": [
    {
     "name": "stdout",
     "output_type": "stream",
     "text": [
      "review_id      0\n",
      "user_id        0\n",
      "business_id    0\n",
      "stars          0\n",
      "useful         0\n",
      "funny          0\n",
      "cool           0\n",
      "text           0\n",
      "date           0\n",
      "year           0\n",
      "dtype: int64\n"
     ]
    }
   ],
   "source": [
    "# Contar filas vacías por columna\n",
    "filas_vacias_por_columna = dfReviewYelp.isnull().sum()\n",
    "print(filas_vacias_por_columna)"
   ]
  },
  {
   "cell_type": "markdown",
   "metadata": {},
   "source": [
    "Como observamos no tenemos valores nulos"
   ]
  },
  {
   "cell_type": "code",
   "execution_count": 23,
   "metadata": {},
   "outputs": [
    {
     "name": "stdout",
     "output_type": "stream",
     "text": [
      "Filas duplicadas en el DataFrame: 0\n"
     ]
    }
   ],
   "source": [
    "# Contar la cantidad de duplicados del DataFrame\n",
    "filas_duplicadas = dfReviewYelp.duplicated().sum()\n",
    "print(\"Filas duplicadas en el DataFrame:\", filas_duplicadas)"
   ]
  },
  {
   "cell_type": "markdown",
   "metadata": {},
   "source": [
    "Como observamos no tenemos filas duplicadas"
   ]
  },
  {
   "cell_type": "markdown",
   "metadata": {},
   "source": [
    "### 3.2.2. Limpieza y Normalización de datos"
   ]
  },
  {
   "cell_type": "markdown",
   "metadata": {},
   "source": [
    "Filtrado de datos"
   ]
  },
  {
   "cell_type": "code",
   "execution_count": 24,
   "metadata": {},
   "outputs": [],
   "source": [
    "# Obtener los id únicos del DataFrame dfbusinessYelp\n",
    "business_ids_to_keep = dfBusinessYelp['business_id'].unique()\n",
    "\n",
    "\n",
    "# Friltamos el dfreviewYelp basado en los balores unico de lao id de dfbusinessYelp\n",
    "dfReviewYelp = dfReviewYelp[dfReviewYelp['business_id'].isin(business_ids_to_keep)]\n",
    "\n",
    "# El conjunto de datos se filtró por la fecha desde el inicio del 2016 hasta finalizar el 2021.\n",
    "#dfreviewYelp = dfreviewYelp[(dfreviewYelp['date'] >= '2016-01-01') & (dfreviewYelp['date'] >= '2021-12-31')]"
   ]
  },
  {
   "cell_type": "markdown",
   "metadata": {},
   "source": [
    "Aplicamos un filtro solo para quedarnos con los valores que coincidan con el id del negocio"
   ]
  },
  {
   "cell_type": "markdown",
   "metadata": {},
   "source": [
    "#### Limpieza y Normalizacion"
   ]
  },
  {
   "cell_type": "code",
   "execution_count": 25,
   "metadata": {},
   "outputs": [],
   "source": [
    "# Convertir la columna 'date' a tipo datetime\n",
    "dfReviewYelp['date'] = pd.to_datetime(dfReviewYelp['date'])"
   ]
  },
  {
   "cell_type": "code",
   "execution_count": 26,
   "metadata": {},
   "outputs": [],
   "source": [
    "columnas_a_eliminar = ['review_id', 'useful', 'funny', 'cool']\n",
    "\n",
    "# Eliminar las columnas especificadas\n",
    "dfReviewYelp = dfReviewYelp.drop(columnas_a_eliminar, axis=1)"
   ]
  },
  {
   "cell_type": "markdown",
   "metadata": {},
   "source": [
    "Elinamos las siguientes columnas 'useful', 'funny', 'cool' debido que no tiene una guia o rango que me diga si esta bien o no, 'date' lo dividimos en años , mes, dia asi que no lo necesitamos"
   ]
  },
  {
   "cell_type": "code",
   "execution_count": 27,
   "metadata": {},
   "outputs": [],
   "source": [
    "# Aplicar la limpieza de texto directamente sobre la columna 'text'\n",
    "dfReviewYelp['text'] = dfReviewYelp['text'].str.lower().str.replace(r'[^a-z0-9\\s]', '')"
   ]
  },
  {
   "cell_type": "markdown",
   "metadata": {},
   "source": [
    "Convertimos todo los valores de la columna 'text' a minuscula para guiarnos mejor"
   ]
  },
  {
   "cell_type": "code",
   "execution_count": 28,
   "metadata": {},
   "outputs": [],
   "source": [
    "# Modificamos el tipo de dato a un valor flotante\n",
    "dfReviewYelp['stars'] = dfReviewYelp['stars'].astype('float64')"
   ]
  },
  {
   "cell_type": "markdown",
   "metadata": {},
   "source": [
    "Transforme la columna 'stars' para tener similitud del tipo de dato con otra tabla"
   ]
  },
  {
   "cell_type": "code",
   "execution_count": 29,
   "metadata": {},
   "outputs": [],
   "source": [
    "# Se añade la columna 'source', con valor unico 'Y'\n",
    "dfReviewYelp['source']='Y'"
   ]
  },
  {
   "cell_type": "markdown",
   "metadata": {},
   "source": [
    "Se añade la columna 'source' y se usa 'Y' para indicar que los datos provienen del conjunto de datos de Yelp."
   ]
  },
  {
   "cell_type": "code",
   "execution_count": 30,
   "metadata": {},
   "outputs": [],
   "source": [
    "dfReviewYelp = dfReviewYelp.rename(columns={'stars' : 'review_stars'})"
   ]
  },
  {
   "cell_type": "markdown",
   "metadata": {},
   "source": [
    "Renombrom stars para indentificar a que se refiere esa calificacion"
   ]
  },
  {
   "cell_type": "code",
   "execution_count": 31,
   "metadata": {},
   "outputs": [
    {
     "data": {
      "text/html": [
       "<div>\n",
       "<style scoped>\n",
       "    .dataframe tbody tr th:only-of-type {\n",
       "        vertical-align: middle;\n",
       "    }\n",
       "\n",
       "    .dataframe tbody tr th {\n",
       "        vertical-align: top;\n",
       "    }\n",
       "\n",
       "    .dataframe thead th {\n",
       "        text-align: right;\n",
       "    }\n",
       "</style>\n",
       "<table border=\"1\" class=\"dataframe\">\n",
       "  <thead>\n",
       "    <tr style=\"text-align: right;\">\n",
       "      <th></th>\n",
       "      <th>user_id</th>\n",
       "      <th>business_id</th>\n",
       "      <th>review_stars</th>\n",
       "      <th>text</th>\n",
       "      <th>date</th>\n",
       "      <th>year</th>\n",
       "      <th>source</th>\n",
       "    </tr>\n",
       "  </thead>\n",
       "  <tbody>\n",
       "    <tr>\n",
       "      <th>51</th>\n",
       "      <td>6Mhbp06FEhD9uxUGCCUmKA</td>\n",
       "      <td>fBNjTSdPJ1mtTzIHYpQnDw</td>\n",
       "      <td>1.0</td>\n",
       "      <td>zero stars!! this place is dirty and disorgani...</td>\n",
       "      <td>2018-09-03 13:04:03</td>\n",
       "      <td>2018</td>\n",
       "      <td>Y</td>\n",
       "    </tr>\n",
       "    <tr>\n",
       "      <th>96</th>\n",
       "      <td>-FFgJuDZLmcZtrxDTRC7sg</td>\n",
       "      <td>my0bmPD5dgDFE1ia__LNlw</td>\n",
       "      <td>5.0</td>\n",
       "      <td>this is the place we have been searching for! ...</td>\n",
       "      <td>2018-08-23 22:28:46</td>\n",
       "      <td>2018</td>\n",
       "      <td>Y</td>\n",
       "    </tr>\n",
       "    <tr>\n",
       "      <th>556</th>\n",
       "      <td>g34LsuGf9gj9h5wqhye-Jw</td>\n",
       "      <td>bP8Y5cHMda64Z3tGA-cYzw</td>\n",
       "      <td>5.0</td>\n",
       "      <td>i found this place through yelp. i was attract...</td>\n",
       "      <td>2018-03-23 19:29:16</td>\n",
       "      <td>2018</td>\n",
       "      <td>Y</td>\n",
       "    </tr>\n",
       "  </tbody>\n",
       "</table>\n",
       "</div>"
      ],
      "text/plain": [
       "                    user_id             business_id  review_stars  \\\n",
       "51   6Mhbp06FEhD9uxUGCCUmKA  fBNjTSdPJ1mtTzIHYpQnDw           1.0   \n",
       "96   -FFgJuDZLmcZtrxDTRC7sg  my0bmPD5dgDFE1ia__LNlw           5.0   \n",
       "556  g34LsuGf9gj9h5wqhye-Jw  bP8Y5cHMda64Z3tGA-cYzw           5.0   \n",
       "\n",
       "                                                  text                date  \\\n",
       "51   zero stars!! this place is dirty and disorgani... 2018-09-03 13:04:03   \n",
       "96   this is the place we have been searching for! ... 2018-08-23 22:28:46   \n",
       "556  i found this place through yelp. i was attract... 2018-03-23 19:29:16   \n",
       "\n",
       "     year source  \n",
       "51   2018      Y  \n",
       "96   2018      Y  \n",
       "556  2018      Y  "
      ]
     },
     "execution_count": 31,
     "metadata": {},
     "output_type": "execute_result"
    }
   ],
   "source": [
    "dfReviewYelp.head(3)"
   ]
  },
  {
   "cell_type": "markdown",
   "metadata": {},
   "source": [
    "## 4. Union y Almacenamiento de Datos"
   ]
  },
  {
   "cell_type": "code",
   "execution_count": 32,
   "metadata": {},
   "outputs": [],
   "source": [
    "dfBusinessYelp.to_csv('DataSets/Cleaned_Business_Y.csv', index=False)\n",
    "dfReviewYelp.to_csv('DataSets/Cleaned_Review_Y.csv', index= False)"
   ]
  },
  {
   "cell_type": "code",
   "execution_count": 33,
   "metadata": {},
   "outputs": [],
   "source": [
    "# Unir las tablas por la columna 'business_id'\n",
    "df_Yelp = pd.merge(dfBusinessYelp, dfReviewYelp, on='business_id', how='inner')"
   ]
  },
  {
   "cell_type": "code",
   "execution_count": 34,
   "metadata": {},
   "outputs": [],
   "source": [
    "df_Yelp.to_csv('DataSets/Nail_Salon_Yelp.csv', index =False)"
   ]
  },
  {
   "cell_type": "code",
   "execution_count": 35,
   "metadata": {},
   "outputs": [
    {
     "name": "stdout",
     "output_type": "stream",
     "text": [
      "<class 'pandas.core.frame.DataFrame'>\n",
      "RangeIndex: 15591 entries, 0 to 15590\n",
      "Data columns (total 17 columns):\n",
      " #   Column        Non-Null Count  Dtype         \n",
      "---  ------        --------------  -----         \n",
      " 0   business_id   15591 non-null  object        \n",
      " 1   name          15591 non-null  object        \n",
      " 2   address       15568 non-null  object        \n",
      " 3   city          15591 non-null  object        \n",
      " 4   postal_code   15591 non-null  object        \n",
      " 5   latitude      15591 non-null  float64       \n",
      " 6   longitude     15591 non-null  float64       \n",
      " 7   stars         15591 non-null  float64       \n",
      " 8   review_count  15591 non-null  int64         \n",
      " 9   hours         14426 non-null  object        \n",
      " 10  source_x      15591 non-null  object        \n",
      " 11  user_id       15591 non-null  object        \n",
      " 12  review_stars  15591 non-null  float64       \n",
      " 13  text          15591 non-null  object        \n",
      " 14  date          15591 non-null  datetime64[ns]\n",
      " 15  year          15591 non-null  int64         \n",
      " 16  source_y      15591 non-null  object        \n",
      "dtypes: datetime64[ns](1), float64(4), int64(2), object(10)\n",
      "memory usage: 2.0+ MB\n"
     ]
    }
   ],
   "source": [
    "df_Yelp.info()"
   ]
  },
  {
   "cell_type": "code",
   "execution_count": null,
   "metadata": {},
   "outputs": [],
   "source": []
  }
 ],
 "metadata": {
  "kernelspec": {
   "display_name": "PF",
   "language": "python",
   "name": "python3"
  },
  "language_info": {
   "codemirror_mode": {
    "name": "ipython",
    "version": 3
   },
   "file_extension": ".py",
   "mimetype": "text/x-python",
   "name": "python",
   "nbconvert_exporter": "python",
   "pygments_lexer": "ipython3",
   "version": "3.11.8"
  }
 },
 "nbformat": 4,
 "nbformat_minor": 2
}
