{
 "cells": [
  {
   "cell_type": "code",
   "execution_count": 2,
   "metadata": {},
   "outputs": [],
   "source": [
    "import pandas as pd\n",
    "import numpy as np"
   ]
  },
  {
   "cell_type": "code",
   "execution_count": 3,
   "metadata": {},
   "outputs": [],
   "source": [
    "Business = pd.read_csv('DataSets/Cleaned_Business_Y.csv')\n",
    "Tips = pd.read_csv('DataSets/Cleaned_Tips_Y.csv')\n",
    "User = pd.read_csv('DataSets/Cleaned_User_Y.csv')\n",
    "Atributes = pd.read_csv('DataSets/ServiciosAdicionales.csv')"
   ]
  },
  {
   "cell_type": "markdown",
   "metadata": {},
   "source": [
    "# 3. Exploracion y Limpieza de Datos"
   ]
  },
  {
   "cell_type": "markdown",
   "metadata": {},
   "source": [
    "## 3.3 Dataset User "
   ]
  },
  {
   "cell_type": "markdown",
   "metadata": {},
   "source": [
    "### 3.3.1. Exploración inicial de los datos"
   ]
  },
  {
   "cell_type": "code",
   "execution_count": 4,
   "metadata": {},
   "outputs": [
    {
     "data": {
      "text/html": [
       "<div>\n",
       "<style scoped>\n",
       "    .dataframe tbody tr th:only-of-type {\n",
       "        vertical-align: middle;\n",
       "    }\n",
       "\n",
       "    .dataframe tbody tr th {\n",
       "        vertical-align: top;\n",
       "    }\n",
       "\n",
       "    .dataframe thead th {\n",
       "        text-align: right;\n",
       "    }\n",
       "</style>\n",
       "<table border=\"1\" class=\"dataframe\">\n",
       "  <thead>\n",
       "    <tr style=\"text-align: right;\">\n",
       "      <th></th>\n",
       "      <th>user_id</th>\n",
       "      <th>name</th>\n",
       "      <th>review_count</th>\n",
       "      <th>yelping_since</th>\n",
       "      <th>useful</th>\n",
       "      <th>funny</th>\n",
       "      <th>cool</th>\n",
       "      <th>elite</th>\n",
       "      <th>friends</th>\n",
       "      <th>fans</th>\n",
       "      <th>...</th>\n",
       "      <th>compliment_more</th>\n",
       "      <th>compliment_profile</th>\n",
       "      <th>compliment_cute</th>\n",
       "      <th>compliment_list</th>\n",
       "      <th>compliment_note</th>\n",
       "      <th>compliment_plain</th>\n",
       "      <th>compliment_cool</th>\n",
       "      <th>compliment_funny</th>\n",
       "      <th>compliment_writer</th>\n",
       "      <th>compliment_photos</th>\n",
       "    </tr>\n",
       "  </thead>\n",
       "  <tbody>\n",
       "    <tr>\n",
       "      <th>0</th>\n",
       "      <td>j4cmflYbwAktOxZ_iiJCOQ</td>\n",
       "      <td>Danielle</td>\n",
       "      <td>236</td>\n",
       "      <td>2009-08-09 13:37:21</td>\n",
       "      <td>1276</td>\n",
       "      <td>717</td>\n",
       "      <td>1040</td>\n",
       "      <td>2013,2014,2015,2016,2017</td>\n",
       "      <td>gXOWzDeXqGByrCPdNwdc_A, PHKZrobSgXBjvuBJrcn4hQ...</td>\n",
       "      <td>44</td>\n",
       "      <td>...</td>\n",
       "      <td>17</td>\n",
       "      <td>1</td>\n",
       "      <td>1</td>\n",
       "      <td>0</td>\n",
       "      <td>49</td>\n",
       "      <td>77</td>\n",
       "      <td>182</td>\n",
       "      <td>182</td>\n",
       "      <td>113</td>\n",
       "      <td>3</td>\n",
       "    </tr>\n",
       "    <tr>\n",
       "      <th>1</th>\n",
       "      <td>xnt4VgRYCyt1YI522IrpcA</td>\n",
       "      <td>Allison</td>\n",
       "      <td>5</td>\n",
       "      <td>2011-09-23 23:11:31</td>\n",
       "      <td>3</td>\n",
       "      <td>0</td>\n",
       "      <td>0</td>\n",
       "      <td>NaN</td>\n",
       "      <td>Vaygf_tm2au-z8rwDd7eUg, NgMzAyRiycmyyirerepXXA...</td>\n",
       "      <td>0</td>\n",
       "      <td>...</td>\n",
       "      <td>0</td>\n",
       "      <td>0</td>\n",
       "      <td>0</td>\n",
       "      <td>0</td>\n",
       "      <td>0</td>\n",
       "      <td>0</td>\n",
       "      <td>0</td>\n",
       "      <td>0</td>\n",
       "      <td>0</td>\n",
       "      <td>0</td>\n",
       "    </tr>\n",
       "    <tr>\n",
       "      <th>2</th>\n",
       "      <td>pou3BbKsIozfH50rxmnMew</td>\n",
       "      <td>Brett</td>\n",
       "      <td>2812</td>\n",
       "      <td>2012-01-11 17:19:55</td>\n",
       "      <td>22586</td>\n",
       "      <td>8950</td>\n",
       "      <td>14927</td>\n",
       "      <td>2012,2013,2014,2015,2016,2017,2018,2019,20,20,...</td>\n",
       "      <td>hrSrJhoouR6RgkaKHFKJjw, jt49xjEjQisu6wTTGn6B3A...</td>\n",
       "      <td>914</td>\n",
       "      <td>...</td>\n",
       "      <td>96</td>\n",
       "      <td>44</td>\n",
       "      <td>12</td>\n",
       "      <td>28</td>\n",
       "      <td>1131</td>\n",
       "      <td>3667</td>\n",
       "      <td>1265</td>\n",
       "      <td>1265</td>\n",
       "      <td>529</td>\n",
       "      <td>398</td>\n",
       "    </tr>\n",
       "    <tr>\n",
       "      <th>3</th>\n",
       "      <td>xUtEz47jIl-v34swwmjTZw</td>\n",
       "      <td>Tara</td>\n",
       "      <td>28</td>\n",
       "      <td>2010-06-12 21:17:34</td>\n",
       "      <td>13</td>\n",
       "      <td>1</td>\n",
       "      <td>2</td>\n",
       "      <td>NaN</td>\n",
       "      <td>d6rhc9xb-KENLU1zqQcQXQ, IdQefJPFgBLgyjSdhD_ZbQ...</td>\n",
       "      <td>2</td>\n",
       "      <td>...</td>\n",
       "      <td>0</td>\n",
       "      <td>0</td>\n",
       "      <td>0</td>\n",
       "      <td>0</td>\n",
       "      <td>0</td>\n",
       "      <td>1</td>\n",
       "      <td>0</td>\n",
       "      <td>0</td>\n",
       "      <td>0</td>\n",
       "      <td>0</td>\n",
       "    </tr>\n",
       "    <tr>\n",
       "      <th>4</th>\n",
       "      <td>3ywXGq4PyUoR_XXDvK_RIA</td>\n",
       "      <td>Toni</td>\n",
       "      <td>729</td>\n",
       "      <td>2006-06-13 03:44:01</td>\n",
       "      <td>1875</td>\n",
       "      <td>689</td>\n",
       "      <td>1268</td>\n",
       "      <td>2009,2010,2011,2012,2013,2014,2015,2016,2017,2...</td>\n",
       "      <td>rfNeBpgksHoIqsGAZdASAw, t514OybEW0bk7k4G8BuPpw...</td>\n",
       "      <td>77</td>\n",
       "      <td>...</td>\n",
       "      <td>19</td>\n",
       "      <td>5</td>\n",
       "      <td>4</td>\n",
       "      <td>1</td>\n",
       "      <td>45</td>\n",
       "      <td>69</td>\n",
       "      <td>100</td>\n",
       "      <td>100</td>\n",
       "      <td>45</td>\n",
       "      <td>23</td>\n",
       "    </tr>\n",
       "  </tbody>\n",
       "</table>\n",
       "<p>5 rows × 22 columns</p>\n",
       "</div>"
      ],
      "text/plain": [
       "                  user_id      name  review_count        yelping_since  \\\n",
       "0  j4cmflYbwAktOxZ_iiJCOQ  Danielle           236  2009-08-09 13:37:21   \n",
       "1  xnt4VgRYCyt1YI522IrpcA   Allison             5  2011-09-23 23:11:31   \n",
       "2  pou3BbKsIozfH50rxmnMew     Brett          2812  2012-01-11 17:19:55   \n",
       "3  xUtEz47jIl-v34swwmjTZw      Tara            28  2010-06-12 21:17:34   \n",
       "4  3ywXGq4PyUoR_XXDvK_RIA      Toni           729  2006-06-13 03:44:01   \n",
       "\n",
       "   useful  funny   cool                                              elite  \\\n",
       "0    1276    717   1040                           2013,2014,2015,2016,2017   \n",
       "1       3      0      0                                                NaN   \n",
       "2   22586   8950  14927  2012,2013,2014,2015,2016,2017,2018,2019,20,20,...   \n",
       "3      13      1      2                                                NaN   \n",
       "4    1875    689   1268  2009,2010,2011,2012,2013,2014,2015,2016,2017,2...   \n",
       "\n",
       "                                             friends  fans  ...  \\\n",
       "0  gXOWzDeXqGByrCPdNwdc_A, PHKZrobSgXBjvuBJrcn4hQ...    44  ...   \n",
       "1  Vaygf_tm2au-z8rwDd7eUg, NgMzAyRiycmyyirerepXXA...     0  ...   \n",
       "2  hrSrJhoouR6RgkaKHFKJjw, jt49xjEjQisu6wTTGn6B3A...   914  ...   \n",
       "3  d6rhc9xb-KENLU1zqQcQXQ, IdQefJPFgBLgyjSdhD_ZbQ...     2  ...   \n",
       "4  rfNeBpgksHoIqsGAZdASAw, t514OybEW0bk7k4G8BuPpw...    77  ...   \n",
       "\n",
       "   compliment_more  compliment_profile  compliment_cute  compliment_list  \\\n",
       "0               17                   1                1                0   \n",
       "1                0                   0                0                0   \n",
       "2               96                  44               12               28   \n",
       "3                0                   0                0                0   \n",
       "4               19                   5                4                1   \n",
       "\n",
       "   compliment_note  compliment_plain  compliment_cool  compliment_funny  \\\n",
       "0               49                77              182               182   \n",
       "1                0                 0                0                 0   \n",
       "2             1131              3667             1265              1265   \n",
       "3                0                 1                0                 0   \n",
       "4               45                69              100               100   \n",
       "\n",
       "   compliment_writer  compliment_photos  \n",
       "0                113                  3  \n",
       "1                  0                  0  \n",
       "2                529                398  \n",
       "3                  0                  0  \n",
       "4                 45                 23  \n",
       "\n",
       "[5 rows x 22 columns]"
      ]
     },
     "execution_count": 4,
     "metadata": {},
     "output_type": "execute_result"
    }
   ],
   "source": [
    "User.head(3)"
   ]
  },
  {
   "cell_type": "code",
   "execution_count": 5,
   "metadata": {},
   "outputs": [
    {
     "name": "stdout",
     "output_type": "stream",
     "text": [
      "<class 'pandas.core.frame.DataFrame'>\n",
      "RangeIndex: 12652 entries, 0 to 12651\n",
      "Data columns (total 22 columns):\n",
      " #   Column              Non-Null Count  Dtype  \n",
      "---  ------              --------------  -----  \n",
      " 0   user_id             12652 non-null  object \n",
      " 1   name                12651 non-null  object \n",
      " 2   review_count        12652 non-null  int64  \n",
      " 3   yelping_since       12652 non-null  object \n",
      " 4   useful              12652 non-null  int64  \n",
      " 5   funny               12652 non-null  int64  \n",
      " 6   cool                12652 non-null  int64  \n",
      " 7   elite               865 non-null    object \n",
      " 8   friends             7450 non-null   object \n",
      " 9   fans                12652 non-null  int64  \n",
      " 10  average_stars       12652 non-null  float64\n",
      " 11  compliment_hot      12652 non-null  int64  \n",
      " 12  compliment_more     12652 non-null  int64  \n",
      " 13  compliment_profile  12652 non-null  int64  \n",
      " 14  compliment_cute     12652 non-null  int64  \n",
      " 15  compliment_list     12652 non-null  int64  \n",
      " 16  compliment_note     12652 non-null  int64  \n",
      " 17  compliment_plain    12652 non-null  int64  \n",
      " 18  compliment_cool     12652 non-null  int64  \n",
      " 19  compliment_funny    12652 non-null  int64  \n",
      " 20  compliment_writer   12652 non-null  int64  \n",
      " 21  compliment_photos   12652 non-null  int64  \n",
      "dtypes: float64(1), int64(16), object(5)\n",
      "memory usage: 2.1+ MB\n"
     ]
    }
   ],
   "source": [
    "User.info()"
   ]
  },
  {
   "cell_type": "code",
   "execution_count": 6,
   "metadata": {},
   "outputs": [
    {
     "name": "stdout",
     "output_type": "stream",
     "text": [
      "user_id                   0\n",
      "name                      1\n",
      "review_count              0\n",
      "yelping_since             0\n",
      "useful                    0\n",
      "funny                     0\n",
      "cool                      0\n",
      "elite                 11787\n",
      "friends                5202\n",
      "fans                      0\n",
      "average_stars             0\n",
      "compliment_hot            0\n",
      "compliment_more           0\n",
      "compliment_profile        0\n",
      "compliment_cute           0\n",
      "compliment_list           0\n",
      "compliment_note           0\n",
      "compliment_plain          0\n",
      "compliment_cool           0\n",
      "compliment_funny          0\n",
      "compliment_writer         0\n",
      "compliment_photos         0\n",
      "dtype: int64\n"
     ]
    }
   ],
   "source": [
    "# Contar filas vacías por columna\n",
    "filas_vacias_por_columna = User.isnull().sum()\n",
    "print(filas_vacias_por_columna)"
   ]
  },
  {
   "cell_type": "markdown",
   "metadata": {},
   "source": [
    "Como logramos Oberservar las columnas 'elite' y 'friends' tienen muchos valores vacios"
   ]
  },
  {
   "cell_type": "code",
   "execution_count": 7,
   "metadata": {},
   "outputs": [
    {
     "name": "stdout",
     "output_type": "stream",
     "text": [
      "Filas duplicadas en el DataFrame: 0\n"
     ]
    }
   ],
   "source": [
    "# Contar la cantidad de duplicados del DataFrame\n",
    "filas_duplicadas = User.duplicated().sum()\n",
    "print(\"Filas duplicadas en el DataFrame:\", filas_duplicadas)"
   ]
  },
  {
   "cell_type": "markdown",
   "metadata": {},
   "source": [
    "La tabla no cuenta con valores duplicados"
   ]
  },
  {
   "cell_type": "markdown",
   "metadata": {},
   "source": [
    "### 3.3.2. Limpieza y Normalización de datos"
   ]
  },
  {
   "cell_type": "code",
   "execution_count": null,
   "metadata": {},
   "outputs": [],
   "source": [
    "# Obtener los id únicos del DataFrame dfbusinessYelp\n",
    "business_ids_to_keep = Review['user_id'].unique()\n",
    "\n",
    "\n",
    "# Friltamos el dfreviewYelp basado en los balores unico de lao id de dfbusinessYelp\n",
    "dfReviewYelp = User[User['user_id'].isin(business_ids_to_keep)]\n",
    "\n",
    "# El conjunto de datos se filtró por la fecha desde el inicio del 2016 hasta finalizar el 2021.\n",
    "#dfreviewYelp = dfreviewYelp[(dfreviewYelp['date'] >= '2016-01-01') & (dfreviewYelp['date'] >= '2021-12-31')]"
   ]
  },
  {
   "cell_type": "markdown",
   "metadata": {},
   "source": [
    "Aplicamos un filtro solo para quedarnos con los valores que coincidan con el id del negocio"
   ]
  },
  {
   "cell_type": "code",
   "execution_count": null,
   "metadata": {},
   "outputs": [],
   "source": [
    "#Creo la tabla Compliment\n",
    "Compliment = ['user_id', 'compliment_hot','compliment_more', 'compliment_profile',\n",
    "         'compliment_cute', 'compliment_list', 'compliment_note', \n",
    "         'compliment_plain', 'compliment_cool', 'compliment_funny', \n",
    "         'compliment_writer', 'compliment_photos']"
   ]
  },
  {
   "cell_type": "markdown",
   "metadata": {},
   "source": [
    "Creo la nueva tabla Compliment"
   ]
  },
  {
   "cell_type": "code",
   "execution_count": null,
   "metadata": {},
   "outputs": [],
   "source": [
    "#Columnas a eliminar de la tabla User\n",
    "columnas_a_eliminar = ['elite', 'friends', 'compliment_hot','compliment_more', 'compliment_profile',\n",
    "         'compliment_cute', 'compliment_list', 'compliment_note', \n",
    "         'compliment_plain', 'compliment_cool', 'compliment_funny', \n",
    "         'compliment_writer', 'compliment_photos']\n",
    "\n",
    "# Eliminar las columnas especificadas\n",
    "User = User.drop(columnas_a_eliminar, axis=1)"
   ]
  },
  {
   "cell_type": "markdown",
   "metadata": {},
   "source": [
    "Borramos columnas que tienen datos nulos y otras columnas que copiamos para normalizar y dar mejor performance a la tabla"
   ]
  },
  {
   "cell_type": "markdown",
   "metadata": {},
   "source": [
    "## 3.4 Dataset Attributes Business"
   ]
  },
  {
   "cell_type": "markdown",
   "metadata": {},
   "source": [
    "### 3.4.1. Exploración inicial de los datos"
   ]
  },
  {
   "cell_type": "code",
   "execution_count": 10,
   "metadata": {},
   "outputs": [
    {
     "data": {
      "text/html": [
       "<div>\n",
       "<style scoped>\n",
       "    .dataframe tbody tr th:only-of-type {\n",
       "        vertical-align: middle;\n",
       "    }\n",
       "\n",
       "    .dataframe tbody tr th {\n",
       "        vertical-align: top;\n",
       "    }\n",
       "\n",
       "    .dataframe thead th {\n",
       "        text-align: right;\n",
       "    }\n",
       "</style>\n",
       "<table border=\"1\" class=\"dataframe\">\n",
       "  <thead>\n",
       "    <tr style=\"text-align: right;\">\n",
       "      <th></th>\n",
       "      <th>business_id</th>\n",
       "      <th>attributes</th>\n",
       "    </tr>\n",
       "  </thead>\n",
       "  <tbody>\n",
       "    <tr>\n",
       "      <th>0</th>\n",
       "      <td>9Rww8yE6Dm4dSMEq09nwXg</td>\n",
       "      <td>{'BusinessAcceptsCreditCards': 'True', 'BikePa...</td>\n",
       "    </tr>\n",
       "    <tr>\n",
       "      <th>1</th>\n",
       "      <td>my0bmPD5dgDFE1ia__LNlw</td>\n",
       "      <td>{'ByAppointmentOnly': 'False', 'BusinessAccept...</td>\n",
       "    </tr>\n",
       "    <tr>\n",
       "      <th>2</th>\n",
       "      <td>CLEWowfkj-wKYJlQDqT1aw</td>\n",
       "      <td>{'BusinessParking': \"{'garage': False, 'street...</td>\n",
       "    </tr>\n",
       "    <tr>\n",
       "      <th>3</th>\n",
       "      <td>gbetDRjllP5cOxaWxFjGHA</td>\n",
       "      <td>NaN</td>\n",
       "    </tr>\n",
       "    <tr>\n",
       "      <th>4</th>\n",
       "      <td>FYzZd2mlMIPScy95UY2xkw</td>\n",
       "      <td>{'BikeParking': 'True', 'BusinessAcceptsCredit...</td>\n",
       "    </tr>\n",
       "  </tbody>\n",
       "</table>\n",
       "</div>"
      ],
      "text/plain": [
       "              business_id                                         attributes\n",
       "0  9Rww8yE6Dm4dSMEq09nwXg  {'BusinessAcceptsCreditCards': 'True', 'BikePa...\n",
       "1  my0bmPD5dgDFE1ia__LNlw  {'ByAppointmentOnly': 'False', 'BusinessAccept...\n",
       "2  CLEWowfkj-wKYJlQDqT1aw  {'BusinessParking': \"{'garage': False, 'street...\n",
       "3  gbetDRjllP5cOxaWxFjGHA                                                NaN\n",
       "4  FYzZd2mlMIPScy95UY2xkw  {'BikeParking': 'True', 'BusinessAcceptsCredit..."
      ]
     },
     "execution_count": 10,
     "metadata": {},
     "output_type": "execute_result"
    }
   ],
   "source": [
    "Atributes.head()"
   ]
  },
  {
   "cell_type": "code",
   "execution_count": 11,
   "metadata": {},
   "outputs": [
    {
     "name": "stdout",
     "output_type": "stream",
     "text": [
      "<class 'pandas.core.frame.DataFrame'>\n",
      "RangeIndex: 877 entries, 0 to 876\n",
      "Data columns (total 2 columns):\n",
      " #   Column       Non-Null Count  Dtype \n",
      "---  ------       --------------  ----- \n",
      " 0   business_id  877 non-null    object\n",
      " 1   attributes   839 non-null    object\n",
      "dtypes: object(2)\n",
      "memory usage: 13.8+ KB\n"
     ]
    }
   ],
   "source": [
    "Atributes.info()"
   ]
  },
  {
   "cell_type": "code",
   "execution_count": 13,
   "metadata": {},
   "outputs": [
    {
     "name": "stdout",
     "output_type": "stream",
     "text": [
      "business_id     0\n",
      "attributes     38\n",
      "dtype: int64\n"
     ]
    }
   ],
   "source": [
    "# Contar filas vacías por columna\n",
    "filas_vacias_por_columna = Atributes.isnull().sum()\n",
    "print(filas_vacias_por_columna)"
   ]
  },
  {
   "cell_type": "code",
   "execution_count": 14,
   "metadata": {},
   "outputs": [
    {
     "name": "stdout",
     "output_type": "stream",
     "text": [
      "Filas duplicadas en el DataFrame: 0\n"
     ]
    }
   ],
   "source": [
    "# Contar la cantidad de duplicados del DataFrame\n",
    "filas_duplicadas = Atributes.duplicated().sum()\n",
    "print(\"Filas duplicadas en el DataFrame:\", filas_duplicadas)"
   ]
  },
  {
   "cell_type": "markdown",
   "metadata": {},
   "source": [
    "### 3.4.2. Limpieza y Normalización de datos"
   ]
  },
  {
   "cell_type": "markdown",
   "metadata": {},
   "source": [
    "#### Normalizacion de datos"
   ]
  },
  {
   "cell_type": "code",
   "execution_count": null,
   "metadata": {},
   "outputs": [],
   "source": [
    "# Convertir la columna 'attributes' en un DataFrame separado\n",
    "Atributes = Atributes['attributes'].apply(eval).apply(pd.Series)\n",
    "\n",
    "# Agregar la columna 'business_id' de nuevo al DataFrame de atributos\n",
    "Atributes['business_id'] = Atributes['business_id']\n",
    "\n",
    "# Reorganizar las columnas para colocar 'business_id' al principio\n",
    "Atributes = Atributes[['business_id'] + list(Atributes.columns[:-1])]\n",
    "\n",
    "# Mostrar el DataFrame resultante\n",
    "print(Atributes)"
   ]
  },
  {
   "cell_type": "markdown",
   "metadata": {},
   "source": [
    "La columna attributes tienes valores en forma de diccionarios y lo desanido aplicando la funcion apply(eval) "
   ]
  },
  {
   "cell_type": "code",
   "execution_count": null,
   "metadata": {},
   "outputs": [],
   "source": [
    "columnas_a_eliminar = ['AcceptsInsurance','RestaurantsDelivery', 'GoodForMeal', 'RestaurantsAttire', \n",
    "                       'RestaurantsTableService', 'DogsAllowed', 'RestaurantsGoodForGroups', 'Music', \n",
    "                       'OutdoorSeating', 'HasTV', 'RestaurantsReservations', 'Alcohol', 'Ambience', 'HappyHour',\n",
    "                       'GoodForDancing', 'Smoking', 'NoiseLevel', 'AcceptsInsurance', 'HairSpecializesIn', \n",
    "                       'RestaurantsTakeOut']\n",
    "# Eliminar las columnas especificadas\n",
    "Atributes = Atributes.drop(columnas_a_eliminar, axis=1)"
   ]
  },
  {
   "cell_type": "markdown",
   "metadata": {},
   "source": [
    "Eliminamos Columnas que tienen valores Nulos y Vacios"
   ]
  },
  {
   "cell_type": "code",
   "execution_count": null,
   "metadata": {},
   "outputs": [],
   "source": [
    "# Remplazar los valores nan con un diccionario vacío\n",
    "Atributes['BusinessParking'].fillna('{}', inplace=True)\n",
    "\n",
    "# Convertir la columna 'BusinessParking' a un diccionario\n",
    "Atributes['BusinessParking'] = Atributes['BusinessParking'].apply(literal_eval)\n",
    "\n",
    "# Desanidar el diccionario\n",
    "CarParking = pd.json_normalize(Atributes['BusinessParking'])"
   ]
  },
  {
   "cell_type": "markdown",
   "metadata": {},
   "source": [
    "Desanido la columna BusinessParking"
   ]
  },
  {
   "cell_type": "code",
   "execution_count": null,
   "metadata": {},
   "outputs": [],
   "source": [
    "# Verificar si al menos una de las columnas tiene True en cada fila\n",
    "CarParking['Parking'] = CarParking[['garage', 'street', 'validated', 'lot', 'valet']].any(axis=1)\n",
    "\n",
    "# Reemplazar los valores True y False con 'Yes' y 'No' en la columna 'Parking'\n",
    "CarParking['Parking'] = CarParking['Parking'].replace({True: 1, False: 0})"
   ]
  },
  {
   "cell_type": "markdown",
   "metadata": {},
   "source": [
    "Borro y reemplazo valores "
   ]
  },
  {
   "cell_type": "code",
   "execution_count": null,
   "metadata": {},
   "outputs": [],
   "source": [
    "# Combinar la tabla parking con la tabla Attributes\n",
    "Attributes = Atributes.merge(CarParking, left_index=True, right_index=True)"
   ]
  },
  {
   "cell_type": "markdown",
   "metadata": {},
   "source": [
    "Uno con la tabla Atributes"
   ]
  },
  {
   "cell_type": "code",
   "execution_count": null,
   "metadata": {},
   "outputs": [],
   "source": [
    "# Eliminar la columna 'BusinessParking' de la tabla Attributes\n",
    "Attributes = Attributes.drop('BusinessParking', axis=1)"
   ]
  },
  {
   "cell_type": "code",
   "execution_count": null,
   "metadata": {},
   "outputs": [],
   "source": [
    "def normalize_wifi(value):\n",
    "    if value in [\"u'free'\", \"'free'\"]:\n",
    "        return True\n",
    "    else:\n",
    "        return False\n",
    "\n",
    "# Aplicar la función a la columna 'WiFi'\n",
    "Attributes['WiFi'] = Attributes['WiFi'].apply(normalize_wifi)"
   ]
  },
  {
   "cell_type": "code",
   "execution_count": null,
   "metadata": {},
   "outputs": [],
   "source": [
    "# Crear un diccionario de mapeo\n",
    "mapping = {2.0: True, 1.0: True, 3.0: True, 4.0: True}\n",
    "\n",
    "# Mapear los valores y convertir a booleanos\n",
    "Attributes['RestaurantsPriceRange2'] = Attributes['RestaurantsPriceRange2'].map(mapping).astype(bool)"
   ]
  },
  {
   "cell_type": "code",
   "execution_count": null,
   "metadata": {},
   "outputs": [],
   "source": [
    "# Eliminar las columnas 'GoodForKids' y 'BusinessAcceptsBitcoin' del DataFrame\n",
    "Attributes = Attributes.drop(['GoodForKids', 'BusinessAcceptsBitcoin'], axis=1)"
   ]
  },
  {
   "cell_type": "code",
   "execution_count": null,
   "metadata": {},
   "outputs": [],
   "source": [
    "# Reemplazar NaN por False en el DataFrame Attributes\n",
    "Attributes = Attributes.fillna(0)"
   ]
  },
  {
   "cell_type": "code",
   "execution_count": null,
   "metadata": {},
   "outputs": [],
   "source": [
    "# Reemplazar True por 1 y False por 0 en el DataFrame Attributes\n",
    "Attributes = Attributes.replace({True: 1, False: 0})"
   ]
  },
  {
   "cell_type": "code",
   "execution_count": null,
   "metadata": {},
   "outputs": [],
   "source": [
    "# Renombrar la columna 'RestaurantsPriceRange2' a 'Food'\n",
    "Attributes = Attributes.rename(columns={'RestaurantsPriceRange2': 'Food'})"
   ]
  },
  {
   "cell_type": "code",
   "execution_count": null,
   "metadata": {},
   "outputs": [],
   "source": [
    "# Identificar las columnas que deseas combinar en una sola\n",
    "columns_to_combine = ['BusinessAcceptsCreditCards', 'BikeParking', 'WheelchairAccessible', 'ByAppointmentOnly', 'WiFi', 'Food', 'CarParking']\n",
    "\n",
    "# Usar melt para combinar las columnas en una sola\n",
    "Attributes = Attributes.melt(id_vars=['business_id'], value_vars=columns_to_combine, var_name='attributes', value_name='value')\n",
    "\n",
    "# Filtrar solo los valores True y False\n",
    "Attributes['value'] = Attributes['value'].replace({True: 1, False: 0})\n"
   ]
  },
  {
   "cell_type": "code",
   "execution_count": null,
   "metadata": {},
   "outputs": [],
   "source": [
    "# Inicializar un contador\n",
    "counter = 1\n",
    "\n",
    "# Crear una lista vacía para almacenar los datos formateados\n",
    "formatted_data = []\n",
    "\n",
    "# Iterar sobre cada fila del DataFrame original\n",
    "for index, row in Attributes.iterrows():\n",
    "    business_id = row['business_id']\n",
    "    attribute = row['Attributes']\n",
    "    value = row['Values']\n",
    "    \n",
    "    # Agregar la combinación de 'business_id', 'attribute', 'value' y 'attributes_id' a la lista\n",
    "    formatted_data.append({'business_id': business_id, 'Attributes': attribute, 'Values': value, 'attributes_id': 'a-' + str(counter)})\n",
    "    \n",
    "    # Incrementar el contador\n",
    "    counter += 1\n",
    "\n",
    "# Crear un nuevo DataFrame a partir de la lista de datos formateados\n",
    "Atributes = pd.DataFrame(formatted_data)"
   ]
  },
  {
   "cell_type": "markdown",
   "metadata": {},
   "source": [
    "## 3.5 Dataset Business Yelp"
   ]
  },
  {
   "cell_type": "markdown",
   "metadata": {},
   "source": [
    "### 3.5.1. Transformacion de Datos"
   ]
  },
  {
   "cell_type": "code",
   "execution_count": 21,
   "metadata": {},
   "outputs": [],
   "source": [
    "from ast import literal_eval\n",
    "\n",
    "# Crear una lista vacía para almacenar las filas de la nueva tabla\n",
    "opening_hours = []\n",
    "\n",
    "# Iterar sobre cada fila en la tabla 'Business'\n",
    "for idx, row in Business.iterrows():\n",
    "    # Extraer los horarios de operación\n",
    "    hours_str = row['hours']\n",
    "    try:\n",
    "        # Convertir la cadena de texto a un diccionario\n",
    "        hours = literal_eval(hours_str)\n",
    "        # Iterar sobre cada día de la semana en los horarios de operación\n",
    "        for day, time in hours.items():\n",
    "            # Dividir el horario en 'hora de apertura' y 'hora de cierre'\n",
    "            opening_time, closing_time = time.split('-')\n",
    "            # Agregar una nueva fila a la lista\n",
    "            opening_hours.append([row['business_id'], day, opening_time, closing_time])\n",
    "    except (ValueError, SyntaxError):\n",
    "        # Manejar el caso en el que la cadena no sea un diccionario válido\n",
    "        pass\n",
    "\n",
    "# Convertir la lista en una tabla de pandas\n",
    "opening_hours = pd.DataFrame(opening_hours, columns=['business_id', 'day_of_week', 'opening_time', 'closing_time'])\n"
   ]
  },
  {
   "cell_type": "markdown",
   "metadata": {},
   "source": [
    "### 3.5.2 Exploracion de datos"
   ]
  },
  {
   "cell_type": "code",
   "execution_count": 22,
   "metadata": {},
   "outputs": [
    {
     "data": {
      "text/html": [
       "<div>\n",
       "<style scoped>\n",
       "    .dataframe tbody tr th:only-of-type {\n",
       "        vertical-align: middle;\n",
       "    }\n",
       "\n",
       "    .dataframe tbody tr th {\n",
       "        vertical-align: top;\n",
       "    }\n",
       "\n",
       "    .dataframe thead th {\n",
       "        text-align: right;\n",
       "    }\n",
       "</style>\n",
       "<table border=\"1\" class=\"dataframe\">\n",
       "  <thead>\n",
       "    <tr style=\"text-align: right;\">\n",
       "      <th></th>\n",
       "      <th>business_id</th>\n",
       "      <th>day_of_week</th>\n",
       "      <th>opening_time</th>\n",
       "      <th>closing_time</th>\n",
       "    </tr>\n",
       "  </thead>\n",
       "  <tbody>\n",
       "    <tr>\n",
       "      <th>0</th>\n",
       "      <td>9Rww8yE6Dm4dSMEq09nwXg</td>\n",
       "      <td>Tuesday</td>\n",
       "      <td>9:30</td>\n",
       "      <td>19:0</td>\n",
       "    </tr>\n",
       "    <tr>\n",
       "      <th>1</th>\n",
       "      <td>9Rww8yE6Dm4dSMEq09nwXg</td>\n",
       "      <td>Wednesday</td>\n",
       "      <td>9:30</td>\n",
       "      <td>19:0</td>\n",
       "    </tr>\n",
       "    <tr>\n",
       "      <th>2</th>\n",
       "      <td>9Rww8yE6Dm4dSMEq09nwXg</td>\n",
       "      <td>Thursday</td>\n",
       "      <td>9:30</td>\n",
       "      <td>19:0</td>\n",
       "    </tr>\n",
       "    <tr>\n",
       "      <th>3</th>\n",
       "      <td>9Rww8yE6Dm4dSMEq09nwXg</td>\n",
       "      <td>Friday</td>\n",
       "      <td>9:30</td>\n",
       "      <td>19:0</td>\n",
       "    </tr>\n",
       "    <tr>\n",
       "      <th>4</th>\n",
       "      <td>9Rww8yE6Dm4dSMEq09nwXg</td>\n",
       "      <td>Saturday</td>\n",
       "      <td>9:30</td>\n",
       "      <td>19:0</td>\n",
       "    </tr>\n",
       "  </tbody>\n",
       "</table>\n",
       "</div>"
      ],
      "text/plain": [
       "              business_id day_of_week opening_time closing_time\n",
       "0  9Rww8yE6Dm4dSMEq09nwXg     Tuesday         9:30         19:0\n",
       "1  9Rww8yE6Dm4dSMEq09nwXg   Wednesday         9:30         19:0\n",
       "2  9Rww8yE6Dm4dSMEq09nwXg    Thursday         9:30         19:0\n",
       "3  9Rww8yE6Dm4dSMEq09nwXg      Friday         9:30         19:0\n",
       "4  9Rww8yE6Dm4dSMEq09nwXg    Saturday         9:30         19:0"
      ]
     },
     "execution_count": 22,
     "metadata": {},
     "output_type": "execute_result"
    }
   ],
   "source": [
    "opening_hours.head()"
   ]
  },
  {
   "cell_type": "code",
   "execution_count": 23,
   "metadata": {},
   "outputs": [
    {
     "name": "stdout",
     "output_type": "stream",
     "text": [
      "<class 'pandas.core.frame.DataFrame'>\n",
      "RangeIndex: 4837 entries, 0 to 4836\n",
      "Data columns (total 4 columns):\n",
      " #   Column        Non-Null Count  Dtype \n",
      "---  ------        --------------  ----- \n",
      " 0   business_id   4837 non-null   object\n",
      " 1   day_of_week   4837 non-null   object\n",
      " 2   opening_time  4837 non-null   object\n",
      " 3   closing_time  4837 non-null   object\n",
      "dtypes: object(4)\n",
      "memory usage: 151.3+ KB\n"
     ]
    }
   ],
   "source": [
    "opening_hours.info()"
   ]
  },
  {
   "cell_type": "code",
   "execution_count": 24,
   "metadata": {},
   "outputs": [
    {
     "name": "stdout",
     "output_type": "stream",
     "text": [
      "              business_id day_of_week opening_time closing_time  \\\n",
      "0  9Rww8yE6Dm4dSMEq09nwXg     Tuesday         9:30         19:0   \n",
      "1  9Rww8yE6Dm4dSMEq09nwXg   Wednesday         9:30         19:0   \n",
      "2  9Rww8yE6Dm4dSMEq09nwXg    Thursday         9:30         19:0   \n",
      "3  9Rww8yE6Dm4dSMEq09nwXg      Friday         9:30         19:0   \n",
      "4  9Rww8yE6Dm4dSMEq09nwXg    Saturday         9:30         19:0   \n",
      "\n",
      "  opening_hours_id  \n",
      "0           op-001  \n",
      "1           op-002  \n",
      "2           op-003  \n",
      "3           op-004  \n",
      "4           op-005  \n"
     ]
    }
   ],
   "source": [
    "# Crear un contador para generar los IDs de las horas de apertura\n",
    "counter = 1\n",
    "\n",
    "# Función para generar el ID de las horas de apertura\n",
    "def generate_opening_hours_id():\n",
    "    global counter\n",
    "    opening_hours_id = f\"op-{counter:03d}\"\n",
    "    counter += 1\n",
    "    return opening_hours_id\n",
    "\n",
    "# Aplicar la función para crear la columna opening_hours_id\n",
    "opening_hours['opening_hours_id'] = opening_hours.apply(lambda x: generate_opening_hours_id(), axis=1)\n",
    "\n",
    "# Mostrar el DataFrame resultante\n",
    "print(opening_hours.head())"
   ]
  },
  {
   "cell_type": "markdown",
   "metadata": {},
   "source": [
    "Creo el indice de la tabla Open Hours"
   ]
  },
  {
   "cell_type": "code",
   "execution_count": 26,
   "metadata": {},
   "outputs": [],
   "source": [
    "opening_hours = opening_hours[['opening_hours_id', 'business_id', 'day_of_week', 'opening_time', 'closing_time']]"
   ]
  },
  {
   "cell_type": "markdown",
   "metadata": {},
   "source": [
    "Ordeno las columnas de la tabla hours"
   ]
  },
  {
   "cell_type": "markdown",
   "metadata": {},
   "source": [
    "# 4. Carga de Datos"
   ]
  },
  {
   "cell_type": "code",
   "execution_count": null,
   "metadata": {},
   "outputs": [],
   "source": [
    "\n",
    "User.to_csv('Datos/Users.csv', index= False)\n",
    "attribute.to_csv('Datos/Attributes.csv', index= False)\n",
    "opening_hours.to_csv('Datos/Opening_Hours.csv', index= False)"
   ]
  },
  {
   "cell_type": "code",
   "execution_count": null,
   "metadata": {},
   "outputs": [],
   "source": []
  }
 ],
 "metadata": {
  "kernelspec": {
   "display_name": "PF",
   "language": "python",
   "name": "python3"
  },
  "language_info": {
   "codemirror_mode": {
    "name": "ipython",
    "version": 3
   },
   "file_extension": ".py",
   "mimetype": "text/x-python",
   "name": "python",
   "nbconvert_exporter": "python",
   "pygments_lexer": "ipython3",
   "version": "3.11.8"
  }
 },
 "nbformat": 4,
 "nbformat_minor": 2
}
